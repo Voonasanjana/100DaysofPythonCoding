{
 "cells": [
  {
   "cell_type": "code",
   "execution_count": null,
   "metadata": {},
   "outputs": [],
   "source": [
    "#1 day\n"
   ]
  },
  {
   "cell_type": "markdown",
   "metadata": {},
   "source": [
    "# Avg of numbers"
   ]
  },
  {
   "cell_type": "code",
   "execution_count": null,
   "metadata": {},
   "outputs": [],
   "source": [
    "n=int(input(\"enter a no of elements:\"))\n",
    "arr=list(map(int,input().strip().split()))[:n]\n",
    "print(\"avg :\",sum(arr)/n)"
   ]
  },
  {
   "cell_type": "code",
   "execution_count": null,
   "metadata": {},
   "outputs": [],
   "source": [
    "n=int(input(\"enter a no of elements:\"))\n",
    "a=[]\n",
    "for i in range(0,n):\n",
    "    e=int(input(\"enter a element:\"))\n",
    "    a.append(e)\n",
    "avg=sum(a)/n\n",
    "print(\"Average of elements in the list\",round(avg,2))    "
   ]
  },
  {
   "cell_type": "code",
   "execution_count": null,
   "metadata": {},
   "outputs": [],
   "source": [
    "#2 day"
   ]
  },
  {
   "cell_type": "markdown",
   "metadata": {},
   "source": [
    "# SWAPING TWO NUMBERS WITHOUT 3RD VARIABLE"
   ]
  },
  {
   "cell_type": "code",
   "execution_count": null,
   "metadata": {},
   "outputs": [],
   "source": [
    "#1 way\n",
    "a=int(input(\"enter a first variable: \"))#2\n",
    "b=int(input(\"enter a second variable: \"))#3\n",
    "a=a+b  #5\n",
    "b=a-b  #2\n",
    "a=a-b  #3\n",
    "print(a,\"first variable\")\n",
    "print(b,\"second variable\")"
   ]
  },
  {
   "cell_type": "code",
   "execution_count": null,
   "metadata": {},
   "outputs": [],
   "source": [
    "#2 way\n",
    "a=int(input())\n",
    "b=int(input())\n",
    "a,b = b,a\n",
    "print(\"after swapping :\\n\" \"a is\",a,\"\\n\"\"b is\",b)"
   ]
  },
  {
   "cell_type": "code",
   "execution_count": null,
   "metadata": {},
   "outputs": [],
   "source": [
    "#Swap two numbers using arithmetic operators* & /\n",
    "a = int(input(\"Enter the first number: \")) #4\n",
    "b = int(input(\"Enter the second number: \"))#5\n",
    "\n",
    "#swapping using arithmetic opertors * & /\n",
    "a = a * b #20\n",
    "b = a / b #4\n",
    "a = a / b #5\n",
    "\n",
    "#printing the output\n",
    "print(\"Swapped value of x is %d & y is %d\" %(a,b))"
   ]
  },
  {
   "cell_type": "code",
   "execution_count": null,
   "metadata": {},
   "outputs": [],
   "source": [
    "#Swap two numbers using bitwise operators\n",
    "a = int(input(\"Enter the first number: \"))\n",
    "b = int(input(\"Enter the second number: \"))\n",
    "\n",
    "#swapping using bitwise operators\n",
    "a = a ^ b\n",
    "b = a ^ b\n",
    "a = a ^ b\n",
    "\n",
    "#printing the output\n",
    "print(\"Swapped value of x is %d & y is %d\" %(a,b))"
   ]
  },
  {
   "cell_type": "code",
   "execution_count": null,
   "metadata": {},
   "outputs": [],
   "source": [
    "#3 day"
   ]
  },
  {
   "cell_type": "markdown",
   "metadata": {},
   "source": [
    "# Python Program to Read a Mumber n and Compute n+nn+nnn"
   ]
  },
  {
   "cell_type": "code",
   "execution_count": 1,
   "metadata": {},
   "outputs": [
    {
     "name": "stdout",
     "output_type": "stream",
     "text": [
      "enter a number n: 2\n",
      "2\n",
      "22\n",
      "222\n",
      "The value is: 246\n"
     ]
    }
   ],
   "source": [
    "n=int(input(\"enter a number n: \"))\n",
    "temp=str(n)\n",
    "t1=temp+temp\n",
    "t2=temp+temp+temp\n",
    "print(temp)\n",
    "print(t1)\n",
    "print(t2)\n",
    "comp=n+int(t1)+int(t2)\n",
    "print(\"The value is:\",comp)"
   ]
  },
  {
   "cell_type": "code",
   "execution_count": 2,
   "metadata": {},
   "outputs": [
    {
     "name": "stdout",
     "output_type": "stream",
     "text": [
      "enter a number : 2\n",
      "2 22 222\n",
      "246\n"
     ]
    }
   ],
   "source": [
    "n=int(input(\"enter a number : \"))\n",
    "n1=(\"{}\".format(n))\n",
    "n2=(\"{}{}\".format(n,n))\n",
    "n3=(\"{}{}{}\".format(n,n,n))\n",
    "result = int(n1)+int(n2)+int(n3)\n",
    "print(n1,n2,n3)\n",
    "print(result)"
   ]
  },
  {
   "cell_type": "code",
   "execution_count": 3,
   "metadata": {},
   "outputs": [
    {
     "name": "stdout",
     "output_type": "stream",
     "text": [
      "enter a number: 2\n",
      "246\n"
     ]
    }
   ],
   "source": [
    "n=int(input(\"enter a number: \"))\n",
    "\n",
    "t1=n \n",
    "t2= ((n*10)+n)\n",
    "t3=((n*100)+(n*10)+n)\n",
    "print(t1+t2+t3)"
   ]
  },
  {
   "cell_type": "code",
   "execution_count": null,
   "metadata": {},
   "outputs": [],
   "source": [
    "n=int(input(\"enter a number: \"))\n",
    "a=n\n",
    "z=n\n",
    "for i in range(3):\n",
    "    #print(i)\n",
    "    c=int(str(n)+str(a))\n",
    "    n=c\n",
    "    z= c +z\n",
    "    print(c)\n",
    "print(z)#sum"
   ]
  },
  {
   "cell_type": "code",
   "execution_count": null,
   "metadata": {},
   "outputs": [],
   "source": [
    "n=int(input(\"enter a number: \"))\n",
    "a = n\n",
    "z = n\n",
    "for i in range(n-1):\n",
    "    #print(i)\n",
    "    c=int(str(n)+str(a))\n",
    "    n=c\n",
    "    z= c +z\n",
    "    print(c)\n",
    "print(z)#sum"
   ]
  },
  {
   "cell_type": "code",
   "execution_count": null,
   "metadata": {},
   "outputs": [],
   "source": [
    "# Day 4"
   ]
  },
  {
   "cell_type": "markdown",
   "metadata": {},
   "source": [
    "# Python Program to Print all Numbers in a Range Divisible by a Given Number"
   ]
  },
  {
   "cell_type": "code",
   "execution_count": null,
   "metadata": {},
   "outputs": [],
   "source": [
    "lower=int(input(\"enter the lower limit: \"))\n",
    "upper=int(input(\"enter the higher limit: \"))\n",
    "n=int(input(\"enter the number divided by: \"))\n",
    "for i in range(lower,upper+1):\n",
    "    if (i%n==0):\n",
    "        print(i)"
   ]
  },
  {
   "cell_type": "markdown",
   "metadata": {},
   "source": [
    "# Python Program to Reverse a Given Number"
   ]
  },
  {
   "cell_type": "code",
   "execution_count": null,
   "metadata": {},
   "outputs": [],
   "source": [
    "n=int(input(\"enter number: \"))\n",
    "reverse=0\n",
    "while(n!=0):\n",
    "    dig=n%10\n",
    "    reverse=reverse*10+dig\n",
    "    n=n//10\n",
    "print(\"reverse of number: \",reverse)"
   ]
  },
  {
   "cell_type": "code",
   "execution_count": null,
   "metadata": {},
   "outputs": [],
   "source": [
    "x=input(\"enter a number or string or both\")[::-1]\n",
    "print(\"reversed\",x)"
   ]
  },
  {
   "cell_type": "code",
   "execution_count": null,
   "metadata": {},
   "outputs": [],
   "source": [
    "print(input()[::-1])"
   ]
  },
  {
   "cell_type": "code",
   "execution_count": null,
   "metadata": {},
   "outputs": [],
   "source": [
    "#5 Day"
   ]
  },
  {
   "cell_type": "markdown",
   "metadata": {},
   "source": [
    "# Python Program to Count the Number of Digits in a Number"
   ]
  },
  {
   "cell_type": "code",
   "execution_count": 4,
   "metadata": {},
   "outputs": [
    {
     "name": "stdout",
     "output_type": "stream",
     "text": [
      "Enter a number : 33344\n",
      "no of digit in a number: 5\n"
     ]
    }
   ],
   "source": [
    "n=int(input(\"Enter a number : \"))\n",
    "count=0\n",
    "while(n>0):\n",
    "    count=count+1\n",
    "    n=n//10\n",
    "print(\"no of digit in a number:\" , count)\n",
    "    "
   ]
  },
  {
   "cell_type": "code",
   "execution_count": null,
   "metadata": {},
   "outputs": [],
   "source": [
    "import math \n",
    "  \n",
    "def countDigit(n): \n",
    "    return math.floor(math.log(n, 10)+1) \n",
    "  \n",
    "# Driver Code \n",
    "n = 345289467\n",
    "print (\"Number of digits : % d\"%(countDigit(n))) "
   ]
  },
  {
   "cell_type": "code",
   "execution_count": null,
   "metadata": {},
   "outputs": [],
   "source": [
    "import math\n",
    "n = int(input(\"enter a number: \"))\n",
    "digit = math.floor(math.log(n,10)+1)\n",
    "print(\"the no of digits\",digit)"
   ]
  },
  {
   "cell_type": "code",
   "execution_count": 5,
   "metadata": {},
   "outputs": [
    {
     "name": "stdout",
     "output_type": "stream",
     "text": [
      "enter a number : 33344\n",
      "no of digit 5\n"
     ]
    }
   ],
   "source": [
    "n=int(input(\"enter a number : \"))\n",
    "n=str(n)\n",
    "length=len(n)\n",
    "print(\"no of digit\" , length)"
   ]
  },
  {
   "cell_type": "code",
   "execution_count": null,
   "metadata": {},
   "outputs": [],
   "source": [
    "# Day 6"
   ]
  },
  {
   "cell_type": "markdown",
   "metadata": {},
   "source": [
    "# Python Program to Read Height in Centimeters and then Convert the Height to Feet and Inches"
   ]
  },
  {
   "cell_type": "code",
   "execution_count": null,
   "metadata": {},
   "outputs": [],
   "source": [
    "cm=float(input(\"enter the height : \")) #  centimeters in height\n",
    "inches=0.394*cm \n",
    "feet=0.0328*cm    \n",
    "print(\"The length in inches\",round(inches,2))\n",
    "print(\"The length in feet\",round(feet,2))"
   ]
  },
  {
   "cell_type": "code",
   "execution_count": null,
   "metadata": {},
   "outputs": [],
   "source": [
    "height_cm = float(input(\"Enter your height in cm: \")) #ht in cm\n",
    "height_in = height_cm / 2.54  \n",
    "feet = height_in // 12     # 1 foot = 12 inch\n",
    "inches = height_in % 12\n",
    "inches_rounded = format(inches, \".2f\")\n",
    "print(f\"Height is {feet} ft {inches_rounded} in\")"
   ]
  },
  {
   "cell_type": "code",
   "execution_count": null,
   "metadata": {},
   "outputs": [],
   "source": [
    "# feet into cm\n",
    "print(\"Input your height: \")\n",
    "h_ft = int(input(\"Feet: \"))\n",
    "h_inch = int(input(\"Inches: \"))\n",
    "h_inch += h_ft * 12\n",
    "h_cm = round(h_inch * 2.54, 1) # 1 inch = 2.54cm\n",
    "print(\"Your height is : %d cm.\" % h_cm)"
   ]
  },
  {
   "cell_type": "code",
   "execution_count": null,
   "metadata": {},
   "outputs": [],
   "source": [
    "#DAY 7"
   ]
  },
  {
   "cell_type": "markdown",
   "metadata": {},
   "source": [
    "# Python Program to Check Whether a Number is Positive or Negative"
   ]
  },
  {
   "cell_type": "code",
   "execution_count": 7,
   "metadata": {},
   "outputs": [
    {
     "name": "stdout",
     "output_type": "stream",
     "text": [
      "enter a number: 0\n",
      "this is a negative number\n"
     ]
    }
   ],
   "source": [
    "n = int(input(\"enter a number: \"))\n",
    "if(n>0):\n",
    "    print(\"This is a positive number\")\n",
    "else:\n",
    "    print(\"this is a negative number\")"
   ]
  },
  {
   "cell_type": "code",
   "execution_count": 6,
   "metadata": {},
   "outputs": [
    {
     "name": "stdout",
     "output_type": "stream",
     "text": [
      "Enter a number: -4\n",
      "-4.0 is negative number\n"
     ]
    }
   ],
   "source": [
    "num = float(input(\"Enter a number: \"))  \n",
    "  \n",
    "if num > 0:  \n",
    "    print(\"{0} is a positive number\".format(num))  \n",
    "elif num == 0:  \n",
    "    print(\"{0} is zero\".format(num))   \n",
    "else:  \n",
    "    print(\"{0} is negative number\".format(num))   "
   ]
  },
  {
   "cell_type": "code",
   "execution_count": 8,
   "metadata": {},
   "outputs": [
    {
     "name": "stdout",
     "output_type": "stream",
     "text": [
      "enter height in cm: 33\n",
      "height is  1.0 feet 0.9921259842519685 inches\n"
     ]
    }
   ],
   "source": [
    "ht=int(input(\"enter height in cm: \"))\n",
    "ht = ht/2.54 # 1 inch = 2.54cm\n",
    "print(\"height is \", ht//12 , \"feet\", ht%12 ,\"inches\")"
   ]
  },
  {
   "cell_type": "code",
   "execution_count": null,
   "metadata": {},
   "outputs": [],
   "source": [
    "# day 8"
   ]
  },
  {
   "cell_type": "markdown",
   "metadata": {},
   "source": [
    "# Python Program to Take in the Marks of 5 Subjects and Display the Grade"
   ]
  },
  {
   "cell_type": "code",
   "execution_count": null,
   "metadata": {},
   "outputs": [],
   "source": [
    "sub1=int(input(\"Enter marks of the first subject: \"))\n",
    "sub2=int(input(\"Enter marks of the second subject: \"))\n",
    "sub3=int(input(\"Enter marks of the third subject: \"))\n",
    "sub4=int(input(\"Enter marks of the fourth subject: \"))\n",
    "sub5=int(input(\"Enter marks of the fifth subject: \"))\n",
    "avg=float(sub1+sub2+sub3+sub4+sub4)/5\n",
    "print(\"The avg mark is\", avg)\n",
    "if(avg>=90):\n",
    "    print(\"Grade: A\")\n",
    "elif(avg>=80 and avg<90):\n",
    "    print(\"Grade: B\")\n",
    "elif(avg>=70 and avg<80):\n",
    "    print(\"Grade: C\")\n",
    "elif(avg>=60 and avg<70):\n",
    "    print(\"Grade: D\")\n",
    "else:\n",
    "    print(\"Grade: F\")"
   ]
  },
  {
   "cell_type": "code",
   "execution_count": null,
   "metadata": {},
   "outputs": [],
   "source": [
    "#day 9"
   ]
  },
  {
   "cell_type": "markdown",
   "metadata": {},
   "source": [
    "# Python Program to Read Two Numbers and Print Their Quotient and Remainder"
   ]
  },
  {
   "cell_type": "code",
   "execution_count": null,
   "metadata": {},
   "outputs": [],
   "source": [
    "n1=int(input(\"enter a 1st number: \"))\n",
    "n2=int(input(\"enter a 2nd number: \"))\n",
    "quotient =n1//n2\n",
    "reminder = n1%n2\n",
    "print(\"Quotient is \", quotient)\n",
    "print(\"reminder is\", reminder)"
   ]
  },
  {
   "cell_type": "markdown",
   "metadata": {},
   "source": [
    "# Python Program to Accept Three Digits and Print all Possible Combinations from the Digits"
   ]
  },
  {
   "cell_type": "code",
   "execution_count": 11,
   "metadata": {},
   "outputs": [
    {
     "name": "stdout",
     "output_type": "stream",
     "text": [
      "1st number:1\n",
      "2nd number:2\n",
      "3rd number:3\n",
      "[(1 2 3)]\n",
      "[(1 3 2)]\n",
      "[(2 1 3)]\n",
      "[(2 3 1)]\n",
      "[(3 1 2)]\n",
      "[(3 2 1)]\n"
     ]
    }
   ],
   "source": [
    "n1=int(input(\"1st number:\"))\n",
    "n2=int(input(\"2nd number:\"))\n",
    "n3=int(input(\"3rd number:\"))\n",
    "d=[]\n",
    "d.append(n1)\n",
    "d.append(n2)\n",
    "d.append(n3)\n",
    "for i in range(0,3):\n",
    "    for j in range(0,3):\n",
    "        for k in range(0,3):\n",
    "            if(i!=j&j!=k&k!=i):\n",
    "                print(\"[({} {} {})]\".format(d[i],d[j],d[k]))"
   ]
  },
  {
   "cell_type": "code",
   "execution_count": 10,
   "metadata": {},
   "outputs": [
    {
     "name": "stdout",
     "output_type": "stream",
     "text": [
      "1st number:1\n",
      "2nd number:3\n",
      "3rd number:5\n",
      "[(1, 3, 5)]\n",
      "[(1, 5, 3)]\n",
      "[(3, 1, 5)]\n",
      "[(3, 5, 1)]\n",
      "[(5, 1, 3)]\n",
      "[(5, 3, 1)]\n"
     ]
    }
   ],
   "source": [
    "from itertools import permutations \n",
    "#Get all permutations of [1, 2, 3] \n",
    "n1=int(input(\"1st number:\"))\n",
    "n2=int(input(\"2nd number:\"))\n",
    "n3=int(input(\"3rd number:\"))\n",
    "perm = permutations([n1, n2, n3],3) \n",
    "  \n",
    "# Print the obtained permutations \n",
    "# of length 3 \n",
    "for i in list(perm): \n",
    "    print (\"[{}]\".format(i)) "
   ]
  },
  {
   "cell_type": "code",
   "execution_count": null,
   "metadata": {},
   "outputs": [],
   "source": [
    "# day 10"
   ]
  },
  {
   "cell_type": "markdown",
   "metadata": {},
   "source": [
    "# Python Program to Print Odd Numbers Within a Given Range"
   ]
  },
  {
   "cell_type": "code",
   "execution_count": null,
   "metadata": {},
   "outputs": [],
   "source": [
    "lower=int(input(\"enter the lower limit: \"))\n",
    "higher=int(input(\"enter the higher limit: \"))\n",
    "print(\"The odd numbers are :\")\n",
    "for i in range(lower, higher):\n",
    "    if (i%2 !=0):\n",
    "        print(i)"
   ]
  },
  {
   "cell_type": "markdown",
   "metadata": {},
   "source": [
    "# Python Program to Find the Smallest Divisor of an Integer"
   ]
  },
  {
   "cell_type": "code",
   "execution_count": 12,
   "metadata": {},
   "outputs": [
    {
     "name": "stdout",
     "output_type": "stream",
     "text": [
      "enter a integer number:34\n",
      "[1, 2, 17, 34]\n",
      "Smallest divisor is: 2\n"
     ]
    }
   ],
   "source": [
    "n=int(input(\"enter a integer number:\"))\n",
    "a=[]\n",
    "for i in range (1, n+1):\n",
    "    if (n%i==0):\n",
    "        a.append(i)\n",
    "a.sort()\n",
    "print(a)\n",
    "print(\"Smallest divisor is:\",a[1])"
   ]
  },
  {
   "cell_type": "code",
   "execution_count": 13,
   "metadata": {},
   "outputs": [
    {
     "name": "stdout",
     "output_type": "stream",
     "text": [
      "enter any digit34\n",
      "[2, 17, 34]\n",
      "2\n"
     ]
    }
   ],
   "source": [
    "X = int(input(\"enter any digit\"))\n",
    "DivisorRange = range(2 , X+1)\n",
    "list = [ i for i in DivisorRange if X%i==0]\n",
    "print(list)\n",
    "#for getting the smallest prime divisor\n",
    "print(list[0])"
   ]
  },
  {
   "cell_type": "code",
   "execution_count": null,
   "metadata": {},
   "outputs": [],
   "source": [
    "#11 day"
   ]
  },
  {
   "cell_type": "markdown",
   "metadata": {},
   "source": [
    "# Python Program to Check if a Number is a Palindrome"
   ]
  },
  {
   "cell_type": "code",
   "execution_count": null,
   "metadata": {},
   "outputs": [],
   "source": [
    "n=int(input(\"enter a number: \"))\n",
    "temp=n\n",
    "rev=0\n",
    "while(n!=0):   #121\n",
    "    dig=n%10     #dig=121%10 \n",
    "    rev=rev*10+dig\n",
    "    n=n//10\n",
    "if(temp==rev):\n",
    "    print(\"The number is a palindrome!\")\n",
    "else:\n",
    "    print(\"The number isn't a palindrome!\")"
   ]
  },
  {
   "cell_type": "code",
   "execution_count": null,
   "metadata": {},
   "outputs": [],
   "source": [
    "string=input((\"Enter a string:\")) #both for strings and int\n",
    "if(string==string[::-1]):\n",
    "      print(\"The string is a palindrome\")\n",
    "else:\n",
    "      print(\"Not a palindrome\")"
   ]
  },
  {
   "cell_type": "code",
   "execution_count": null,
   "metadata": {},
   "outputs": [],
   "source": [
    "# Program to check if a string is palindrome or not\n",
    "\n",
    "number =int(input())\n",
    "my_str=str(number)\n",
    "\n",
    "\n",
    "# make it suitable for caseless comparison\n",
    "my_str = my_str.casefold()\n",
    "\n",
    "# reverse the string\n",
    "rev_str = reversed(my_str)\n",
    "\n",
    "# check if the string is equal to its reverse\n",
    "if list(my_str) == list(rev_str):\n",
    "    print(\"The string is a palindrome.\")\n",
    "else:\n",
    "   print(\"The string is not a palindrome.\")"
   ]
  },
  {
   "cell_type": "code",
   "execution_count": null,
   "metadata": {},
   "outputs": [],
   "source": [
    "#day 12"
   ]
  },
  {
   "cell_type": "markdown",
   "metadata": {},
   "source": [
    "# Python Program to Print all Integers that Aren’t Divisible by Either 2 or 3 and Lie between 1 and 50"
   ]
  },
  {
   "cell_type": "code",
   "execution_count": null,
   "metadata": {},
   "outputs": [],
   "source": [
    "for i in range(1,50):\n",
    "    if(i%2!=0 and i%3!=0):\n",
    "          print(i ,sep=\"  \",end=\" \")"
   ]
  },
  {
   "cell_type": "markdown",
   "metadata": {},
   "source": [
    "# Python Program to Read a Number n And Print the Series “1+2+…..+n= “"
   ]
  },
  {
   "cell_type": "code",
   "execution_count": 14,
   "metadata": {},
   "outputs": [
    {
     "name": "stdout",
     "output_type": "stream",
     "text": [
      "enter a number: 9\n",
      "1 + 2 + 3 + 4 + 5 + 6 + 7 + 8 + 9 = 45\n"
     ]
    }
   ],
   "source": [
    "n=int(input(\"enter a number: \"))\n",
    "a=[]\n",
    "for i in range(1,n+1):\n",
    "    print(i,sep=\" \",end=\" \")\n",
    "    if (i<n):\n",
    "        print(\"+\",sep=\" \",end=\" \")\n",
    "    a.append(i)\n",
    "print(\"=\",sum(a))\n",
    "#print()"
   ]
  },
  {
   "cell_type": "code",
   "execution_count": null,
   "metadata": {},
   "outputs": [],
   "source": [
    "num=int(input(\"enter a number: \"))\n",
    "total_sum =0 \n",
    "for i in range(1,num): \n",
    "    total_sum+=i \n",
    "    print(i,end='+') \n",
    "print(num,'=', total_sum+num,end=' ') "
   ]
  },
  {
   "cell_type": "code",
   "execution_count": 15,
   "metadata": {},
   "outputs": [
    {
     "name": "stdout",
     "output_type": "stream",
     "text": [
      "Enter n: 9\n",
      "45\n"
     ]
    }
   ],
   "source": [
    "#without showing series\n",
    "num = int(input('Enter n: ')) \n",
    "print ((num*(num+1))//2)  #(n*(n+1)//2) formula for sum of the series"
   ]
  },
  {
   "cell_type": "code",
   "execution_count": 16,
   "metadata": {},
   "outputs": [
    {
     "name": "stdout",
     "output_type": "stream",
     "text": [
      "enter a number: 9\n"
     ]
    },
    {
     "data": {
      "text/plain": [
       "45"
      ]
     },
     "execution_count": 16,
     "metadata": {},
     "output_type": "execute_result"
    }
   ],
   "source": [
    "num=int(input(\"enter a number: \"))\n",
    "sum(range(1,num+1))"
   ]
  },
  {
   "cell_type": "code",
   "execution_count": null,
   "metadata": {},
   "outputs": [],
   "source": [
    "#13 DAY"
   ]
  },
  {
   "cell_type": "markdown",
   "metadata": {},
   "source": [
    "# Python Program to Read a Number n and Print the Natural Numbers Summation Pattern"
   ]
  },
  {
   "cell_type": "code",
   "execution_count": 17,
   "metadata": {},
   "outputs": [
    {
     "name": "stdout",
     "output_type": "stream",
     "text": [
      "Enter a number: 9\n",
      "1 = 1\n",
      "1 + 2 = 3\n",
      "1 + 2 + 3 = 6\n",
      "1 + 2 + 3 + 4 = 10\n",
      "1 + 2 + 3 + 4 + 5 = 15\n",
      "1 + 2 + 3 + 4 + 5 + 6 = 21\n",
      "1 + 2 + 3 + 4 + 5 + 6 + 7 = 28\n",
      "1 + 2 + 3 + 4 + 5 + 6 + 7 + 8 = 36\n",
      "1 + 2 + 3 + 4 + 5 + 6 + 7 + 8 + 9 = 45\n",
      "\n"
     ]
    }
   ],
   "source": [
    "n=int(input(\"Enter a number: \"))\n",
    "for j in range(1,n+1):\n",
    "    a=[]\n",
    "    for i in range(1,j+1):\n",
    "        print(i,sep=\" \",end=\" \")\n",
    "        if(i<j):\n",
    "            print(\"+\",sep=\" \",end=\" \")\n",
    "        a.append(i)\n",
    "    print(\"=\",sum(a))\n",
    " \n",
    " \n",
    "print()\n",
    "    "
   ]
  },
  {
   "cell_type": "code",
   "execution_count": null,
   "metadata": {},
   "outputs": [],
   "source": [
    "num=int(input(\"enter a number: \"))\n",
    "for i in range(1,num+1):\n",
    "    r=sum(range(1,i+1))\n",
    "    print(r)"
   ]
  },
  {
   "cell_type": "code",
   "execution_count": null,
   "metadata": {},
   "outputs": [],
   "source": [
    "num = int(input('Enter n: ')) \n",
    "for i  in range(1,n+1):\n",
    "    print ((i*(i+1))//2) "
   ]
  },
  {
   "cell_type": "code",
   "execution_count": null,
   "metadata": {},
   "outputs": [],
   "source": [
    "#14 day"
   ]
  },
  {
   "cell_type": "markdown",
   "metadata": {},
   "source": [
    "# Python Program to Print an Identity Matrix"
   ]
  },
  {
   "cell_type": "code",
   "execution_count": 19,
   "metadata": {},
   "outputs": [
    {
     "name": "stdout",
     "output_type": "stream",
     "text": [
      "enter a number:3\n",
      "1 0 0 \n",
      "0 1 0 \n",
      "0 0 1 \n"
     ]
    }
   ],
   "source": [
    "n=int(input(\"enter a number:\"))\n",
    "for row in range(0,n):\n",
    "    for col in range(0,n):\n",
    "        if(row==col):\n",
    "            print(1,sep=\" \",end=\" \")\n",
    "        else:\n",
    "            print(0,sep=\" \",end=\" \")\n",
    "    print()"
   ]
  },
  {
   "cell_type": "code",
   "execution_count": 20,
   "metadata": {},
   "outputs": [
    {
     "name": "stdout",
     "output_type": "stream",
     "text": [
      "enter a number3\n",
      "Matrix c : \n",
      " [[1 0 0]\n",
      " [0 1 0]\n",
      " [0 0 1]]\n"
     ]
    }
   ],
   "source": [
    "import numpy as np\n",
    "b=int(input(\"enter a number\"))\n",
    "c= np.identity(b, dtype = int) \n",
    "print(\"Matrix c : \\n\", c)"
   ]
  },
  {
   "cell_type": "markdown",
   "metadata": {},
   "source": [
    "##### 15 day"
   ]
  },
  {
   "cell_type": "markdown",
   "metadata": {},
   "source": [
    "# Python Program to Print an Inverted  and normal Star Pattern"
   ]
  },
  {
   "cell_type": "code",
   "execution_count": 23,
   "metadata": {},
   "outputs": [
    {
     "name": "stdout",
     "output_type": "stream",
     "text": [
      "Enter number of rows: 5\n",
      "     \n",
      "    *\n",
      "   **\n",
      "  ***\n",
      " ****\n"
     ]
    }
   ],
   "source": [
    "n=int(input(\"Enter number of rows: \"))\n",
    "for i in range (n,0,-1):\n",
    "    \n",
    "    print(i * ' ' + (n-i) * '*')"
   ]
  },
  {
   "cell_type": "code",
   "execution_count": 24,
   "metadata": {},
   "outputs": [
    {
     "name": "stdout",
     "output_type": "stream",
     "text": [
      "Enter number of rows: 5\n",
      "*****\n",
      " ****\n",
      "  ***\n",
      "   **\n",
      "    *\n"
     ]
    }
   ],
   "source": [
    "n=int(input(\"Enter number of rows: \"))\n",
    "for i in range (n,0,-1):\n",
    "    \n",
    "    print((n-i) * ' ' + i * '*')"
   ]
  },
  {
   "cell_type": "code",
   "execution_count": 25,
   "metadata": {},
   "outputs": [
    {
     "name": "stdout",
     "output_type": "stream",
     "text": [
      "Enter number of rows: 5\n",
      "**********\n",
      " ********\n",
      "  ******\n",
      "   ****\n",
      "    **\n"
     ]
    }
   ],
   "source": [
    "n=int(input(\"Enter number of rows: \"))\n",
    "\n",
    "for i in range (n, 0, -1): \n",
    "    print((n-i) * ' ' + 2 * i * '*') "
   ]
  },
  {
   "cell_type": "code",
   "execution_count": 26,
   "metadata": {},
   "outputs": [
    {
     "name": "stdout",
     "output_type": "stream",
     "text": [
      " \n",
      "*  \n",
      "* *  \n",
      "* * *  \n",
      "* * * *  \n"
     ]
    }
   ],
   "source": [
    "rows=5\n",
    "for num in range(rows):\n",
    "    for i in range(num):\n",
    "        print(\"*\", end=\" \")  # print number\n",
    "    # line after each row to display pattern correctly\n",
    "    print(\" \")"
   ]
  },
  {
   "cell_type": "code",
   "execution_count": 27,
   "metadata": {},
   "outputs": [
    {
     "name": "stdout",
     "output_type": "stream",
     "text": [
      "* \n",
      "* * \n",
      "* * * \n",
      "* * * * \n",
      "* * * * * \n"
     ]
    }
   ],
   "source": [
    "rows = 5\n",
    "for i in range(1, rows+1):\n",
    "    for j in range(1, i + 1):\n",
    "        print(\"*\", end=' ')\n",
    "    print(\"\")"
   ]
  },
  {
   "cell_type": "code",
   "execution_count": null,
   "metadata": {},
   "outputs": [],
   "source": [
    "#16 day"
   ]
  },
  {
   "cell_type": "markdown",
   "metadata": {},
   "source": [
    "# Python Program to Read Print Prime Numbers in a Range using Sieve of Eratosthenes"
   ]
  },
  {
   "cell_type": "code",
   "execution_count": null,
   "metadata": {},
   "outputs": [],
   "source": [
    "n=int(input(\"Enter upper limit of range: \")) #10\n",
    "sieve=set(range(2,n+1)) #(2,11)\n",
    "while sieve:  \n",
    "    prime=min(sieve)\n",
    "    print(prime,end=\"\\t\")\n",
    "    sieve-=set(range(prime,n+1,prime))\n",
    " \n",
    "print()"
   ]
  },
  {
   "cell_type": "code",
   "execution_count": null,
   "metadata": {},
   "outputs": [],
   "source": [
    "n=int(input())\n",
    "prime_list = []\n",
    "for i in range(2, n+1):\n",
    "    if i not in prime_list:\n",
    "        print (i,end=\"\\t\")\n",
    "        for j in range(i*i, n+1, i):\n",
    "            prime_list.append(j)\n",
    "print(prime_list)"
   ]
  },
  {
   "cell_type": "code",
   "execution_count": null,
   "metadata": {},
   "outputs": [],
   "source": [
    "import math\n",
    "\n",
    "print (\"Enter the a number\")\n",
    "number = int(input())\n",
    "\n",
    "primes = []\n",
    "for i in range(2,number+1):\n",
    "    primes.append(i)\n",
    "\n",
    "i = 2\n",
    "#from 2 to sqrt(number)\n",
    "while(i <= int(math.sqrt(number))):\n",
    "    #if i is in list\n",
    "    #then we gotta delete its multiples\n",
    "    if i in primes:\n",
    "        #j will give multiples of i,\n",
    "        #starting from 2*i\n",
    "        for j in range(i*2, number+1, i):\n",
    "            if j in primes:\n",
    "                #deleting the multiple if found in list\n",
    "                primes.remove(j)\n",
    "    i = i+1\n",
    "\n",
    "print (primes)"
   ]
  },
  {
   "cell_type": "code",
   "execution_count": null,
   "metadata": {},
   "outputs": [],
   "source": [
    "#17 day"
   ]
  },
  {
   "cell_type": "code",
   "execution_count": null,
   "metadata": {},
   "outputs": [],
   "source": [
    "def prime_eratosthenes(n):  #define a function \n",
    "    prime_list = []              \t # create a empty list\n",
    "    for i in range(2, n+1):       # create a irritation of range to start 2 to n+1 \n",
    "        if i not in prime_list:         #check i value in prime list or not\n",
    "            print (i)                #print the prime number\n",
    "            for j in range(i*i, n+1, i):  # j value start i**2 and increase as step count increase like (4,8,2) ->>> 4,6\n",
    "               prime_list.append(j)       \t# add j value in prime_list \n",
    "\n",
    "\n",
    "n=int(input(\"Provide this n value: \"))# user input\n",
    "prime_eratosthenes(n)                                               #fun calling.\n"
   ]
  },
  {
   "cell_type": "markdown",
   "metadata": {},
   "source": [
    "# Python Program to Check if a Date is Valid and Print the Incremented Date if it is"
   ]
  },
  {
   "cell_type": "code",
   "execution_count": null,
   "metadata": {},
   "outputs": [],
   "source": [
    "date=input(\"Enter the date: \")\n",
    "dd,mm,yy=date.split('/')\n",
    "dd=int(dd)\n",
    "mm=int(mm)\n",
    "yy=int(yy)\n",
    "if(mm==1 or mm==3 or mm==5 or mm==7 or mm==8 or mm==10 or mm==12): #for months having 31 days\n",
    "    max1=31\n",
    "elif(mm==4 or mm==6 or mm==9 or mm==11): #for months having 30 days\n",
    "    max1=30\n",
    "elif(yy%4==0 and yy%100!=0 or yy%400==0): #checking of leap year condition \n",
    "    max1=29\n",
    "else:\n",
    "    max1=28\n",
    "if(mm<1 or mm>12): #months are between 1 and 12\n",
    "    print(\"Date is invalid.\")\n",
    "elif(dd<1 or dd>max1): # if dates are not  between 1 and 28 or 29 or 30 or 31\n",
    "    print(\"Date is invalid.\")\n",
    "elif(dd==max1 and mm!=12): # if date is max1 then it increments and month is not equal to 12 then it increments\n",
    "    dd=1\n",
    "    mm=mm+1\n",
    "    print(\"The incremented date is: \",dd,mm,yy)\n",
    "elif(dd==31 and mm==12): # if date is 31 and month is 12 then date and month is 1 and year is incremented\n",
    "    dd=1\n",
    "    mm=1\n",
    "    yy=yy+1\n",
    "    print(\"The incremented date is: \",dd,mm,yy)\n",
    "else:\n",
    "    dd=dd+1\n",
    "    print(\"The incremented date is: \",dd,mm,yy)"
   ]
  },
  {
   "cell_type": "code",
   "execution_count": null,
   "metadata": {},
   "outputs": [],
   "source": [
    "#for year\n",
    "year = int(input(\"Input a year: \"))\n",
    "\n",
    "if (year % 400 == 0):\n",
    "    leap_year = True\n",
    "elif (year % 100 == 0):\n",
    "    leap_year = False\n",
    "elif (year % 4 == 0):\n",
    "    leap_year = True\n",
    "else:\n",
    "    leap_year = False\n",
    "\n",
    "#for month\n",
    "month = int(input(\"Input a month [1-12]: \"))\n",
    "\n",
    "if month in (1, 3, 5, 7, 8, 10, 12):\n",
    "    month_length = 31\n",
    "elif month == 2:\n",
    "    if leap_year:\n",
    "        month_length = 29\n",
    "    else:\n",
    "        month_length = 28\n",
    "else:\n",
    "    month_length = 30\n",
    "\n",
    "# for day\n",
    "day = int(input(\"Input a day [1-31]: \"))\n",
    "\n",
    "if day < month_length:\n",
    "    day += 1\n",
    "else:\n",
    "    day = 1\n",
    "    if month == 12:\n",
    "        month = 1\n",
    "        year += 1\n",
    "    else:\n",
    "        month += 1\n",
    "print(\"The next date is [yyyy-mm-dd] %d-%d-%d.\" % (year, month, day))\n"
   ]
  },
  {
   "cell_type": "code",
   "execution_count": null,
   "metadata": {},
   "outputs": [],
   "source": [
    "#18 day"
   ]
  },
  {
   "cell_type": "markdown",
   "metadata": {},
   "source": [
    "# Python Program to Compute Simple Interest Given all the Required Values"
   ]
  },
  {
   "cell_type": "code",
   "execution_count": null,
   "metadata": {},
   "outputs": [],
   "source": [
    "principle=float(input(\"Enter the principle amount:\"))\n",
    "time=int(input(\"Enter the time(years):\"))\n",
    "rate=float(input(\"Enter the rate:\"))\n",
    "simple_interest=(principle*time*rate)/100\n",
    "print(\"The simple interest is:\",simple_interest)"
   ]
  },
  {
   "cell_type": "markdown",
   "metadata": {},
   "source": [
    "# Python Program to Check Whether a Given Year is a Leap Year"
   ]
  },
  {
   "cell_type": "code",
   "execution_count": null,
   "metadata": {},
   "outputs": [],
   "source": [
    "year=int(input(\"enter a year : \"))\n",
    "if(year%4==0 and year%100!=0 or year%400==0):\n",
    "    print(\"it is a leap year\")\n",
    "else:\n",
    "    print(\"it is not a leap year\")"
   ]
  },
  {
   "cell_type": "code",
   "execution_count": null,
   "metadata": {},
   "outputs": [],
   "source": [
    "year = int(input(\"Enter a year: \"))  \n",
    "if (year % 4) == 0:  \n",
    "    if (year % 100) == 0:  \n",
    "        if (year % 400) == 0:  \n",
    "            print(\"{0} is a leap year\".format(year))  \n",
    "        else:  \n",
    "            print(\"{0} is not a leap year\".format(year))  \n",
    "    else:  \n",
    "        print(\"{0} is a leap year\".format(year))  \n",
    "else:  \n",
    "    print(\"{0} is not a leap year\".format(year))  "
   ]
  },
  {
   "cell_type": "code",
   "execution_count": null,
   "metadata": {},
   "outputs": [],
   "source": [
    "2012%4"
   ]
  },
  {
   "cell_type": "code",
   "execution_count": null,
   "metadata": {},
   "outputs": [],
   "source": [
    "2012%100"
   ]
  },
  {
   "cell_type": "code",
   "execution_count": null,
   "metadata": {},
   "outputs": [],
   "source": [
    "#19 day"
   ]
  },
  {
   "cell_type": "markdown",
   "metadata": {},
   "source": [
    "# Python Program to Take the Temperature in Celcius and Covert it to Farenheit"
   ]
  },
  {
   "cell_type": "code",
   "execution_count": null,
   "metadata": {},
   "outputs": [],
   "source": [
    "celcius=int(input(\"enter the temperature in celcius: \"))\n",
    "farenheit=(celcius*1.8)+32\n",
    "#Fahrenheit = (Celsius * 9/5) + 32\n",
    "print(\"temperature in farenhit: \",farenheit)"
   ]
  },
  {
   "cell_type": "markdown",
   "metadata": {},
   "source": [
    "# Python Program to Compute Prime Factors of an Integer"
   ]
  },
  {
   "cell_type": "code",
   "execution_count": 28,
   "metadata": {},
   "outputs": [
    {
     "name": "stdout",
     "output_type": "stream",
     "text": [
      " Please Enter any Number: 20\n",
      " 2 is a Prime Factor of a Given Number 20\n",
      " 5 is a Prime Factor of a Given Number 20\n"
     ]
    }
   ],
   "source": [
    "Number = int(input(\" Please Enter any Number: \"))\n",
    "\n",
    "for i in range(2, Number + 1):\n",
    "    if(Number % i == 0):\n",
    "        isprime = 1\n",
    "        for j in range(2, (i //2 + 1)):\n",
    "            if(i % j == 0):\n",
    "                isprime = 0\n",
    "                break\n",
    "            \n",
    "        if (isprime == 1):\n",
    "            print(\" %d is a Prime Factor of a Given Number %d\" %(i, Number))\n"
   ]
  },
  {
   "cell_type": "code",
   "execution_count": null,
   "metadata": {},
   "outputs": [],
   "source": [
    "n=int(input(\"Enter an integer:\"))\n",
    "print(\"Factors are:\")\n",
    "i=1\n",
    "while(i<=n):\n",
    "    k=0\n",
    "    if(n%i==0):\n",
    "        j=1\n",
    "        while(j<=i):\n",
    "            if(i%j==0):\n",
    "                k=k+1\n",
    "            j=j+1\n",
    "        if(k==2):\n",
    "            print(i)\n",
    "    i=i+1"
   ]
  },
  {
   "cell_type": "code",
   "execution_count": null,
   "metadata": {},
   "outputs": [],
   "source": [
    "#21 day"
   ]
  },
  {
   "cell_type": "markdown",
   "metadata": {},
   "source": [
    "# Create Random integer between 2 to 10 with 4 items"
   ]
  },
  {
   "cell_type": "code",
   "execution_count": null,
   "metadata": {},
   "outputs": [],
   "source": [
    "import numpy as np\n",
    "values = np.random.randint(2, 10, size=4)\n",
    "print(values)"
   ]
  },
  {
   "cell_type": "code",
   "execution_count": null,
   "metadata": {},
   "outputs": [],
   "source": [
    "#Create Random integer between 0 to 100 with 3x2 \n",
    "import numpy as np\n",
    "import pandas as pd\n",
    "df = pd.DataFrame(np.random.randint(0, 100, size=(3, 2)), columns=list('xy'))\n",
    "print(df)"
   ]
  },
  {
   "cell_type": "markdown",
   "metadata": {},
   "source": [
    "# Python Program to Print Sum of Negative Numbers, Positive Even Numbers and Positive Odd numbers in a List"
   ]
  },
  {
   "cell_type": "code",
   "execution_count": null,
   "metadata": {},
   "outputs": [],
   "source": [
    "n=int(input(\"enter the number of elements in the list: \"))\n",
    "l1=[]\n",
    "for i in range(0,n):\n",
    "    a=int(input(\"Element: \"))\n",
    "    l1.append(a)\n",
    "sum1=0\n",
    "sum2=0\n",
    "sum3=0\n",
    "for j in l1:\n",
    "    if(j>0):\n",
    "        if(j%2==0):\n",
    "            sum1=sum1+j\n",
    "        else:\n",
    "            sum2=sum2+j\n",
    "    else:\n",
    "        sum3=sum3+j\n",
    "print(\"Sum of all positive even numbers:\",sum1)\n",
    "print(\"Sum of all positive odd numbers:\",sum2)\n",
    "print(\"Sum of all negative numbers:\",sum3)"
   ]
  },
  {
   "cell_type": "code",
   "execution_count": null,
   "metadata": {},
   "outputs": [],
   "source": [
    "#day 22"
   ]
  },
  {
   "cell_type": "code",
   "execution_count": null,
   "metadata": {},
   "outputs": [],
   "source": [
    "#Create Random integer between 2 to 10 with 4 columns"
   ]
  },
  {
   "cell_type": "code",
   "execution_count": 29,
   "metadata": {},
   "outputs": [
    {
     "data": {
      "text/html": [
       "<div>\n",
       "<style scoped>\n",
       "    .dataframe tbody tr th:only-of-type {\n",
       "        vertical-align: middle;\n",
       "    }\n",
       "\n",
       "    .dataframe tbody tr th {\n",
       "        vertical-align: top;\n",
       "    }\n",
       "\n",
       "    .dataframe thead th {\n",
       "        text-align: right;\n",
       "    }\n",
       "</style>\n",
       "<table border=\"1\" class=\"dataframe\">\n",
       "  <thead>\n",
       "    <tr style=\"text-align: right;\">\n",
       "      <th></th>\n",
       "      <th>A</th>\n",
       "      <th>B</th>\n",
       "      <th>C</th>\n",
       "      <th>D</th>\n",
       "    </tr>\n",
       "  </thead>\n",
       "  <tbody>\n",
       "    <tr>\n",
       "      <th>0</th>\n",
       "      <td>6</td>\n",
       "      <td>9</td>\n",
       "      <td>6</td>\n",
       "      <td>7</td>\n",
       "    </tr>\n",
       "    <tr>\n",
       "      <th>1</th>\n",
       "      <td>4</td>\n",
       "      <td>5</td>\n",
       "      <td>4</td>\n",
       "      <td>3</td>\n",
       "    </tr>\n",
       "  </tbody>\n",
       "</table>\n",
       "</div>"
      ],
      "text/plain": [
       "   A  B  C  D\n",
       "0  6  9  6  7\n",
       "1  4  5  4  3"
      ]
     },
     "execution_count": 29,
     "metadata": {},
     "output_type": "execute_result"
    }
   ],
   "source": [
    "import numpy as np\n",
    "import pandas as pd\n",
    "df=pd.DataFrame(np.random.randint(2,10,size=(2,4)),columns=['A', 'B', 'C', 'D'])\n",
    "df"
   ]
  },
  {
   "cell_type": "code",
   "execution_count": null,
   "metadata": {},
   "outputs": [],
   "source": [
    "#2D array with random between 0 and 5"
   ]
  },
  {
   "cell_type": "code",
   "execution_count": 30,
   "metadata": {},
   "outputs": [
    {
     "name": "stdout",
     "output_type": "stream",
     "text": [
      "[[0 3 3 3]\n",
      " [4 4 2 4]]\n",
      "<class 'numpy.ndarray'>\n"
     ]
    }
   ],
   "source": [
    "import numpy as np\n",
    "import pandas as pd\n",
    "values = np.random.randint(5, size=(2, 4))\n",
    "print(values)\n",
    "print(type(values))"
   ]
  },
  {
   "cell_type": "markdown",
   "metadata": {},
   "source": [
    "# Python Program to Print Largest Even and Largest Odd Number in a List"
   ]
  },
  {
   "cell_type": "code",
   "execution_count": 32,
   "metadata": {},
   "outputs": [
    {
     "name": "stdout",
     "output_type": "stream",
     "text": [
      "Enter the number of elements to be in the list:5\n",
      "1\n",
      "2\n",
      "5 \n",
      "8\n",
      "9\n",
      "[2, 8]\n",
      "[1, 5, 9]\n",
      "9\n",
      "8\n"
     ]
    }
   ],
   "source": [
    "n=int(input(\"Enter the number of elements to be in the list:\"))\n",
    "b=[]\n",
    "for i in range(0,n):\n",
    "    a=int(input())\n",
    "    b.append(a)\n",
    "c=[]\n",
    "d=[]\n",
    "for i in b:\n",
    "    if(i%2==0):\n",
    "        c.append(i)\n",
    "    else:\n",
    "        d.append(i)\n",
    "c.sort()\n",
    "d.sort()\n",
    "#print(c)\n",
    "#print(d)\n",
    "#print(d[-1])\n",
    "#print(c[-1])\n",
    "count1=0\n",
    "count2=0\n",
    "for k in c:\n",
    "    count1=count1+1\n",
    "for j in d:\n",
    "    count2=count2+1\n",
    "print(\"Largest even number:\",c[count1-1])\n",
    "print(\"Largest odd number\",d[count2-1])"
   ]
  },
  {
   "cell_type": "code",
   "execution_count": null,
   "metadata": {},
   "outputs": [],
   "source": [
    "#23 day"
   ]
  },
  {
   "cell_type": "markdown",
   "metadata": {},
   "source": [
    "# Check if list contains integer x"
   ]
  },
  {
   "cell_type": "code",
   "execution_count": null,
   "metadata": {},
   "outputs": [],
   "source": [
    "l = [3, 3, 4, 5, 2, 111, 5]\n",
    "print(111 in l) # True\n"
   ]
  },
  {
   "cell_type": "markdown",
   "metadata": {},
   "source": [
    "# Use list as stack, array,and queue"
   ]
  },
  {
   "cell_type": "code",
   "execution_count": null,
   "metadata": {},
   "outputs": [],
   "source": [
    "# as a list ...\n",
    "l = [3, 4]\n",
    "l += [5, 6] # l = [3, 4, 5, 6]\n",
    "# ... as a stack ...\n",
    "l.append(10)# l = [4, 5, 6, 10]\n",
    "print(\"append\",l)\n",
    "l.pop() # l = [4, 5, 6]\n",
    "print(\"pop\",l)\n",
    "# ... and as a queue\n",
    "l.insert(0, 5)# l = [5, 4, 5, 6]\n",
    "print(\"insert\",l)\n",
    "l.pop() # l = [5, 4, 5]\n",
    "print(\"pop\",l)"
   ]
  },
  {
   "cell_type": "code",
   "execution_count": null,
   "metadata": {},
   "outputs": [],
   "source": [
    "#24 day"
   ]
  },
  {
   "cell_type": "code",
   "execution_count": null,
   "metadata": {},
   "outputs": [],
   "source": [
    "#Create Random integer between 0 to 100 with 10 itmes (2 rows, 5 columns)"
   ]
  },
  {
   "cell_type": "code",
   "execution_count": null,
   "metadata": {},
   "outputs": [],
   "source": [
    "import pandas as pd\n",
    "import numpy as np\n",
    "df=pd.DataFrame(np.random.randint(0,100,size=(2,5)),columns=['sonam', 'prachi', 'shalini', 'smita','sanju'])\n",
    "df"
   ]
  },
  {
   "cell_type": "code",
   "execution_count": null,
   "metadata": {},
   "outputs": [],
   "source": [
    "import pandas as pd\n",
    "import numpy as np\n",
    "dtype = [('One','int32'), ('Two','int32')]\n",
    "values = np.zeros(3, dtype=dtype)\n",
    "index = ['Row'+str(i) for i in range(1, 4)]\n",
    "\n",
    "df = pd.DataFrame(values, index=index)\n",
    "print(df)\n"
   ]
  },
  {
   "cell_type": "code",
   "execution_count": null,
   "metadata": {},
   "outputs": [],
   "source": [
    "#25 DAY"
   ]
  },
  {
   "cell_type": "raw",
   "metadata": {},
   "source": [
    "Fill Random Science and Math Marks"
   ]
  },
  {
   "cell_type": "code",
   "execution_count": null,
   "metadata": {},
   "outputs": [],
   "source": [
    "import pandas as pd\n",
    "import numpy as np\n",
    "dtype = [('Science','int32'), ('Maths','int32')]\n",
    "#values = np.zeros(3, dtype=dtype)\n",
    "\n",
    "#print(type(dtype))\n",
    "values = np.random.randint(5, size=(3, 2))\n",
    "index = ['Row'+str(i) for i in range(1, 4)]\n",
    "\n",
    "df = pd.DataFrame(values, index=index)\n",
    "print(df)\n"
   ]
  },
  {
   "cell_type": "markdown",
   "metadata": {},
   "source": [
    "# Python Program to Form an Integer that has the Number of Digits at Ten’s Place and the Least Significant Digit of the Entered Integer at One’s Place"
   ]
  },
  {
   "cell_type": "code",
   "execution_count": 33,
   "metadata": {},
   "outputs": [
    {
     "name": "stdout",
     "output_type": "stream",
     "text": [
      "Enter the number:456\n",
      "3456\n",
      "2\n",
      "The new number formed: 36\n"
     ]
    }
   ],
   "source": [
    "n=int(input(\"Enter the number:\"))\n",
    "tmp=n\n",
    "k=0\n",
    "while(n>0):\n",
    "    k=k+1\n",
    "    n=n//10\n",
    "b=str(tmp)\n",
    "c=str(k)\n",
    "print(c+b)\n",
    "print(k-1)\n",
    "d=c+b[k-1]\n",
    "\n",
    "print(\"The new number formed:\",int(d))"
   ]
  },
  {
   "cell_type": "code",
   "execution_count": null,
   "metadata": {},
   "outputs": [],
   "source": [
    "#26 DAY"
   ]
  },
  {
   "cell_type": "markdown",
   "metadata": {},
   "source": [
    "# Python Program to Find Those Numbers which are Divisible by 7 and Multiple of 5 in a Given Range of Numbers"
   ]
  },
  {
   "cell_type": "code",
   "execution_count": null,
   "metadata": {},
   "outputs": [],
   "source": [
    "lower=int(input(\"enter a lower range number: \"))\n",
    "upper=int(input(\"enter a upper range number: \"))\n",
    "for i in range(lower,upper+1):\n",
    "    if ( i%7==0 and i%5==0):\n",
    "        print(i)"
   ]
  },
  {
   "cell_type": "markdown",
   "metadata": {},
   "source": [
    "# Python Program to Check if a Number is an Armstrong Number\n",
    "* The sum of cubes of each digit is equal to the number itself. For example: 153 = 1*1*1 + 5*5*5 + 3*3*3 // 153 is an Armstrong number.\n"
   ]
  },
  {
   "cell_type": "raw",
   "metadata": {},
   "source": [
    "# Python program to demonstrate working \n",
    "# of map. \n",
    "  \n",
    "# Return double of n \n",
    "def addition(n): \n",
    "    return n + n \n",
    "  \n",
    "# We double all numbers using map() \n",
    "numbers = (1, 2, 3, 4) \n",
    "result = map(addition, numbers) \n",
    "print(list(result)) "
   ]
  },
  {
   "cell_type": "code",
   "execution_count": 39,
   "metadata": {},
   "outputs": [
    {
     "name": "stdout",
     "output_type": "stream",
     "text": [
      "enter a number: 153\n"
     ]
    },
    {
     "ename": "TypeError",
     "evalue": "'list' object is not callable",
     "output_type": "error",
     "traceback": [
      "\u001b[1;31m---------------------------------------------------------------------------\u001b[0m",
      "\u001b[1;31mTypeError\u001b[0m                                 Traceback (most recent call last)",
      "\u001b[1;32m<ipython-input-39-8e2fb99f3d55>\u001b[0m in \u001b[0;36m<module>\u001b[1;34m\u001b[0m\n\u001b[0;32m      1\u001b[0m \u001b[0mn\u001b[0m\u001b[1;33m=\u001b[0m\u001b[0mint\u001b[0m\u001b[1;33m(\u001b[0m\u001b[0minput\u001b[0m\u001b[1;33m(\u001b[0m\u001b[1;34m\"enter a number: \"\u001b[0m\u001b[1;33m)\u001b[0m\u001b[1;33m)\u001b[0m\u001b[1;33m\u001b[0m\u001b[1;33m\u001b[0m\u001b[0m\n\u001b[0;32m      2\u001b[0m \u001b[0ma\u001b[0m\u001b[1;33m=\u001b[0m\u001b[1;33m(\u001b[0m\u001b[0mmap\u001b[0m\u001b[1;33m(\u001b[0m\u001b[0mint\u001b[0m\u001b[1;33m,\u001b[0m\u001b[0mstr\u001b[0m\u001b[1;33m(\u001b[0m\u001b[0mn\u001b[0m\u001b[1;33m)\u001b[0m\u001b[1;33m)\u001b[0m\u001b[1;33m)\u001b[0m\u001b[1;33m\u001b[0m\u001b[1;33m\u001b[0m\u001b[0m\n\u001b[1;32m----> 3\u001b[1;33m \u001b[0mprint\u001b[0m\u001b[1;33m(\u001b[0m\u001b[0mlist\u001b[0m\u001b[1;33m(\u001b[0m\u001b[0ma\u001b[0m\u001b[1;33m)\u001b[0m\u001b[1;33m)\u001b[0m\u001b[1;33m\u001b[0m\u001b[1;33m\u001b[0m\u001b[0m\n\u001b[0m\u001b[0;32m      4\u001b[0m \u001b[0mb\u001b[0m\u001b[1;33m=\u001b[0m\u001b[1;33m(\u001b[0m\u001b[0mmap\u001b[0m\u001b[1;33m(\u001b[0m\u001b[1;32mlambda\u001b[0m \u001b[0mx\u001b[0m\u001b[1;33m:\u001b[0m\u001b[0mx\u001b[0m\u001b[1;33m**\u001b[0m\u001b[1;36m3\u001b[0m\u001b[1;33m,\u001b[0m\u001b[0ma\u001b[0m\u001b[1;33m)\u001b[0m\u001b[1;33m)\u001b[0m\u001b[1;33m\u001b[0m\u001b[1;33m\u001b[0m\u001b[0m\n\u001b[0;32m      5\u001b[0m \u001b[0mprint\u001b[0m\u001b[1;33m(\u001b[0m\u001b[0mlist\u001b[0m\u001b[1;33m(\u001b[0m\u001b[0mb\u001b[0m\u001b[1;33m)\u001b[0m\u001b[1;33m)\u001b[0m\u001b[1;33m\u001b[0m\u001b[1;33m\u001b[0m\u001b[0m\n",
      "\u001b[1;31mTypeError\u001b[0m: 'list' object is not callable"
     ]
    }
   ],
   "source": [
    "n=int(input(\"enter a number: \"))\n",
    "a=(map(int,str(n)))\n",
    "print(list(a))\n",
    "b=(map(lambda x:x**3,a))\n",
    "print(list(b))\n",
    "if(sum(b)==n):\n",
    "    print(\"The number is an armstrong number. \")\n",
    "else:\n",
    "    print(\"The number isn't an arsmtrong number. \")"
   ]
  },
  {
   "cell_type": "code",
   "execution_count": 40,
   "metadata": {},
   "outputs": [
    {
     "name": "stdout",
     "output_type": "stream",
     "text": [
      "Enter any number: 153\n"
     ]
    },
    {
     "ename": "TypeError",
     "evalue": "'list' object is not callable",
     "output_type": "error",
     "traceback": [
      "\u001b[1;31m---------------------------------------------------------------------------\u001b[0m",
      "\u001b[1;31mTypeError\u001b[0m                                 Traceback (most recent call last)",
      "\u001b[1;32m<ipython-input-40-8384b1198c6d>\u001b[0m in \u001b[0;36m<module>\u001b[1;34m\u001b[0m\n\u001b[0;32m      1\u001b[0m \u001b[0mn\u001b[0m\u001b[1;33m=\u001b[0m\u001b[0mint\u001b[0m\u001b[1;33m(\u001b[0m\u001b[0minput\u001b[0m\u001b[1;33m(\u001b[0m\u001b[1;34m\"Enter any number: \"\u001b[0m\u001b[1;33m)\u001b[0m\u001b[1;33m)\u001b[0m\u001b[1;33m\u001b[0m\u001b[1;33m\u001b[0m\u001b[0m\n\u001b[1;32m----> 2\u001b[1;33m \u001b[0ma\u001b[0m\u001b[1;33m=\u001b[0m\u001b[0mlist\u001b[0m\u001b[1;33m(\u001b[0m\u001b[0mmap\u001b[0m\u001b[1;33m(\u001b[0m\u001b[0mint\u001b[0m\u001b[1;33m,\u001b[0m\u001b[0mstr\u001b[0m\u001b[1;33m(\u001b[0m\u001b[0mn\u001b[0m\u001b[1;33m)\u001b[0m\u001b[1;33m)\u001b[0m\u001b[1;33m)\u001b[0m\u001b[1;33m\u001b[0m\u001b[1;33m\u001b[0m\u001b[0m\n\u001b[0m\u001b[0;32m      3\u001b[0m \u001b[0mb\u001b[0m\u001b[1;33m=\u001b[0m\u001b[0mlist\u001b[0m\u001b[1;33m(\u001b[0m\u001b[0mmap\u001b[0m\u001b[1;33m(\u001b[0m\u001b[1;32mlambda\u001b[0m \u001b[0mx\u001b[0m\u001b[1;33m:\u001b[0m\u001b[0mx\u001b[0m\u001b[1;33m**\u001b[0m\u001b[1;36m3\u001b[0m\u001b[1;33m,\u001b[0m\u001b[0ma\u001b[0m\u001b[1;33m)\u001b[0m\u001b[1;33m)\u001b[0m\u001b[1;33m\u001b[0m\u001b[1;33m\u001b[0m\u001b[0m\n\u001b[0;32m      4\u001b[0m \u001b[1;32mif\u001b[0m\u001b[1;33m(\u001b[0m\u001b[0msum\u001b[0m\u001b[1;33m(\u001b[0m\u001b[0mb\u001b[0m\u001b[1;33m)\u001b[0m\u001b[1;33m==\u001b[0m\u001b[0mn\u001b[0m\u001b[1;33m)\u001b[0m\u001b[1;33m:\u001b[0m\u001b[1;33m\u001b[0m\u001b[1;33m\u001b[0m\u001b[0m\n\u001b[0;32m      5\u001b[0m     \u001b[0mprint\u001b[0m\u001b[1;33m(\u001b[0m\u001b[1;34m\"The number is an armstrong number. \"\u001b[0m\u001b[1;33m)\u001b[0m\u001b[1;33m\u001b[0m\u001b[1;33m\u001b[0m\u001b[0m\n",
      "\u001b[1;31mTypeError\u001b[0m: 'list' object is not callable"
     ]
    }
   ],
   "source": [
    "n=int(input(\"Enter any number: \"))\n",
    "a=list(map(int,str(n)))\n",
    "b=list(map(lambda x:x**3,a))\n",
    "if(sum(b)==n):\n",
    "    print(\"The number is an armstrong number. \")\n",
    "else:\n",
    "    print(\"The number isn't an arsmtrong number. \")"
   ]
  },
  {
   "cell_type": "code",
   "execution_count": null,
   "metadata": {},
   "outputs": [],
   "source": [
    "#27 day"
   ]
  },
  {
   "cell_type": "code",
   "execution_count": null,
   "metadata": {},
   "outputs": [],
   "source": [
    "#common method\n",
    "n=int(input(\"enter a number: \"))\n",
    "# Changed n variable to string, \n",
    "# and calculated the length (number of digits)\n",
    "order = len(str(n))\n",
    "\n",
    "# initialize sum\n",
    "sum = 0\n",
    "\n",
    "# find the sum of the cube of each digit\n",
    "temp = n\n",
    "while temp > 0:\n",
    "    digit = temp % 10\n",
    "    sum += digit ** order\n",
    "    temp //= 10\n",
    "\n",
    "# display the result\n",
    "if n == sum:\n",
    "     print(n,\"is an Armstrong number\")\n",
    "else:\n",
    "    print(n,\"is not an Armstrong number\")"
   ]
  },
  {
   "cell_type": "code",
   "execution_count": null,
   "metadata": {},
   "outputs": [],
   "source": [
    "num = int(input(\"enter a number: \"))\n",
    " \n",
    "length = len(str(num))\n",
    "sum = 0\n",
    "temp = num\n",
    " \n",
    "while(temp != 0):\n",
    "    sum = sum + ((temp % 10) ** length)\n",
    "    print(sum)\n",
    "    temp = temp // 10\n",
    "    print(temp)\n",
    "if sum == num:\n",
    "    print(\"armstrong number\")\n",
    "else:\n",
    "    print(\"not armstrong number\")"
   ]
  },
  {
   "cell_type": "code",
   "execution_count": null,
   "metadata": {},
   "outputs": [],
   "source": [
    "#28 day"
   ]
  },
  {
   "cell_type": "markdown",
   "metadata": {},
   "source": [
    "# Python Program to Print the Pascal’s triangle for n number of rows given by the user"
   ]
  },
  {
   "cell_type": "code",
   "execution_count": null,
   "metadata": {},
   "outputs": [],
   "source": [
    "def pascal_triangle(n):\n",
    "    trow = [1]\n",
    "    y = [0]\n",
    "    for x in range(max(n,0)):\n",
    "        print(trow)\n",
    "        trow=[l+r for l,r in zip(trow+y, y+trow)]\n",
    "        #print(\"value of trow\",trow)\n",
    "    return n>=1\n",
    "pascal_triangle(6) "
   ]
  },
  {
   "cell_type": "code",
   "execution_count": null,
   "metadata": {},
   "outputs": [],
   "source": [
    "def fact(n):\n",
    "    res=1\n",
    "    for c in range(1,n+1):\n",
    "        res = res*c\n",
    "    \n",
    "    return res\n",
    "rows = int(input(\"Enter the number of rows : \"))\n",
    "for i in range(0, rows):\n",
    "    for j in range(1, rows-i):\n",
    "        print(\"  \", end=\"\")\n",
    "    for k in range(0, i+1):\n",
    "        coff = int(fact(i)/(fact(k)*fact(i-k)))\n",
    "        print(\"  \", coff, end=\"\")\n",
    "    \n",
    "    print()"
   ]
  },
  {
   "cell_type": "code",
   "execution_count": null,
   "metadata": {},
   "outputs": [],
   "source": [
    "rows = int(input(\"Enter the number of rows : \"))\n",
    "for i in range(0, rows):\n",
    "    coff = 1\n",
    "    for j in range(1, rows-i):\n",
    "        print(\"  \", end=\"\")\n",
    "    \n",
    "    for k in range(0, i+1):\n",
    "        print(\"  \", coff, end=\"\")\n",
    "        coff = int(coff * (i - k) / (k + 1))\n",
    "    print()"
   ]
  },
  {
   "cell_type": "code",
   "execution_count": null,
   "metadata": {},
   "outputs": [],
   "source": [
    "#29 days"
   ]
  },
  {
   "cell_type": "markdown",
   "metadata": {},
   "source": [
    "# Python Program to Check if a Number is a Perfect Number"
   ]
  },
  {
   "cell_type": "raw",
   "metadata": {},
   "source": [
    "a perfect number is a positive integer that is equal to the sum of its proper positive divisors, \n",
    "The first perfect number is 6, because 1, 2, and 3 are its proper positive divisors, and 1 + 2 + 3 = 6. Equivalently, the number 6 is equal to half the sum of all its positive divisors: ( 1 + 2 + 3 + 6 ) / 2 = 6. The next perfect number is 28 = 1 + 2 + 4 + 7 + 14. This is followed by the perfect numbers 496 and 8128."
   ]
  },
  {
   "cell_type": "code",
   "execution_count": null,
   "metadata": {},
   "outputs": [],
   "source": [
    "n = int(input(\"Enter any number: \"))\n",
    "sum1 = 0\n",
    "for i in range(1, n):\n",
    "    if(n % i == 0):\n",
    "        sum1 = sum1 + i\n",
    "if (sum1 == n):\n",
    "    print(\"The number is a Perfect number!\")\n",
    "else:\n",
    "    print(\"The number is not a Perfect number!\")"
   ]
  },
  {
   "cell_type": "code",
   "execution_count": null,
   "metadata": {},
   "outputs": [],
   "source": [
    "#30 day"
   ]
  },
  {
   "cell_type": "code",
   "execution_count": null,
   "metadata": {},
   "outputs": [],
   "source": [
    "a=True\n",
    "b=False\n",
    "c=False\n",
    "if not a or b:\n",
    "    print(\"correct answer\")\n",
    "elif not a or not b and c:\n",
    "    print(\"b\")\n",
    "elif not a or b or not b and c:\n",
    "    print(\"c\")\n",
    "else:\n",
    "    print(\"d\")"
   ]
  },
  {
   "cell_type": "code",
   "execution_count": null,
   "metadata": {},
   "outputs": [],
   "source": [
    "class Sample:\n",
    "    def __init__(self):\n",
    "        self.x=5\n",
    "    def change(self):\n",
    "        self.x=10\n",
    "class Dervied_sample(Sample):\n",
    "    def change(self):\n",
    "        self.x=self.x+1\n",
    "        #self.x=self.x+1\n",
    "        return self.x\n",
    "def main():\n",
    "    obj=Dervied_sample()\n",
    "    print(obj.change())\n",
    "    #print(obj.change())\n",
    "main()"
   ]
  },
  {
   "cell_type": "code",
   "execution_count": null,
   "metadata": {},
   "outputs": [],
   "source": [
    "class A:\n",
    "    def one(self):\n",
    "        return self.two()\n",
    "    def two(self):\n",
    "        return 'A'\n",
    "class B(A):\n",
    "    def two(self):\n",
    "        return 'B'\n",
    "obj=A()\n",
    "obj1=B()\n",
    "print(obj.one(),obj1.one())"
   ]
  },
  {
   "cell_type": "code",
   "execution_count": null,
   "metadata": {},
   "outputs": [],
   "source": [
    "import pandas as pd\n",
    "df=pd.DataFrame({'A':[2,3,5],'B':[4,6,10]})\n",
    "print(df)\n",
    "print(df.set_index('A').columns)"
   ]
  },
  {
   "cell_type": "code",
   "execution_count": null,
   "metadata": {},
   "outputs": [],
   "source": [
    "import numpy as np\n",
    "a=np.array([5,7,3,1])\n",
    "b=np.array([90,50,0])\n",
    "c=a * b\n",
    "print(c)"
   ]
  },
  {
   "cell_type": "code",
   "execution_count": null,
   "metadata": {},
   "outputs": [],
   "source": [
    "import numpy as np\n",
    "a=np.random.randint(0,1,5)\n",
    "print(a)\n",
    "b=np.random.normal(0,1,5)\n",
    "print(b)\n",
    "c=np.random.uniform(0,1,5)\n",
    "print(c)"
   ]
  },
  {
   "cell_type": "markdown",
   "metadata": {},
   "source": [
    "# 30 days of coding in october"
   ]
  },
  {
   "cell_type": "code",
   "execution_count": null,
   "metadata": {},
   "outputs": [],
   "source": [
    "#1 day"
   ]
  },
  {
   "cell_type": "raw",
   "metadata": {},
   "source": [
    "basics on pandas"
   ]
  },
  {
   "cell_type": "code",
   "execution_count": null,
   "metadata": {},
   "outputs": [],
   "source": [
    "import pandas as pd\n",
    "import numpy as np\n",
    "import matplotlib.pyplot as plt\n",
    "\n",
    "s = pd.Series([1,3,5,np.nan,6,8])\n",
    "s"
   ]
  },
  {
   "cell_type": "code",
   "execution_count": null,
   "metadata": {},
   "outputs": [],
   "source": [
    "dates = pd.date_range('20130101', periods=6)\n",
    "dates\n"
   ]
  },
  {
   "cell_type": "code",
   "execution_count": null,
   "metadata": {},
   "outputs": [],
   "source": [
    "df = pd.DataFrame(np.random.randn(6,4), index=dates, columns=list('ABCD'))\n",
    "df"
   ]
  },
  {
   "cell_type": "code",
   "execution_count": null,
   "metadata": {},
   "outputs": [],
   "source": [
    "#day 2"
   ]
  },
  {
   "cell_type": "code",
   "execution_count": null,
   "metadata": {},
   "outputs": [],
   "source": [
    "import pandas as pd\n",
    "import numpy as np"
   ]
  },
  {
   "cell_type": "code",
   "execution_count": null,
   "metadata": {},
   "outputs": [],
   "source": [
    "df2 = pd.DataFrame({ 'A' : 1.,\n",
    "                     'B' : pd.Timestamp('20130102'),\n",
    "                     'C' : pd.Series(1,index=list(range(4)),dtype='float32'),\n",
    "                     'D' : np.array([3] * 4,dtype='int32'),\n",
    "                     'E' : pd.Categorical([\"test\",\"train\",\"test\",\"train\"]),\n",
    "                     'F' : 'foo'  })"
   ]
  },
  {
   "cell_type": "code",
   "execution_count": null,
   "metadata": {},
   "outputs": [],
   "source": [
    "df2"
   ]
  },
  {
   "cell_type": "code",
   "execution_count": null,
   "metadata": {},
   "outputs": [],
   "source": [
    "df2.dtypes"
   ]
  },
  {
   "cell_type": "code",
   "execution_count": null,
   "metadata": {},
   "outputs": [],
   "source": [
    "#3 DAY"
   ]
  },
  {
   "cell_type": "code",
   "execution_count": null,
   "metadata": {},
   "outputs": [],
   "source": [
    "n=int(input(\"enter a number : \"))\n",
    "n1=(\"{}\".format(n))\n",
    "n2=(\"{}{}\".format(n,n))\n",
    "n3=(\"{}{}{}\".format(n,n,n))\n",
    "result = int(n1)+int(n2)+int(n3)\n",
    "print(n1,n2,n3)\n",
    "print(result)"
   ]
  },
  {
   "cell_type": "markdown",
   "metadata": {},
   "source": [
    "# Python Program to Merge Two Lists and Sort it"
   ]
  },
  {
   "cell_type": "code",
   "execution_count": null,
   "metadata": {},
   "outputs": [],
   "source": [
    "a=[]\n",
    "c=[]\n",
    "n1=int(input(\"Enter number of elements:\"))\n",
    "for i in range(1,n1+1):\n",
    "    b=int(input(\"Enter element:\"))\n",
    "    a.append(b)\n",
    "n2=int(input(\"Enter number of elements:\"))\n",
    "for i in range(1,n2+1):\n",
    "    d=int(input(\"Enter element:\"))\n",
    "    c.append(d)\n",
    "new=a+c\n",
    "new.sort()\n",
    "print(\"Sorted list is:\",new)"
   ]
  },
  {
   "cell_type": "code",
   "execution_count": null,
   "metadata": {},
   "outputs": [],
   "source": [
    "#day 4"
   ]
  },
  {
   "cell_type": "code",
   "execution_count": null,
   "metadata": {},
   "outputs": [],
   "source": [
    "n=int(input('enter number of elements for a: '))\n",
    "t=int(input('enter number of elements for b: '))\n",
    "a=[]\n",
    "b=[]\n",
    "print('enter for a')\n",
    "for i in range (n):\n",
    "    a1=int(input())\n",
    "    a.append(a1)\n",
    "print('enter for b')\n",
    "for j in range(t):\n",
    "    b1=int(input())\n",
    "    b.append(b1)\n",
    "new=a+b\n",
    "new.sort()\n",
    "print(\"Sorted list is:\",new)"
   ]
  },
  {
   "cell_type": "markdown",
   "metadata": {},
   "source": [
    "# Python Program to Sort the List According to the Second Element in Sublist"
   ]
  },
  {
   "cell_type": "code",
   "execution_count": null,
   "metadata": {},
   "outputs": [],
   "source": [
    "a=[['A',34],['B',21],['C',26]]\n",
    "for i in range(0,len(a)): # len is 3\n",
    "    for j in range(0,len(a)-i-1): # 3-0-1=2 #3-1-1=1 # 3-2-1 #3-3-1\n",
    "        if(a[j][1]>a[j+1][1]): \n",
    "            temp=a[j]\n",
    "            a[j]=a[j+1]\n",
    "            a[j+1]=temp\n",
    " \n",
    "print(a)\n",
    "#doubt"
   ]
  },
  {
   "cell_type": "code",
   "execution_count": null,
   "metadata": {},
   "outputs": [],
   "source": [
    "# 5 day"
   ]
  },
  {
   "cell_type": "markdown",
   "metadata": {},
   "source": [
    "# Python Program to Sort a List According to the Length of the Elements"
   ]
  },
  {
   "cell_type": "code",
   "execution_count": null,
   "metadata": {},
   "outputs": [],
   "source": [
    "a=[]\n",
    "n=int(input(\"Enter number of elements:\"))\n",
    "for i in range(1,n+1):\n",
    "    b=input(\"Enter element:\")\n",
    "    a.append(b)\n",
    "a.sort(key=len)\n",
    "print(a)"
   ]
  },
  {
   "cell_type": "code",
   "execution_count": null,
   "metadata": {},
   "outputs": [],
   "source": [
    "# 6 day"
   ]
  },
  {
   "cell_type": "markdown",
   "metadata": {},
   "source": [
    "# Python Program to Find the LCM of Two Numbers"
   ]
  },
  {
   "cell_type": "code",
   "execution_count": null,
   "metadata": {},
   "outputs": [],
   "source": [
    "a=int(input(\"Enter the first number:\"))\n",
    "b=int(input(\"Enter the second number:\"))\n",
    "if(a>b): # 2>50\n",
    "    min1=a #2\n",
    "else:\n",
    "    min1=b #50 \n",
    "while(1):\n",
    "    if(min1%a==0 and min1%b==0): # 2%2 2%50\n",
    "        print(\"LCM is:\",min1)\n",
    "        break\n",
    "    min1=min1+1"
   ]
  },
  {
   "cell_type": "markdown",
   "metadata": {},
   "source": [
    "# Python Program to Find the GCD of Two Numbers"
   ]
  },
  {
   "cell_type": "code",
   "execution_count": null,
   "metadata": {},
   "outputs": [],
   "source": [
    "import fractions\n",
    "a=int(input(\"Enter the first number:\"))\n",
    "b=int(input(\"Enter the second number:\"))\n",
    "print(\"The GCD of the two numbers is\",fractions.gcd(a,b))"
   ]
  },
  {
   "cell_type": "code",
   "execution_count": null,
   "metadata": {},
   "outputs": [],
   "source": [
    "# Python Program to find GCD of Two Numbers using While loop\n",
    "num1 = int(input(\"Enter 1st number: \"))\n",
    "num2 = int(input(\"Enter 2nd number: \"))\n",
    "i = 1\n",
    "while(i <= num1 and i <= num2):\n",
    "    if(num1 % i == 0 and num2 % i == 0):\n",
    "        gcd = i\n",
    "        i = i + 1\n",
    "print(\"GCD is\", gcd)"
   ]
  },
  {
   "cell_type": "code",
   "execution_count": null,
   "metadata": {},
   "outputs": [],
   "source": [
    "# 7 DAY"
   ]
  },
  {
   "cell_type": "markdown",
   "metadata": {},
   "source": [
    "# Python Program to Compute a Polynomial Equation given that the Coefficients of the Polynomial are stored in a List"
   ]
  },
  {
   "cell_type": "code",
   "execution_count": null,
   "metadata": {},
   "outputs": [],
   "source": [
    "import math\n",
    "print(\"Enter the coefficients of the form ax^3 + bx^2 + cx + d\")\n",
    "lst=[]\n",
    "for i in range(0,4):\n",
    "    a=int(input(\"Enter coefficient:\"))\n",
    "    lst.append(a)\n",
    "x=int(input(\"Enter the value of x:\"))\n",
    "sum1=0\n",
    "j=3\n",
    "for i in range(0,3):\n",
    "    while(j>0):\n",
    "        sum1=sum1+(lst[i]*math.pow(x,j))\n",
    "        break\n",
    "    j=j-1\n",
    "sum1=sum1+lst[3]\n",
    "print(\"The value of the polynomial is:\",sum1)"
   ]
  },
  {
   "cell_type": "code",
   "execution_count": null,
   "metadata": {},
   "outputs": [],
   "source": [
    "# 8 day"
   ]
  },
  {
   "cell_type": "markdown",
   "metadata": {},
   "source": [
    "# Python Program to Check If Two Numbers are Amicable Numbers"
   ]
  },
  {
   "cell_type": "markdown",
   "metadata": {},
   "source": [
    "two numbers are Amicable if the sum of proper divisors is equal to the opposite numbers that are the sum of divisors of x is equal to y and sum of divisors of y is equal to x"
   ]
  },
  {
   "cell_type": "markdown",
   "metadata": {},
   "source": [
    " They are amicable because the proper divisors of 220 are 1, 2, 4, 5, 10, 11, 20, 22, 44, 55 and 110, of which the sum is 284; and the proper divisors of 284 are 1, 2, 4, 71 and 142, of which the sum is 220"
   ]
  },
  {
   "cell_type": "code",
   "execution_count": null,
   "metadata": {},
   "outputs": [],
   "source": [
    "x=int(input('Enter number x: '))\n",
    "y=int(input('Enter number y: '))\n",
    "sum1=0\n",
    "sum2=0\n",
    "for i in range(1,x):\n",
    "    if x%i==0:\n",
    "        sum1+=i\n",
    "        print(i)\n",
    "for j in range(1,y):\n",
    "    if y%j==0:\n",
    "        sum2+=j\n",
    "        print(j)\n",
    "print(sum1)\n",
    "print(sum2)\n",
    "if(sum1==y and sum2==x):\n",
    "    print('Amicable!')\n",
    "else:\n",
    "    print('Not Amicable!')"
   ]
  },
  {
   "cell_type": "code",
   "execution_count": null,
   "metadata": {},
   "outputs": [],
   "source": [
    "def are_amicable(x, y):\n",
    "    if x==y:\n",
    "        \n",
    "        return False\n",
    "    # Find sum of their proper divisors\n",
    "    sum_x = sum(e for e in range(1, x//2+1) if x % e == 0)\n",
    "    sum_y = sum(e for e in range(1, y//2+1) if y % e == 0)\n",
    "   \n",
    "   #Return true of they satisfy the last condition\n",
    "    return sum_x==y and sum_y==x\n",
    "print(are_amicable(15, 20))\n",
    "print(are_amicable(220, 284))"
   ]
  },
  {
   "cell_type": "code",
   "execution_count": null,
   "metadata": {},
   "outputs": [],
   "source": [
    "#10 day"
   ]
  },
  {
   "cell_type": "markdown",
   "metadata": {},
   "source": [
    "# Python Program to Find the Gravitational Force Acting Between Two Objects"
   ]
  },
  {
   "cell_type": "code",
   "execution_count": null,
   "metadata": {},
   "outputs": [],
   "source": [
    "m1=float(input(\"Enter the first mass: \"))\n",
    "m2=float(input(\"Enter the second mass: \"))\n",
    "r=float(input(\"Enter the distance between the centres of the masses: \"))\n",
    "G=6.673*(10**-11)\n",
    "f=(G*m1*m2)/(r**2)\n",
    "print(\"Hence, the gravitational force is: \",round(f,2),\"N\")"
   ]
  },
  {
   "cell_type": "code",
   "execution_count": null,
   "metadata": {},
   "outputs": [],
   "source": [
    "# 11 day"
   ]
  },
  {
   "cell_type": "markdown",
   "metadata": {},
   "source": [
    "# Python Program to Check if a Number is a Prime Number"
   ]
  },
  {
   "cell_type": "code",
   "execution_count": 23,
   "metadata": {},
   "outputs": [
    {
     "name": "stdout",
     "output_type": "stream",
     "text": [
      "Enter any number: 3\n",
      "i value is 2\n",
      "3 is a prime number\n"
     ]
    }
   ],
   "source": [
    "# taking input from user\n",
    "number = int(input(\"Enter any number: \")) #11\n",
    "\n",
    "# prime number is always greater than 1\n",
    "if number > 1:\n",
    "    for i in range(2, number): # (2 ,11) # i will be 2 , 3, 4, 5,......10\n",
    "        print(\"i value is\",i)\n",
    "        if (number % i) == 0: \n",
    "            print(number, \"is not a prime number\")\n",
    "            break\n",
    "    else:\n",
    "        print(number, \"is a prime number\")\n",
    "\n",
    "# if the entered number is less than or equal to 1\n",
    "# then it is not prime number\n",
    "else:\n",
    "    print(number, \"is not a prime number\")"
   ]
  },
  {
   "cell_type": "code",
   "execution_count": null,
   "metadata": {},
   "outputs": [],
   "source": [
    "a=int(input(\"Enter number: \")) #17\n",
    "k=0\n",
    "for i in range(2,a//2+1): # ( 2, 17//2+1)=(2,5)\n",
    "    if(a%i==0): # i will be  2,3,4\n",
    "        k=k+1\n",
    "if(k<=0):\n",
    "    print(\"Number is prime\")\n",
    "else:\n",
    "    print(\"Number isn't prime\")"
   ]
  },
  {
   "cell_type": "code",
   "execution_count": null,
   "metadata": {},
   "outputs": [],
   "source": [
    "a=int(input(\"Enter number: \")) #17\n",
    "k=0\n",
    "for i in range(2,a//2+1): # ( 2, 17//2+1)=(2,5)\n",
    "    if(a%i==0): # i will be  2,3,4\n",
    "        print(a, \"is not a prime number\")\n",
    "        break\n",
    "            \n",
    "else:\n",
    "    print(a, \"is a prime number\")"
   ]
  },
  {
   "cell_type": "code",
   "execution_count": null,
   "metadata": {},
   "outputs": [],
   "source": [
    "#12 day"
   ]
  },
  {
   "cell_type": "markdown",
   "metadata": {},
   "source": [
    "# Python Program to Print all the Prime Numbers within a Given Range"
   ]
  },
  {
   "cell_type": "code",
   "execution_count": null,
   "metadata": {},
   "outputs": [],
   "source": [
    "r=int(input(\"Enter upper limit: \")) #11\n",
    "for a in range(2,r+1): #11+1\n",
    "    k=0\n",
    "    print(\"a value is\",a)\n",
    "    for i in range(2,a//2+1):\n",
    "        if(a%i==0): \n",
    "            k=k+1\n",
    "    if(k<=0):\n",
    "        print(\"prime number\",a)"
   ]
  },
  {
   "cell_type": "code",
   "execution_count": null,
   "metadata": {},
   "outputs": [],
   "source": [
    "#13 day"
   ]
  },
  {
   "cell_type": "markdown",
   "metadata": {},
   "source": [
    "# Python Program to Print Numbers in a Range (1,upper) Without Using any Loops"
   ]
  },
  {
   "cell_type": "code",
   "execution_count": 11,
   "metadata": {},
   "outputs": [
    {
     "name": "stdout",
     "output_type": "stream",
     "text": [
      "Enter upper limit: 15\n",
      "1\n",
      "2\n",
      "3\n",
      "4\n",
      "5\n",
      "6\n",
      "7\n",
      "8\n",
      "9\n",
      "10\n",
      "11\n",
      "12\n",
      "13\n",
      "14\n",
      "15\n"
     ]
    }
   ],
   "source": [
    "def printno(upper):\n",
    "    if(upper>0): # 15>0\n",
    "        printno(upper-1) # 14..........1\n",
    "        print(upper) \n",
    "upper=int(input(\"Enter upper limit: \")) #15\n",
    "printno(upper)"
   ]
  },
  {
   "cell_type": "code",
   "execution_count": null,
   "metadata": {},
   "outputs": [],
   "source": [
    "#14 day"
   ]
  },
  {
   "cell_type": "markdown",
   "metadata": {},
   "source": [
    "# Python Program to Search the Number of Times a Particular Number Occurs in a List"
   ]
  },
  {
   "cell_type": "code",
   "execution_count": null,
   "metadata": {},
   "outputs": [],
   "source": [
    "a=[]\n",
    "n=int(input(\"Enter number of elements:\"))\n",
    "for i in range(1,n+1):\n",
    "    b=int(input(\"Enter element:\"))\n",
    "    a.append(b)\n",
    "k=0\n",
    "num=int(input(\"Enter the number to be counted:\"))\n",
    "for j in a:\n",
    "    if(j==num):\n",
    "        k=k+1\n",
    "print(\"Number of times\",num,\"appears is\",k)"
   ]
  },
  {
   "cell_type": "code",
   "execution_count": null,
   "metadata": {},
   "outputs": [],
   "source": [
    "def countX(lst, x): \n",
    "    count = 0\n",
    "    for ele in lst: \n",
    "        if (ele == x): \n",
    "            count = count + 1\n",
    "    return count \n",
    "  \n",
    "# Driver Code \n",
    "lst = [8, 6, 8, 10, 8, 20, 10, 8, 8] \n",
    "x = 8\n",
    "print('{} has occurred {} times'.format(x, countX(lst, x))) "
   ]
  },
  {
   "cell_type": "code",
   "execution_count": null,
   "metadata": {},
   "outputs": [],
   "source": [
    "# Python code to count the number of occurrences \n",
    "def countX(lst, x): \n",
    "    return lst.count(x) \n",
    "  \n",
    "# Driver Code \n",
    "lst = [8, 6, 8, 10, 8, 20, 10, 8, 8] \n",
    "x = 8\n",
    "print('{} has occurred {} times'.format(x, countX(lst, x))) "
   ]
  },
  {
   "cell_type": "code",
   "execution_count": null,
   "metadata": {},
   "outputs": [],
   "source": [
    "# vowels list\n",
    "vowels = ['a', 'e', 'i', 'o', 'i', 'u']\n",
    "\n",
    "# count element 'i'\n",
    "count = vowels.count('i')\n",
    "\n",
    "# print count\n",
    "print('The count of i is:', count)\n",
    "\n",
    "# count element 'p'\n",
    "count = vowels.count('p')\n",
    "\n",
    "# print count\n",
    "print('The count of p is:', count)"
   ]
  },
  {
   "cell_type": "code",
   "execution_count": null,
   "metadata": {},
   "outputs": [],
   "source": [
    " [1, 2, 3, 4, 1, 4, 1].count(1)"
   ]
  },
  {
   "cell_type": "code",
   "execution_count": null,
   "metadata": {},
   "outputs": [],
   "source": [
    "mylist = [1,7,7,7,3,9,9,9,7,9,10,0] \n",
    "print(sorted(set([i for i in mylist if mylist.count(i)>2])))"
   ]
  },
  {
   "cell_type": "code",
   "execution_count": null,
   "metadata": {},
   "outputs": [],
   "source": [
    "# 15 day"
   ]
  },
  {
   "cell_type": "markdown",
   "metadata": {},
   "source": [
    "# Python Program to Find the Sum of Sine Series"
   ]
  },
  {
   "cell_type": "code",
   "execution_count": null,
   "metadata": {},
   "outputs": [],
   "source": [
    "import math\n",
    "def sin(x,n):\n",
    "    sine = 0\n",
    "    for i in range(n):\n",
    "        sign = (-1)**i\n",
    "        pi=22/7\n",
    "        y=x*(pi/180)\n",
    "        sine = sine + ((y**(2.0*i+1))/math.factorial(2*i+1))*sign\n",
    "    return sine\n",
    "x=int(input(\"Enter the value of x in degrees:\"))\n",
    "n=int(input(\"Enter the number of terms:\"))\n",
    "print(round(sin(x,n),2))"
   ]
  },
  {
   "cell_type": "code",
   "execution_count": null,
   "metadata": {},
   "outputs": [],
   "source": [
    "#16 day"
   ]
  },
  {
   "cell_type": "code",
   "execution_count": null,
   "metadata": {},
   "outputs": [],
   "source": [
    "import math\n",
    "print(\"Sine series is as shown below\\n\")\n",
    "for i in range(0,181,15):\n",
    "    y=math.sin(i)\n",
    "    print(\"sine\", i ,\":\", y)\n",
    "print(\"Finished printing the sine series for a given range\")"
   ]
  },
  {
   "cell_type": "code",
   "execution_count": null,
   "metadata": {},
   "outputs": [],
   "source": [
    "#17 day"
   ]
  },
  {
   "cell_type": "markdown",
   "metadata": {},
   "source": [
    "# Python Program to Find the Sum of the Series: 1 + 1/2 + 1/3 + ….. + 1/N"
   ]
  },
  {
   "cell_type": "code",
   "execution_count": null,
   "metadata": {},
   "outputs": [],
   "source": [
    "n=int(input(\"Enter the number of terms: \"))\n",
    "sum1=0\n",
    "for i in range(1,n+1):\n",
    "    sum1=sum1+(1/i)\n",
    "print(\"The sum of series is\",round(sum1,2))"
   ]
  },
  {
   "cell_type": "code",
   "execution_count": null,
   "metadata": {},
   "outputs": [],
   "source": [
    "#18 day"
   ]
  },
  {
   "cell_type": "markdown",
   "metadata": {},
   "source": [
    "# Python Program to Find the Sum of the Series: 1 + x^2/2 + x^3/3 + … x^n/n"
   ]
  },
  {
   "cell_type": "code",
   "execution_count": null,
   "metadata": {},
   "outputs": [],
   "source": [
    "n=int(input(\"Enter the number of terms: \"))\n",
    "x=int(input(\"Enter the value of x:\"))\n",
    "sum1=0\n",
    "for i in range(1,n+1):\n",
    "    sum1=sum1+ ((x**i)/i)\n",
    "print(\"The sum of series is\",round(sum1,2))"
   ]
  },
  {
   "cell_type": "code",
   "execution_count": null,
   "metadata": {},
   "outputs": [],
   "source": [
    "#19 day"
   ]
  },
  {
   "cell_type": "markdown",
   "metadata": {},
   "source": [
    "# Python Program to Compute the Value of Euler’s Number e. Use the Formula: e = 1 + 1/1! + 1/2! + …… 1/n!"
   ]
  },
  {
   "cell_type": "code",
   "execution_count": null,
   "metadata": {},
   "outputs": [],
   "source": [
    "import math\n",
    "n=int(input(\"Enter the number of terms: \"))\n",
    "sum1=1\n",
    "for i in range(1,n+1):\n",
    "    sum1=sum1+(1/math.factorial(i))\n",
    "print(\"The sum of series is\",round(sum1,2))"
   ]
  },
  {
   "cell_type": "code",
   "execution_count": null,
   "metadata": {},
   "outputs": [],
   "source": [
    "#20 day"
   ]
  },
  {
   "cell_type": "markdown",
   "metadata": {},
   "source": [
    "# Python Program to Determine all Pythagorean Triplets in the Range"
   ]
  },
  {
   "cell_type": "code",
   "execution_count": null,
   "metadata": {},
   "outputs": [],
   "source": [
    "limit=int(input(\"Enter upper limit:\")) #15\n",
    "c=0\n",
    "m=2\n",
    "while(c<limit): #15\n",
    "    for n in range(1,m+1): #(1,16)\n",
    "        a=m*m-n*n     # 15*15-1*1\n",
    "        b=2*m*n       # 2*15*1\n",
    "        c=m*m+n*n    #15*15+1*1\n",
    "        if(c>limit): \n",
    "            break\n",
    "        if(a==0 or b==0 or c==0):\n",
    "            break\n",
    "        print(a,b,c)\n",
    "    m=m+1"
   ]
  },
  {
   "cell_type": "code",
   "execution_count": null,
   "metadata": {},
   "outputs": [],
   "source": [
    "pow = 1\n",
    "for exp in range(16):\n",
    "    print(\"2 to the power of\", exp, \"is\", pow)\n",
    "    pow *= 2"
   ]
  },
  {
   "cell_type": "raw",
   "metadata": {},
   "source": [
    "Design a program that uses a while loop and continuously asks the user to enter a word unless the user enters \"chupacabra\" as the secret exit word, in which case the message \"You've successfully left the loop.\" should be printed to the screen, and the loop should terminate."
   ]
  },
  {
   "cell_type": "code",
   "execution_count": null,
   "metadata": {},
   "outputs": [],
   "source": [
    "while True:\n",
    "    secret_word = input(\"You're stuck in an infinite loop!\\nEnter a secret word to leave the loop.\")\n",
    "    if secret_word == \"chupacabra\":\n",
    "        print(\"You've successfully left the loop.\")\n",
    "        break"
   ]
  },
  {
   "cell_type": "code",
   "execution_count": null,
   "metadata": {},
   "outputs": [],
   "source": [
    "user=input(\"enter a word: \")\n",
    "userWord=user.upper()\n",
    "for letter in userWord:\n",
    "    # Complete the body of the for loop.\n",
    "    if (letter=='A' or letter=='E' or letter=='I' or letter=='O' or letter=='U'):\n",
    "        continue\n",
    "        print(letter)\n",
    "        "
   ]
  },
  {
   "cell_type": "code",
   "execution_count": null,
   "metadata": {},
   "outputs": [],
   "source": [
    "user=input(\"enter a word: \")\n",
    "userW=user.upper()\n",
    "print(userW)"
   ]
  },
  {
   "cell_type": "code",
   "execution_count": null,
   "metadata": {},
   "outputs": [],
   "source": [
    "#21 day"
   ]
  },
  {
   "cell_type": "markdown",
   "metadata": {},
   "source": [
    "# reversing list"
   ]
  },
  {
   "cell_type": "code",
   "execution_count": null,
   "metadata": {},
   "outputs": [],
   "source": [
    "myList = [10, 1, 8, 3, 5]\n",
    "length = len(myList)\n",
    "\n",
    "for i in range(length // 2):\n",
    "    myList[i], myList[length - i - 1] = myList[length - i - 1], myList[i]\n",
    "\n",
    "print(myList)"
   ]
  },
  {
   "cell_type": "code",
   "execution_count": null,
   "metadata": {},
   "outputs": [],
   "source": [
    "#22 day"
   ]
  },
  {
   "cell_type": "markdown",
   "metadata": {},
   "source": [
    "# Lists"
   ]
  },
  {
   "cell_type": "code",
   "execution_count": null,
   "metadata": {},
   "outputs": [],
   "source": [
    "myList = [1, None, True, 'I am a string', 256, 0]\n",
    "print(myList[3]) # outputs: I am a string\n",
    "print(myList[-1]) # outputs: 0\n",
    "\n",
    "myList[1] = '?'\n",
    "print(myList) # outputs: [1, '?', True, 'I am a string', 256, 0]\n",
    "\n",
    "myList.insert(0, \"first\")\n",
    "myList.append(\"last\")\n",
    "print(myList) # outputs: ['first', 1, '?', True, 'I am a string', 256, 0, 'last']\n"
   ]
  },
  {
   "cell_type": "code",
   "execution_count": null,
   "metadata": {},
   "outputs": [],
   "source": [
    "myList = [1, 2, 3, 4]\n",
    "del myList[2]\n",
    "print(myList) # outputs: [1, 2, 4]\n",
    "\n",
    "del myList # deletes the whole list"
   ]
  },
  {
   "cell_type": "code",
   "execution_count": null,
   "metadata": {},
   "outputs": [],
   "source": [
    "#23 day"
   ]
  },
  {
   "cell_type": "code",
   "execution_count": null,
   "metadata": {},
   "outputs": [],
   "source": [
    "lst = [1, 2, 3, 4, 5]\n",
    "lst.insert(1, 6)\n",
    "del lst[0]\n",
    "lst.append(1)\n",
    "\n",
    "print(lst)"
   ]
  },
  {
   "cell_type": "code",
   "execution_count": null,
   "metadata": {},
   "outputs": [],
   "source": [
    "lst = [1, 2, 3, 4, 5]\n",
    "lst2 = []\n",
    "add = 0\n",
    "\n",
    "for number in lst:\n",
    "    add += number\n",
    "    lst2.append(add)\n",
    "\n",
    "print(lst2)"
   ]
  },
  {
   "cell_type": "code",
   "execution_count": null,
   "metadata": {},
   "outputs": [],
   "source": [
    "lst = []\n",
    "del lst\n",
    "print(lst)"
   ]
  },
  {
   "cell_type": "code",
   "execution_count": null,
   "metadata": {},
   "outputs": [],
   "source": [
    "print([ if i%2==0: i; else: i+1; for i in range(4)])"
   ]
  },
  {
   "cell_type": "code",
   "execution_count": null,
   "metadata": {},
   "outputs": [],
   "source": [
    "D1 = {\"Alexa\" : 40, \"Siri\" : 30 }\n",
    "D2 = {\"Alexa\" : 400, \"Siri\" : 300}\n",
    "print(D1<D2)"
   ]
  },
  {
   "cell_type": "code",
   "execution_count": null,
   "metadata": {},
   "outputs": [],
   "source": [
    "num = 4\n",
    "\n",
    "def foo(num):\n",
    "    return num**3\n",
    "\n",
    "foo(3)**2"
   ]
  },
  {
   "cell_type": "code",
   "execution_count": null,
   "metadata": {},
   "outputs": [],
   "source": [
    "2**3"
   ]
  },
  {
   "cell_type": "code",
   "execution_count": null,
   "metadata": {},
   "outputs": [],
   "source": [
    "def foo(l1, n):\n",
    "    z = []\n",
    "    for i in range(n):\n",
    "        z.append(l1[i])\n",
    "        z.append(l1[i+n])\n",
    "        \n",
    "    return z \n",
    "\n",
    "l1 = [2, 2, 4, 4, 2, 4, 2]\n",
    "n = 3\n",
    "if __name__ == \"__main__\": \n",
    "    print(foo(l1, n))"
   ]
  },
  {
   "cell_type": "code",
   "execution_count": null,
   "metadata": {},
   "outputs": [],
   "source": [
    "a=[13,56,17]\n",
    "a.append([87])\n",
    "a.extend([45,67])\n",
    "print(a)"
   ]
  },
  {
   "cell_type": "code",
   "execution_count": null,
   "metadata": {},
   "outputs": [],
   "source": [
    "print(['love', 'python'][bool('cutshort')])"
   ]
  },
  {
   "cell_type": "code",
   "execution_count": null,
   "metadata": {},
   "outputs": [],
   "source": [
    "def my_func(nums):\n",
    "    a ,*b ,c = nums\n",
    "    return a,b\n",
    "\n",
    "\n",
    "nums = [2, 4, 8, 10, 11]\n",
    "\n",
    "if __name__ == \"__main__\":  \n",
    "    a, b= my_func(nums)\n",
    "    print(a, b)"
   ]
  },
  {
   "cell_type": "code",
   "execution_count": null,
   "metadata": {},
   "outputs": [],
   "source": [
    "def my_func():\n",
    "    s1 = 'CutShort'\n",
    "    s2 = 'CutShort'\n",
    "\n",
    "    s3 = 'CutShort'\n",
    "    s4 = ''.join(['C','u','t','S','h','o','r','t'])\n",
    "\n",
    "    return s1 is s2, s3 is s4\n",
    "\n",
    "if __name__ == \"__main__\": \n",
    "    x, y = my_func()\n",
    "    print(x, y)"
   ]
  },
  {
   "cell_type": "code",
   "execution_count": null,
   "metadata": {},
   "outputs": [],
   "source": [
    "string1 = \"Cutshort!\"\n",
    "string2 = \"Cutshort!\"\n",
    "if string1 is string2:\n",
    "    print(\"We are the same!\")\n",
    "else:\n",
    "    print(\"We are not the same!\")"
   ]
  },
  {
   "cell_type": "code",
   "execution_count": null,
   "metadata": {},
   "outputs": [],
   "source": [
    "list1 = []\n",
    "list2 = []\n",
    "if list1 is list2:\n",
    "    <some statements>"
   ]
  },
  {
   "cell_type": "code",
   "execution_count": null,
   "metadata": {},
   "outputs": [],
   "source": [
    "def my_func(nums):\n",
    "    count = 0\n",
    "    for i, j in enumerate(nums):\n",
    "        if i > count:\n",
    "              return False\n",
    "        count = max(count, i + j)\n",
    "    return count\n",
    "\n",
    "\n",
    "if __name__ == \"__main__\":\n",
    "    print(my_func([3, 2, 1, 0, 4]))"
   ]
  },
  {
   "cell_type": "code",
   "execution_count": null,
   "metadata": {},
   "outputs": [],
   "source": [
    "val1=28**0\n",
    "val2=2.5\n",
    "val3='123'\n",
    "val4=int(val3)\n",
    "print(val1+val2+val4)"
   ]
  },
  {
   "cell_type": "code",
   "execution_count": null,
   "metadata": {},
   "outputs": [],
   "source": [
    "def my_func(num):\n",
    "    data = [0]\n",
    "    for i in range(1, num+1):\n",
    "        data.append(data[i >> 1] + int(i & 1))\n",
    "    return data\n",
    "\n",
    "\n",
    "num = 6\n",
    "print(my_func(num))"
   ]
  },
  {
   "cell_type": "code",
   "execution_count": null,
   "metadata": {},
   "outputs": [],
   "source": [
    "class Person:\n",
    "    def __init__(self, id):\n",
    "         self.id = id\n",
    "\n",
    "sam = Person(100)\n",
    "\n",
    "sam.__dict__['age'] = 49\n",
    "\n",
    "print (sam.age + len(sam.__dict__))"
   ]
  },
  {
   "cell_type": "code",
   "execution_count": null,
   "metadata": {},
   "outputs": [],
   "source": [
    "#23 day"
   ]
  },
  {
   "cell_type": "code",
   "execution_count": null,
   "metadata": {},
   "outputs": [],
   "source": [
    "import numpy as np\n",
    "import pandas as pd\n",
    "mylist = list('abcedfghijklmnopqrstuvwxyz')\n",
    "myarr = np.arange(26)\n",
    "mydict = dict(zip(mylist, myarr))\n",
    "ser = pd.Series(mydict)\n",
    "# Solution\n",
    "df = ser.to_frame().reset_index()\n",
    "print(df.head())"
   ]
  },
  {
   "cell_type": "code",
   "execution_count": null,
   "metadata": {},
   "outputs": [],
   "source": [
    "mylist"
   ]
  },
  {
   "cell_type": "code",
   "execution_count": null,
   "metadata": {},
   "outputs": [],
   "source": [
    "myarr"
   ]
  },
  {
   "cell_type": "code",
   "execution_count": null,
   "metadata": {},
   "outputs": [],
   "source": [
    "mydict"
   ]
  },
  {
   "cell_type": "code",
   "execution_count": null,
   "metadata": {},
   "outputs": [],
   "source": [
    "# Input\n",
    "import numpy as np\n",
    "import pandas as pd\n",
    "ser1 = pd.Series(list('abcedfghijklmnopqrstuvwxyz'))\n",
    "ser2 = pd.Series(np.arange(26))\n",
    "# Solution 1\n",
    "df = pd.concat([ser1, ser2], axis=1)\n",
    "df.head()"
   ]
  },
  {
   "cell_type": "code",
   "execution_count": null,
   "metadata": {},
   "outputs": [],
   "source": [
    "# Solution 2\n",
    "df = pd.DataFrame({'col1': ser1, 'col2': ser2})\n",
    "print(df.head())"
   ]
  },
  {
   "cell_type": "code",
   "execution_count": null,
   "metadata": {},
   "outputs": [],
   "source": [
    "#24 day"
   ]
  },
  {
   "cell_type": "markdown",
   "metadata": {},
   "source": [
    "# Bubble sort"
   ]
  },
  {
   "cell_type": "code",
   "execution_count": null,
   "metadata": {},
   "outputs": [],
   "source": [
    "myList = [8, 10, 6, 2, 4] # list to sort\n",
    "swapped = True # it's a little fake - we need it to enter the while loop\n",
    "\n",
    "while swapped:\n",
    "    swapped = False # no swaps so far\n",
    "    for i in range(len(myList) - 1):# we need (5 - 1) comparisons\n",
    "        if myList[i] > myList[i + 1]:# compare adjacent elements\n",
    "            swapped = True # swap occured!\n",
    "            myList[i], myList[i + 1] = myList[i + 1], myList[i] # if we end up here it means that we have to swap the elements\n",
    "            print(myList)\n",
    "print(\"final sorted\",myList)"
   ]
  },
  {
   "cell_type": "code",
   "execution_count": null,
   "metadata": {},
   "outputs": [],
   "source": [
    "myList = [8, 10, 6, 2, 4]\n",
    "myList.sort()\n",
    "print(myList)"
   ]
  },
  {
   "cell_type": "code",
   "execution_count": null,
   "metadata": {},
   "outputs": [],
   "source": [
    "list1 = [1]\n",
    "list2 = list1\n",
    "list1[0] = 2\n",
    "print(list2)"
   ]
  },
  {
   "cell_type": "raw",
   "metadata": {},
   "source": [
    "# The assignment: list2 = list1 copies the name of the array, not its contents. In effect, the two names (list1 and list2) identify the same location in the computer memory. Modifying one of them affects the other, and vice versa."
   ]
  },
  {
   "cell_type": "code",
   "execution_count": null,
   "metadata": {},
   "outputs": [],
   "source": [
    "myList = [10, 8, 6, 4, 2]\n",
    "newList = myList[:3]\n",
    "print(newList)\n",
    "newList = myList[3:]\n",
    "print(newList)"
   ]
  },
  {
   "cell_type": "code",
   "execution_count": null,
   "metadata": {},
   "outputs": [],
   "source": [
    "#25 day"
   ]
  },
  {
   "cell_type": "markdown",
   "metadata": {},
   "source": [
    "# TO fIND A NUMBER IN LIST"
   ]
  },
  {
   "cell_type": "code",
   "execution_count": null,
   "metadata": {},
   "outputs": [],
   "source": [
    "myList = [1, 2, 3, 4, 5, 6, 7, 8, 9, 10]\n",
    "toFind = 5\n",
    "found = False\n",
    "\n",
    "for i in range(len(myList)):\n",
    "    found = myList[i] == toFind\n",
    "    if found:\n",
    "        break\n",
    "\n",
    "if found:\n",
    "    print(\"Element found at index\", i)\n",
    "else:\n",
    "    print(\"absent\")"
   ]
  },
  {
   "cell_type": "code",
   "execution_count": null,
   "metadata": {},
   "outputs": [],
   "source": [
    "drawn = [5, 11, 9, 42, 3, 49]\n",
    "bets = [3, 7, 11, 43, 34, 49]\n",
    "hits = 0\n",
    "\n",
    "for number in bets:\n",
    "    if number in drawn:\n",
    "        hits += 1\n",
    "\n",
    "print(hits)"
   ]
  },
  {
   "cell_type": "markdown",
   "metadata": {},
   "source": [
    "# unique elements in list"
   ]
  },
  {
   "cell_type": "code",
   "execution_count": null,
   "metadata": {},
   "outputs": [],
   "source": [
    "myList = [1, 2, 4, 4, 1, 4, 2, 6, 2, 9]\n",
    "unique=[]\n",
    "# put your code here\n",
    "for number in myList:\n",
    "        if number in unique:\n",
    "            continue\n",
    "        else:\n",
    "            unique.append(number)\n",
    "print(\"The list with unique elements only:\")\n",
    "print(myList)\n",
    "print(unique)"
   ]
  },
  {
   "cell_type": "code",
   "execution_count": null,
   "metadata": {},
   "outputs": [],
   "source": [
    "myList = [1, 2, 4, 4, 1, 4, 2, 6, 2, 9]\n",
    "unique=list(set(myList))\n",
    "unique"
   ]
  },
  {
   "cell_type": "code",
   "execution_count": null,
   "metadata": {},
   "outputs": [],
   "source": [
    "l1 = [\"A\", \"B\", \"C\"]\n",
    "l2 = l1\n",
    "l3 = l2\n",
    "\n",
    "del l1[0]\n",
    "del l2[0]\n",
    "\n",
    "print(l3)"
   ]
  },
  {
   "cell_type": "code",
   "execution_count": null,
   "metadata": {},
   "outputs": [],
   "source": [
    "#26 day"
   ]
  },
  {
   "cell_type": "code",
   "execution_count": null,
   "metadata": {},
   "outputs": [],
   "source": [
    "squares = [x ** 2 for x in range(10)]\n",
    "print(squares)\n",
    "twos = [2 ** i for i in range(8)]\n",
    "print(twos)\n",
    "odds = [x for x in squares if x % 2 != 0 ]\n",
    "print(odds)\n",
    "evens = [x for x in squares if x % 2 == 0 ]\n",
    "print(evens)"
   ]
  },
  {
   "cell_type": "markdown",
   "metadata": {},
   "source": [
    "[expression for element in list if conditional]\n",
    "         or\n",
    " for element in list:\n",
    "    if conditional:\n",
    "        expression   "
   ]
  },
  {
   "cell_type": "code",
   "execution_count": null,
   "metadata": {},
   "outputs": [],
   "source": [
    "for i in range(-1,1):\n",
    "    print(i)\n",
    "    print(\")\")"
   ]
  },
  {
   "cell_type": "code",
   "execution_count": null,
   "metadata": {},
   "outputs": [],
   "source": [
    "lst=[3,1,-1]\n",
    "lst[-1]=lst[-2]\n",
    "print(lst)"
   ]
  },
  {
   "cell_type": "code",
   "execution_count": null,
   "metadata": {},
   "outputs": [],
   "source": [
    "lst=[3,1,-2]\n",
    "print(lst[lst[-1]])#(-2)"
   ]
  },
  {
   "cell_type": "code",
   "execution_count": null,
   "metadata": {},
   "outputs": [],
   "source": [
    "val=[0,1,2]\n",
    "val[0],val[1]=val[1],val[2]\n",
    "print(val)"
   ]
  },
  {
   "cell_type": "code",
   "execution_count": null,
   "metadata": {},
   "outputs": [],
   "source": [
    "# 27 day"
   ]
  },
  {
   "cell_type": "code",
   "execution_count": null,
   "metadata": {},
   "outputs": [],
   "source": [
    "l=[0 for i in range(1,3)]"
   ]
  },
  {
   "cell_type": "code",
   "execution_count": null,
   "metadata": {},
   "outputs": [],
   "source": [
    "l"
   ]
  },
  {
   "cell_type": "code",
   "execution_count": null,
   "metadata": {},
   "outputs": [],
   "source": [
    "var=0\n",
    "while var<8:\n",
    "    var+=1\n",
    "    if var %2==0:\n",
    "        continue\n",
    "    print(\"*\")"
   ]
  },
  {
   "cell_type": "code",
   "execution_count": null,
   "metadata": {},
   "outputs": [],
   "source": [
    "for i in range(0):\n",
    "    print(\"#\")\n",
    "else:\n",
    "    print(\"#\")"
   ]
  },
  {
   "cell_type": "code",
   "execution_count": null,
   "metadata": {},
   "outputs": [],
   "source": [
    "t=[[3-i for i in range(3)] for j in range (3)]\n",
    "t"
   ]
  },
  {
   "cell_type": "code",
   "execution_count": null,
   "metadata": {},
   "outputs": [],
   "source": [
    "t=[[3-i for i in range(3)] for j in range (3)]\n",
    "s=0\n",
    "for i in range(3):\n",
    "    s+=t[i][i]\n",
    "print(s)"
   ]
  },
  {
   "cell_type": "code",
   "execution_count": null,
   "metadata": {},
   "outputs": [],
   "source": [
    "n=[1,2,3]\n",
    "l=n[-1:-2]\n"
   ]
  },
  {
   "cell_type": "code",
   "execution_count": null,
   "metadata": {},
   "outputs": [],
   "source": [
    "l"
   ]
  },
  {
   "cell_type": "code",
   "execution_count": null,
   "metadata": {},
   "outputs": [],
   "source": [
    "n"
   ]
  },
  {
   "cell_type": "code",
   "execution_count": null,
   "metadata": {},
   "outputs": [],
   "source": [
    "#28 day"
   ]
  },
  {
   "cell_type": "code",
   "execution_count": null,
   "metadata": {},
   "outputs": [],
   "source": [
    "lst=[1,2,3]\n",
    "for v in range(len(lst)):\n",
    "    #print(v)\n",
    "    print(lst[v])\n",
    "    lst.insert(1,lst[v])\n",
    "    #print(lst[v])\n",
    "print(lst)"
   ]
  },
  {
   "cell_type": "code",
   "execution_count": null,
   "metadata": {},
   "outputs": [],
   "source": [
    "#29 day"
   ]
  },
  {
   "cell_type": "code",
   "execution_count": null,
   "metadata": {},
   "outputs": [],
   "source": [
    "ist=[1,2,3]\n",
    "end=[]\n",
    "for i in ist:\n",
    "    end.insert(0,i)\n",
    "    \n",
    "print(end)"
   ]
  },
  {
   "cell_type": "code",
   "execution_count": null,
   "metadata": {},
   "outputs": [],
   "source": [
    "var=1\n",
    "while var<10: #1 ,2 ,4 ,8\n",
    "    print('#')\n",
    "    var=var<<1"
   ]
  },
  {
   "cell_type": "code",
   "execution_count": null,
   "metadata": {},
   "outputs": [],
   "source": [
    "var=4\n",
    "var=var<<1"
   ]
  },
  {
   "cell_type": "code",
   "execution_count": null,
   "metadata": {},
   "outputs": [],
   "source": [
    "var"
   ]
  },
  {
   "cell_type": "code",
   "execution_count": null,
   "metadata": {},
   "outputs": [],
   "source": [
    "lst=[1,2,3,4]\n",
    "print(lst[-3:-1])"
   ]
  },
  {
   "cell_type": "code",
   "execution_count": null,
   "metadata": {},
   "outputs": [],
   "source": [
    "lst=[[0,1,2,3] for i in range(2)]\n",
    "print(lst[1][3])"
   ]
  },
  {
   "cell_type": "code",
   "execution_count": null,
   "metadata": {},
   "outputs": [],
   "source": [
    "#30 day"
   ]
  },
  {
   "cell_type": "code",
   "execution_count": null,
   "metadata": {},
   "outputs": [],
   "source": [
    "vals=[0,1,2]\n",
    "vals.insert(0,1)\n",
    "del vals[1]\n",
    "print(vals)"
   ]
  },
  {
   "cell_type": "code",
   "execution_count": null,
   "metadata": {},
   "outputs": [],
   "source": [
    "vals"
   ]
  },
  {
   "cell_type": "code",
   "execution_count": null,
   "metadata": {},
   "outputs": [],
   "source": [
    "del vals[1]"
   ]
  },
  {
   "cell_type": "code",
   "execution_count": null,
   "metadata": {},
   "outputs": [],
   "source": [
    "vals"
   ]
  },
  {
   "cell_type": "code",
   "execution_count": null,
   "metadata": {},
   "outputs": [],
   "source": [
    "x=1\n",
    "x=x==x"
   ]
  },
  {
   "cell_type": "code",
   "execution_count": null,
   "metadata": {},
   "outputs": [],
   "source": [
    "x"
   ]
  },
  {
   "cell_type": "code",
   "execution_count": null,
   "metadata": {},
   "outputs": [],
   "source": [
    "for i in range(-1,2):\n",
    "    print(i)"
   ]
  },
  {
   "cell_type": "code",
   "execution_count": null,
   "metadata": {},
   "outputs": [],
   "source": [
    "a=0\n",
    "b=1\n",
    "c=a^b\n",
    "f=a | b\n",
    "g= a & b"
   ]
  },
  {
   "cell_type": "code",
   "execution_count": null,
   "metadata": {},
   "outputs": [],
   "source": [
    "c"
   ]
  },
  {
   "cell_type": "code",
   "execution_count": null,
   "metadata": {},
   "outputs": [],
   "source": [
    "f"
   ]
  },
  {
   "cell_type": "code",
   "execution_count": null,
   "metadata": {},
   "outputs": [],
   "source": [
    "g"
   ]
  },
  {
   "cell_type": "code",
   "execution_count": null,
   "metadata": {},
   "outputs": [],
   "source": [
    "num=[1,2,3]\n",
    "vals=nums\n",
    "del vals[1:2]"
   ]
  },
  {
   "cell_type": "code",
   "execution_count": null,
   "metadata": {},
   "outputs": [],
   "source": [
    "vals"
   ]
  },
  {
   "cell_type": "markdown",
   "metadata": {},
   "source": [
    "# 30days of coding in november"
   ]
  },
  {
   "cell_type": "code",
   "execution_count": null,
   "metadata": {},
   "outputs": [],
   "source": [
    "# nov 1"
   ]
  },
  {
   "cell_type": "markdown",
   "metadata": {},
   "source": [
    "# functions"
   ]
  },
  {
   "cell_type": "code",
   "execution_count": null,
   "metadata": {},
   "outputs": [],
   "source": [
    "def message(number):\n",
    "    print(\"Enter a number:\", number)\n",
    "\n",
    "number = 1234\n",
    "message(1)\n",
    "print(number)"
   ]
  },
  {
   "cell_type": "code",
   "execution_count": null,
   "metadata": {},
   "outputs": [],
   "source": [
    "def message(what, number):\n",
    "    print(\"Enter\", what, \"number\", number)\n",
    "\n",
    "# invoke function\n",
    "message(\"telephone\", 11)\n",
    "message(\"price\", 5)\n",
    "message(\"number\", \"number\")"
   ]
  },
  {
   "cell_type": "code",
   "execution_count": null,
   "metadata": {},
   "outputs": [],
   "source": [
    "#keyword argument passing\n",
    "def introduction(firstName, lastName):\n",
    "    print(\"Hello, my name is\", firstName, lastName)\n",
    "\n",
    "introduction(firstName = \"James\", lastName = \"Bond\")\n",
    "introduction(lastName = \"Skywalker\", firstName = \"Luke\")\n",
    "introduction(surname=\"Skywalker\", firstName=\"Luke\")\n"
   ]
  },
  {
   "cell_type": "code",
   "execution_count": null,
   "metadata": {},
   "outputs": [],
   "source": [
    "# default (predefined) values\n",
    "def introduction(firstName, lastName=\"Smith\"):\n",
    "    print(\"Hello, my name is\", firstName, lastName)\n",
    "\n",
    "# call the function here\n",
    "introduction(\"James\", \"Doe\")\n",
    "introduction(\"Henry\")\n",
    "introduction(firstName=\"William\")\n",
    "introduction()"
   ]
  },
  {
   "cell_type": "code",
   "execution_count": null,
   "metadata": {},
   "outputs": [],
   "source": [
    "#2 nov"
   ]
  },
  {
   "cell_type": "code",
   "execution_count": null,
   "metadata": {},
   "outputs": [],
   "source": [
    "def strangeListFunction(n):\n",
    "    strangeList = []\n",
    "    \n",
    "    for i in range(0, n):\n",
    "        strangeList.insert(0, i)\n",
    "    \n",
    "    return strangeList\n",
    "\n",
    "print(strangeListFunction(5))"
   ]
  },
  {
   "cell_type": "code",
   "execution_count": null,
   "metadata": {},
   "outputs": [],
   "source": [
    "def isYearLeap(year):\n",
    "    leap = False\n",
    "    \n",
    "    # Write your logic here\n",
    "    if year%400==0 :\n",
    "        leap = True\n",
    "    elif year%4 == 0 and year%100 != 0:\n",
    "        leap = True\n",
    "    return leap\n",
    "#\n",
    "# put your code here\n",
    "#\n",
    "\n",
    "\n",
    "testData = [1900, 2000, 2016, 1987]\n",
    "testResults = [False, True, True, False]\n",
    "for i in range(len(testData)):\n",
    "\tyr = testData[i]\n",
    "\tprint(yr,\"->\",end=\"\")\n",
    "\tresult = isYearLeap(yr)\n",
    "\tif result == testResults[i]:\n",
    "\t\tprint(\"leapyear\")\n",
    "\telse:\n",
    "\t\tprint(\"not a leapyear\")"
   ]
  },
  {
   "cell_type": "code",
   "execution_count": null,
   "metadata": {},
   "outputs": [],
   "source": [
    "def isPrime(num):\n",
    "    if num > 1: \n",
    "        for i in range(2, num): \n",
    "            if (num % i) == 0: \n",
    "            #print(num, \"is not a prime number\") \n",
    "                return False\n",
    "                break\n",
    "        else: \n",
    "            return True\n",
    "  \n",
    "    else:\n",
    "        return False\n",
    "#\n",
    "# put your code here\n",
    "#\n",
    "\n",
    "for i in range(1, 20):\n",
    "\tif isPrime(i + 1):\n",
    "\t\t\tprint(i + 1, end=\" \")\n",
    "print()"
   ]
  },
  {
   "cell_type": "code",
   "execution_count": null,
   "metadata": {},
   "outputs": [],
   "source": [
    "def hi():\n",
    "    return\n",
    "    print(\"Hi!\")\n",
    "\n",
    "hi()\n"
   ]
  },
  {
   "cell_type": "code",
   "execution_count": null,
   "metadata": {},
   "outputs": [],
   "source": [
    "hi()"
   ]
  },
  {
   "cell_type": "code",
   "execution_count": null,
   "metadata": {},
   "outputs": [],
   "source": [
    "def isInt(data):\n",
    "    if type(data) == int:\n",
    "        return True\n",
    "    elif type(data) == float:\n",
    "        return False\n",
    "\n",
    "print(isInt(5))\n",
    "print(isInt(5.0))\n",
    "print(isInt(\"5\"))"
   ]
  },
  {
   "cell_type": "markdown",
   "metadata": {},
   "source": [
    "# scope of variable"
   ]
  },
  {
   "cell_type": "code",
   "execution_count": null,
   "metadata": {},
   "outputs": [],
   "source": [
    "def scopeTest():\n",
    "    x = 123\n",
    "    print(x)\n",
    "\n",
    "scopeTest()\n",
    "print(x)"
   ]
  },
  {
   "cell_type": "markdown",
   "metadata": {},
   "source": [
    "# a variable existing outside a function has a scope inside the functions' bodies."
   ]
  },
  {
   "cell_type": "code",
   "execution_count": null,
   "metadata": {},
   "outputs": [],
   "source": [
    "def myFunction():\n",
    "    var = 2\n",
    "    print(\"Do I know that variable?\", var)\n",
    "\n",
    "var = 1\n",
    "myFunction()\n",
    "print(var)"
   ]
  },
  {
   "cell_type": "code",
   "execution_count": null,
   "metadata": {},
   "outputs": [],
   "source": [
    "#global variable\n",
    "def myFunction():\n",
    "    global var\n",
    "    var = 2\n",
    "    print(\"Do I know that variable?\", var)\n",
    "\n",
    "var = 1\n",
    "myFunction()\n",
    "print(var)"
   ]
  },
  {
   "cell_type": "code",
   "execution_count": null,
   "metadata": {},
   "outputs": [],
   "source": [
    "def myFunction(myList1):\n",
    "    print(myList1)\n",
    "    myList1 = [0, 1]\n",
    "\n",
    "myList2 = [2, 3]\n",
    "myFunction(myList2)\n",
    "print(myList2)"
   ]
  },
  {
   "cell_type": "code",
   "execution_count": null,
   "metadata": {},
   "outputs": [],
   "source": [
    "def myFunction(myList1):\n",
    "    print(myList1)\n",
    "    del myList1[0]\n",
    "\n",
    "myList2 = [2, 3]\n",
    "myFunction(myList2)\n",
    "print(myList2)"
   ]
  },
  {
   "cell_type": "code",
   "execution_count": null,
   "metadata": {},
   "outputs": [],
   "source": [
    "a = 1\n",
    "\n",
    "def fun():\n",
    "    a = 2\n",
    "    print(a)\n",
    "\n",
    "fun()\n",
    "print(a)"
   ]
  },
  {
   "cell_type": "code",
   "execution_count": null,
   "metadata": {},
   "outputs": [],
   "source": [
    "a = 1\n",
    "\n",
    "def fun():\n",
    "    global a\n",
    "    a = 2\n",
    "    print(a)\n",
    "\n",
    "fun()\n",
    "a = 3\n",
    "print(a)"
   ]
  },
  {
   "cell_type": "code",
   "execution_count": null,
   "metadata": {},
   "outputs": [],
   "source": [
    "a = 1\n",
    "\n",
    "def fun():\n",
    "    global a\n",
    "    a = 2\n",
    "    print(a)\n",
    "\n",
    "a = 3\n",
    "fun()\n",
    "print(a)"
   ]
  },
  {
   "cell_type": "code",
   "execution_count": null,
   "metadata": {},
   "outputs": [],
   "source": [
    "def isItATriangle(a, b, c):\n",
    "    return a + b > c and b + c > a and c + a > b\n",
    "\n",
    "a = float(input(\"Enter the first side's length: \"))\n",
    "b = float(input(\"Enter the second side's length: \"))\n",
    "c = float(input(\"Enter the third side's length: \"))\n",
    "\n",
    "if isItATriangle(a, b, c):\n",
    "    print(\"Congratulations - it can be a triangle.\")\n",
    "else:\n",
    "    print(\"Sorry, it won't be a triangle.\")"
   ]
  },
  {
   "cell_type": "code",
   "execution_count": null,
   "metadata": {},
   "outputs": [],
   "source": [
    "def isItATriangle(a, b, c):\n",
    "    return a + b > c and b + c > a and c + a > b\n",
    "\n",
    "def isItRightTriangle(a, b, c):\n",
    "    if not isItATriangle(a, b, c):\n",
    "        return False\n",
    "    if c > a and c > b:\n",
    "        return c ** 2 == a ** 2 + b ** 2\n",
    "    if a > b and a > c:\n",
    "        return a ** 2 == b ** 2 + c ** 2\n",
    "\n",
    "print(isItRightTriangle(5, 3, 4))\n",
    "print(isItRightTriangle(1, 3, 4))"
   ]
  },
  {
   "cell_type": "code",
   "execution_count": null,
   "metadata": {},
   "outputs": [],
   "source": [
    "def fib(n):\n",
    "    if n < 1:\n",
    "         return None\n",
    "    if n < 3:\n",
    "        return 1\n",
    "\n",
    "    elem1 = elem2 = 1\n",
    "    sum = 0\n",
    "    for i in range(3, n + 1):\n",
    "        sum = elem1 + elem2 #2  #3\n",
    "        elem1, elem2 = elem2, sum # 1,2  \n",
    "    return sum \n",
    "\n",
    "for n in range(1, 10): # testing\n",
    "    print(n, \"->\", fib(n))"
   ]
  },
  {
   "cell_type": "code",
   "execution_count": null,
   "metadata": {},
   "outputs": [],
   "source": [
    "def fib(n):\n",
    "    if n < 1:\n",
    "        return None\n",
    "    if n < 3:\n",
    "        return 1\n",
    "    return fib(n - 1) + fib(n - 2)\n",
    "print(fib(7))"
   ]
  },
  {
   "cell_type": "code",
   "execution_count": null,
   "metadata": {},
   "outputs": [],
   "source": [
    "def factorialFun(n):\n",
    "    if n < 0:\n",
    "        return None\n",
    "    if n < 2:\n",
    "        return 1\n",
    "    \n",
    "    return n * factorialFun(n - 1)\n",
    "print(factorialFun(5))"
   ]
  },
  {
   "cell_type": "code",
   "execution_count": null,
   "metadata": {},
   "outputs": [],
   "source": [
    "var = 123\n",
    "\n",
    "t1 = (1, )\n",
    "t2 = (2, )\n",
    "t3 = (3, var)\n",
    "\n",
    "t1, t2, t3 = t2, t3, t1\n",
    "\n",
    "print(t1, t2, t3)"
   ]
  },
  {
   "cell_type": "code",
   "execution_count": null,
   "metadata": {},
   "outputs": [],
   "source": [
    "dictionary = {\"cat\" : \"chat\", \"dog\" : \"chien\", \"horse\" : \"cheval\"}\n",
    "\n",
    "for english, french in dictionary.items():\n",
    "    print(english, \"->\", french)\n"
   ]
  },
  {
   "cell_type": "code",
   "execution_count": null,
   "metadata": {},
   "outputs": [],
   "source": [
    "d1 = {'Adam Smith':'A', 'Judy Paxton':'B+'}\n",
    "d2 = {'Mary Louis':'A', 'Patrick White':'C'}\n",
    "d3 = {}\n",
    "\n",
    "for item in (d1, d2):\n",
    "    d3.update(item)\n",
    "\n",
    "print(d3)"
   ]
  },
  {
   "cell_type": "code",
   "execution_count": null,
   "metadata": {},
   "outputs": [],
   "source": [
    "myDict = {\"A\":1, \"B\":2}\n",
    "copyMyDict = myDict.copy()\n",
    "myDict.clear()\n",
    "\n",
    "print(copyMyDict)"
   ]
  },
  {
   "cell_type": "code",
   "execution_count": null,
   "metadata": {},
   "outputs": [],
   "source": [
    "def DisplayBoard(board):\n",
    "    for i in range(1,10):\n",
    "        if (board[i] == 'O' or board[i] == 'X'):\n",
    "            blankBoard = blankBoard.replace(str(i), board[i])\n",
    "        else:\n",
    "            blankBoard = blankBoard.replace(str(i), ' ')\n",
    "    print(blankBoard)"
   ]
  },
  {
   "cell_type": "code",
   "execution_count": null,
   "metadata": {},
   "outputs": [],
   "source": [
    "tup=(1,2,4,8)\n",
    "tup=tup[-2:-1]\n",
    "tup=tup[-1]\n",
    "print(tup)"
   ]
  },
  {
   "cell_type": "code",
   "execution_count": null,
   "metadata": {},
   "outputs": [],
   "source": [
    "list=[\"1\",'2','3','4','5']\n",
    "def list(lst):\n",
    "    del lst[3]\n",
    "    lst[3]='ram'\n",
    "print(list(list))"
   ]
  },
  {
   "cell_type": "code",
   "execution_count": null,
   "metadata": {},
   "outputs": [],
   "source": [
    "def fun(a,b):\n",
    "    return a**b\n",
    "print(fun(2))"
   ]
  },
  {
   "cell_type": "code",
   "execution_count": null,
   "metadata": {},
   "outputs": [],
   "source": [
    "def fun(x):\n",
    "    if x%2==0:\n",
    "        return 1\n",
    "    else:\n",
    "        return\n",
    "print(fun(fun(2)) + 1)"
   ]
  },
  {
   "cell_type": "code",
   "execution_count": null,
   "metadata": {},
   "outputs": [],
   "source": [
    "def fun(x,y,z):\n",
    "    return x+2*y+3*z\n",
    "print(fun(0,z=1,y=3))"
   ]
  },
  {
   "cell_type": "code",
   "execution_count": null,
   "metadata": {},
   "outputs": [],
   "source": [
    "x=1//5+1/5\n",
    "print(x)"
   ]
  },
  {
   "cell_type": "code",
   "execution_count": null,
   "metadata": {},
   "outputs": [],
   "source": [
    "lst=[[x for x in range(3)]for y in range(3)]\n",
    "lst"
   ]
  },
  {
   "cell_type": "code",
   "execution_count": null,
   "metadata": {},
   "outputs": [],
   "source": [
    "for r in range(3):\n",
    "    for c in range(3):\n",
    "        if lst[r][c] % 2 !=0:\n",
    "            print('#')"
   ]
  },
  {
   "cell_type": "code",
   "execution_count": null,
   "metadata": {},
   "outputs": [],
   "source": [
    "dct={'one':'two','three':'two','two':'three'}\n",
    "v=dct['three']\n",
    "for k in range(len(dct)):\n",
    "    v=dct[v]\n",
    "print(v)"
   ]
  },
  {
   "cell_type": "code",
   "execution_count": null,
   "metadata": {},
   "outputs": [],
   "source": [
    "def f1(a):\n",
    "    return None\n",
    "def f2(a):\n",
    "    return f1(a)*f1(a)\n",
    "print(f2(2))"
   ]
  },
  {
   "cell_type": "code",
   "execution_count": null,
   "metadata": {},
   "outputs": [],
   "source": [
    "list=[x*x for x in range(5)]\n",
    "def fun(lst):\n",
    "    del lst[lst(2)]\n",
    "    return lst\n",
    "print(fun(list))\n"
   ]
  },
  {
   "cell_type": "code",
   "execution_count": null,
   "metadata": {},
   "outputs": [],
   "source": [
    "lst"
   ]
  },
  {
   "cell_type": "code",
   "execution_count": null,
   "metadata": {},
   "outputs": [],
   "source": [
    "def fun(lst):\n",
    "    del lst[lst(2)]\n",
    "    return lst\n",
    "print(fun(lst))"
   ]
  },
  {
   "cell_type": "code",
   "execution_count": null,
   "metadata": {},
   "outputs": [],
   "source": [
    "in"
   ]
  },
  {
   "cell_type": "code",
   "execution_count": null,
   "metadata": {},
   "outputs": [],
   "source": [
    "3%2"
   ]
  },
  {
   "cell_type": "code",
   "execution_count": null,
   "metadata": {},
   "outputs": [],
   "source": [
    "1%2"
   ]
  },
  {
   "cell_type": "code",
   "execution_count": null,
   "metadata": {},
   "outputs": [],
   "source": [
    "2%1"
   ]
  },
  {
   "cell_type": "code",
   "execution_count": null,
   "metadata": {},
   "outputs": [],
   "source": [
    "lst=[i for i in range(-1,-2)]"
   ]
  },
  {
   "cell_type": "code",
   "execution_count": null,
   "metadata": {},
   "outputs": [],
   "source": [
    "lst"
   ]
  },
  {
   "cell_type": "code",
   "execution_count": null,
   "metadata": {},
   "outputs": [],
   "source": [
    "1^0"
   ]
  },
  {
   "cell_type": "code",
   "execution_count": null,
   "metadata": {},
   "outputs": [],
   "source": [
    "1^1"
   ]
  },
  {
   "cell_type": "code",
   "execution_count": null,
   "metadata": {},
   "outputs": [],
   "source": [
    "(4**(1/2))"
   ]
  },
  {
   "cell_type": "code",
   "execution_count": null,
   "metadata": {},
   "outputs": [],
   "source": [
    "1//2"
   ]
  },
  {
   "cell_type": "code",
   "execution_count": null,
   "metadata": {},
   "outputs": [],
   "source": [
    "x=1\n",
    "y=2\n",
    "x,y,z=x,x,y\n",
    "z,y,z=x,y,z\n",
    "print(x,y,z)"
   ]
  },
  {
   "cell_type": "code",
   "execution_count": null,
   "metadata": {},
   "outputs": [],
   "source": [
    "dct={}\n",
    "dct['1']=(1,2)\n",
    "dct['2']=(2,1)\n",
    "print(dct)\n",
    "for x in dct.keys():\n",
    "    #print(x)\n",
    "    print(dct[x][1],end=\"\")"
   ]
  },
  {
   "cell_type": "code",
   "execution_count": null,
   "metadata": {},
   "outputs": [],
   "source": [
    "def fun(x):\n",
    "    if x % 2 == 0:\n",
    "        return 1\n",
    "    else:\n",
    "        return 2\n",
    "print(fun(fun(2)))"
   ]
  },
  {
   "cell_type": "code",
   "execution_count": null,
   "metadata": {},
   "outputs": [],
   "source": [
    "dd={\"1\":\"0\",\"0\":\"1\"}\n",
    "for i in dd.vals():\n",
    "    print(x,end=\"\")"
   ]
  },
  {
   "cell_type": "code",
   "execution_count": null,
   "metadata": {},
   "outputs": [],
   "source": [
    "def fun(a,b):\n",
    "    return b**a\n",
    "print(fun(b=2,2))"
   ]
  },
  {
   "cell_type": "code",
   "execution_count": null,
   "metadata": {},
   "outputs": [],
   "source": [
    "nums=[1,2,3]\n",
    "vals=nums\n"
   ]
  },
  {
   "cell_type": "code",
   "execution_count": null,
   "metadata": {},
   "outputs": [],
   "source": [
    "vals"
   ]
  },
  {
   "cell_type": "code",
   "execution_count": null,
   "metadata": {},
   "outputs": [],
   "source": [
    "nums"
   ]
  },
  {
   "cell_type": "code",
   "execution_count": null,
   "metadata": {},
   "outputs": [],
   "source": [
    "a=0\n",
    "b=1\n",
    "a=a^b\n",
    "b=a^b\n",
    "a=a^b\n",
    "print(a,b)"
   ]
  },
  {
   "cell_type": "code",
   "execution_count": null,
   "metadata": {},
   "outputs": [],
   "source": [
    "1//5"
   ]
  },
  {
   "cell_type": "code",
   "execution_count": null,
   "metadata": {},
   "outputs": [],
   "source": [
    "print(\"a\",\"b\",\"c\",sep=\"sep\")"
   ]
  },
  {
   "cell_type": "code",
   "execution_count": null,
   "metadata": {},
   "outputs": [],
   "source": [
    "#3 NOV"
   ]
  },
  {
   "cell_type": "code",
   "execution_count": null,
   "metadata": {},
   "outputs": [],
   "source": [
    "import math\n",
    "\n",
    "def sin(x):\n",
    "    if 2 * x == pi:\n",
    "        return 0.99999999\n",
    "    else:\n",
    "        return None\n",
    "\n",
    "pi = 3.14\n",
    "\n",
    "print(sin(pi/2))\n",
    "print(math.sin(math.pi/2))"
   ]
  },
  {
   "cell_type": "code",
   "execution_count": null,
   "metadata": {},
   "outputs": [],
   "source": [
    "#3 nov"
   ]
  },
  {
   "cell_type": "code",
   "execution_count": null,
   "metadata": {},
   "outputs": [],
   "source": [
    "from math import ceil, floor, trunc\n",
    "\n",
    "x = 1.4\n",
    "y = 2.6\n",
    "\n",
    "print(floor(x), floor(y))\n",
    "print(floor(-x), floor(-y))\n",
    "print(ceil(x), ceil(y))\n",
    "print(ceil(-x), ceil(-y))\n",
    "print(trunc(x), trunc(y))\n",
    "print(trunc(-x), trunc(-y))"
   ]
  },
  {
   "cell_type": "markdown",
   "metadata": {},
   "source": [
    "* ceil(x) → the ceiling of x (the smallest integer greater than or equal to x)\n",
    "* floor(x) → the floor of x (the largest integer less than or equal to x)\n",
    "* trunc(x) → the value of x truncated to an integer (be careful - it's not an equivalent either of ceil or floor)\n",
    "* factorial(x) → returns x! (x has to be an integral and not a negative)\n",
    "* hypot(x, y) → returns the length of the hypotenuse of a right-angle triangle with the leg lengths equal to x and y (the     same as sqrt(pow(x, 2) + pow(y, 2)) but more precise)"
   ]
  },
  {
   "cell_type": "code",
   "execution_count": null,
   "metadata": {},
   "outputs": [],
   "source": [
    "c=input()\n",
    "if ((c >= 'a' and c <= 'z') or (c >= 'A' and c <= 'Z')) :\n",
    "    print(\"%d is an alphabet.\", c)\n",
    "else:\n",
    "    print(\"not an alpabet\")"
   ]
  },
  {
   "cell_type": "code",
   "execution_count": null,
   "metadata": {},
   "outputs": [],
   "source": [
    "d=input()\n",
    "\n",
    "len(d)"
   ]
  },
  {
   "cell_type": "code",
   "execution_count": null,
   "metadata": {},
   "outputs": [],
   "source": [
    "num=int(input())\n",
    "counter = 0\n",
    "while(num!=0):\n",
    "    counter+=counter\n",
    "    num = num / 10\n",
    "print(counter)"
   ]
  },
  {
   "cell_type": "code",
   "execution_count": null,
   "metadata": {},
   "outputs": [],
   "source": [
    "#nov 4"
   ]
  },
  {
   "cell_type": "code",
   "execution_count": null,
   "metadata": {},
   "outputs": [],
   "source": [
    "from platform import python_implementation, python_version_tuple\n",
    "\n",
    "print(python_implementation())\n",
    "\n",
    "for atr in python_version_tuple():\n",
    "    print(atr)"
   ]
  },
  {
   "cell_type": "markdown",
   "metadata": {},
   "source": [
    "* Write a program which will find all such numbers which are divisible by 7 but are not amultiple of 5, between 2000 and 3200 (both included). The numbers obtained should be printed in a comma-separated sequence on a single line."
   ]
  },
  {
   "cell_type": "code",
   "execution_count": null,
   "metadata": {},
   "outputs": [],
   "source": [
    "nl=[]\n",
    "for x in range(2000, 3200):\n",
    "    if (x%7==0) and (x%5!=0):\n",
    "        nl.append(str(x))\n",
    "print (','.join(nl))\n"
   ]
  },
  {
   "cell_type": "markdown",
   "metadata": {},
   "source": [
    "* Write a Python program to accept the user's first and last name and thengetting themprinted in the the reverse order with a space between first name and last name."
   ]
  },
  {
   "cell_type": "code",
   "execution_count": null,
   "metadata": {},
   "outputs": [],
   "source": [
    "fname = input(\"Input your First Name : \")\n",
    "lname = input(\"Input your Last Name : \")\n",
    "print (\"Hello  \" + lname + \" \" + fname)"
   ]
  },
  {
   "cell_type": "markdown",
   "metadata": {},
   "source": [
    "* Write a Python program to find the volume of a sphere with diameter 12 cm."
   ]
  },
  {
   "cell_type": "code",
   "execution_count": null,
   "metadata": {},
   "outputs": [],
   "source": [
    "pi = 3.1415926535897931\n",
    "r= 12\n",
    "d=r//2\n",
    "V= 4.0/3.0*pi* r**3\n",
    "print('The volume of the sphere is: ',V)\n"
   ]
  },
  {
   "cell_type": "code",
   "execution_count": null,
   "metadata": {},
   "outputs": [],
   "source": [
    "a=[\"Americans \",\"Indians\"]\n",
    "b=[\"play\",\"watch\"]\n",
    "c=[\"Baseball\",\"Cricket\"]\n",
    "for i in a:\n",
    "    for j in b:\n",
    "        for k in c:\n",
    "            print(i,j,k,\".\")"
   ]
  },
  {
   "cell_type": "code",
   "execution_count": null,
   "metadata": {},
   "outputs": [],
   "source": [
    "n=5;\n",
    "for i in range(n):\n",
    "    for j in range(i):\n",
    "        print ('* ', end=\"\")\n",
    "    print('')\n",
    "\n",
    "for i in range(n,0,-1):\n",
    "    for j in range(i):\n",
    "        print('* ', end=\"\")\n",
    "    print('')"
   ]
  },
  {
   "cell_type": "code",
   "execution_count": null,
   "metadata": {},
   "outputs": [],
   "source": [
    "n=5;\n",
    "for i in range(n):\n",
    "    for j in range(i):\n",
    "        print ('* ', end=\"\")\n",
    "    print('')"
   ]
  },
  {
   "cell_type": "code",
   "execution_count": null,
   "metadata": {},
   "outputs": [],
   "source": [
    "n=5\n",
    "for i in range(n,0,-1):\n",
    "    #print(i)\n",
    "    for j in range(i):\n",
    "        print('* ', end=\"\")\n",
    "    print('')"
   ]
  },
  {
   "cell_type": "markdown",
   "metadata": {},
   "source": [
    "# Reduce Function"
   ]
  },
  {
   "cell_type": "code",
   "execution_count": null,
   "metadata": {},
   "outputs": [],
   "source": [
    "from functools import reduce\n",
    " \n",
    "def do_sum(x1, x2): \n",
    "    return x1 + x2\n",
    "\n",
    "print(reduce(do_sum, [1, 2, 3, 4]))"
   ]
  },
  {
   "cell_type": "code",
   "execution_count": null,
   "metadata": {},
   "outputs": [],
   "source": [
    "def do_sum(x1, x2): \n",
    "    return x1 + x2\n",
    "\n",
    "def my_reduce(func, seq):\n",
    "    first = seq[0]\n",
    "    for i in seq[1:]:\n",
    "        first = func(first, i)\n",
    "    return first\n",
    "\n",
    "print(my_reduce(do_sum, [1, 2, 3, 4]))\n"
   ]
  },
  {
   "cell_type": "markdown",
   "metadata": {},
   "source": [
    "# Python filter() Function"
   ]
  },
  {
   "cell_type": "code",
   "execution_count": null,
   "metadata": {},
   "outputs": [],
   "source": [
    "# list of letters\n",
    "letters = ['a', 'b', 'd', 'e', 'i', 'j', 'o']\n",
    "\n",
    "# function that filters vowels\n",
    "def filterVowels(letter):\n",
    "    vowels = ['a', 'e', 'i', 'o', 'u']\n",
    "\n",
    "    if(letter in vowels):\n",
    "        return True\n",
    "    else:\n",
    "        return False\n",
    "\n",
    "filteredVowels = filter(filterVowels, letters)\n",
    "\n",
    "print('The filtered vowels are:')\n",
    "for vowel in filteredVowels:\n",
    "    print(vowel)"
   ]
  },
  {
   "cell_type": "code",
   "execution_count": null,
   "metadata": {},
   "outputs": [],
   "source": [
    "ages = [5, 12, 17, 18, 24, 32]\n",
    "\n",
    "def myFunc(x):\n",
    "    if x < 18:\n",
    "        return False\n",
    "    else:\n",
    "        return True\n",
    "\n",
    "adults = filter(myFunc, ages)\n",
    "\n",
    "for x in adults:\n",
    "    print(x)"
   ]
  },
  {
   "cell_type": "code",
   "execution_count": null,
   "metadata": {},
   "outputs": [],
   "source": [
    "input_list = ['x','y','z']\n",
    "result = [ i*num for i in input_list for num in range(1,5)  ]\n",
    "print(\"['x','y','z'] => \" +   str(result))"
   ]
  },
  {
   "cell_type": "code",
   "execution_count": null,
   "metadata": {},
   "outputs": [],
   "source": [
    "input_list = ['x','y','z']\n",
    "result=[]\n",
    "for i in input_list:\n",
    "    for num in range(1,5):\n",
    "        result.append(i*num)\n",
    "print(result)"
   ]
  },
  {
   "cell_type": "code",
   "execution_count": null,
   "metadata": {},
   "outputs": [],
   "source": [
    "input_list = ['x','y','z']\n",
    "result=[]\n",
    "for num in range(1,5):\n",
    "    for i in input_list:\n",
    "    #for num in range(1,5):\n",
    "        result.append(i*num)\n",
    "print(result)"
   ]
  },
  {
   "cell_type": "code",
   "execution_count": null,
   "metadata": {},
   "outputs": [],
   "source": [
    "input_list = [2,3,4]\n",
    "result = [ [item+num] for item in input_list for num in range(0,3)]\n",
    "print(\"[2,3,4] =>\" +  str(result))"
   ]
  },
  {
   "cell_type": "code",
   "execution_count": null,
   "metadata": {},
   "outputs": [],
   "source": [
    "input_list = [2,3,4]\n",
    "result=[]\n",
    "for item in input_list:\n",
    "    for num in range(0,3):\n",
    "        print(num)\n",
    "        print(\"item\",item)\n",
    "        result.append([item+num])\n",
    "print(result)"
   ]
  },
  {
   "cell_type": "code",
   "execution_count": null,
   "metadata": {},
   "outputs": [],
   "source": [
    "input_list = [2,3,4,5]\n",
    "result = [ [item+num for item in input_list] for num in range(0,4)  ]\n",
    "print(\"[2,3,4,5] =>\" +  str(result))\n"
   ]
  },
  {
   "cell_type": "code",
   "execution_count": null,
   "metadata": {},
   "outputs": [],
   "source": [
    "input_list=[1,2,3]\n",
    "result=[]\n",
    "for b in input_list:\n",
    "    for a in input_list:\n",
    "        result.append((b,a))\n",
    "print(result)    \n"
   ]
  },
  {
   "cell_type": "markdown",
   "metadata": {},
   "source": [
    "Write a Python Program(with class concepts) to find the area of the triangle using the below\n",
    "formula.\n",
    "* area = (s*(s-a)*(s-b)*(s-c)) ** 0.5\n",
    "  Function to take the length of the sides of triangle from user should be defined in the parent\n",
    "  class and function to calculate the area should be defined in subclass."
   ]
  },
  {
   "cell_type": "code",
   "execution_count": null,
   "metadata": {},
   "outputs": [],
   "source": [
    "class poly:\n",
    "    def __init__(self,a,b,c):\n",
    "        self.a = float(a)\n",
    "        self.b = float(b)\n",
    "        self.c = float(c)\n",
    "a= int(input(\"a=\"))\n",
    "b= int(input(\"b=\"))\n",
    "c= int(input(\"c=\"))\n",
    "\n",
    "class triangle(poly):\n",
    "    def __init__(self,a,b,c):\n",
    "        super().__init__(a,b,c)\n",
    "\n",
    "    def get_area(self):\n",
    "        s = (a + b + c) / 2\n",
    "        return (s*(s-a)*(s-b)*(s-c)) ** 0.5 \n",
    "        \n",
    "\n",
    "t = triangle(a,b,c)\n",
    "print(\"area : {}\".format(t.get_area()))"
   ]
  },
  {
   "cell_type": "code",
   "execution_count": null,
   "metadata": {},
   "outputs": [],
   "source": [
    "class Sides:\n",
    "    def __init__(self,a, b, c):\n",
    "        self.a = float(a)\n",
    "        self.b = float(b)\n",
    "        self.c = float(c)\n",
    "a= int(input(\"a=\"))\n",
    "b= int(input(\"b=\"))\n",
    "c= int(input(\"c=\"))\n",
    "    \n",
    "class A(Sides):\n",
    "    def area(self):\n",
    "        s = (self.a + self.b + self.c)/2\n",
    "        return (s*(s-self.a)*(s-self.b)*(s-self.c)) ** 0.5\n",
    "\n",
    "t = A(a,b,c)\n",
    "\n",
    "print(\"area of Triangle : {}\".format(t.area()))"
   ]
  },
  {
   "cell_type": "markdown",
   "metadata": {},
   "source": [
    "* Write a function filter_long_words() that takes a list of words and an integer n and returns the list of words that are longer than n."
   ]
  },
  {
   "cell_type": "code",
   "execution_count": null,
   "metadata": {},
   "outputs": [],
   "source": [
    "def long_words(n, str):  \n",
    "    word_len = []  \n",
    "    txt = str.split(\" \")  \n",
    "    for x in txt:  \n",
    "        if len(x) > n:  \n",
    "            word_len.append(x)  \n",
    "    return word_len   \n",
    "print(long_words(3, \"The quick brown fox jumps over the lazy dog\"))  \n"
   ]
  },
  {
   "cell_type": "code",
   "execution_count": null,
   "metadata": {},
   "outputs": [],
   "source": [
    "str= \"The quick brown fox jumps over the lazy dog\"  \n",
    "txt = str.split(\" \")"
   ]
  },
  {
   "cell_type": "code",
   "execution_count": null,
   "metadata": {},
   "outputs": [],
   "source": [
    "txt"
   ]
  },
  {
   "cell_type": "markdown",
   "metadata": {},
   "source": [
    "* Write a Python program using function concept that maps list of words into a list of integers\n",
    " representing the lengths of the corresponding words.\n",
    " Hint: If a list [ ab,cde,erty] is passed on to the python function output should come as [2,3,4]\n",
    " Here 2,3 and 4 are the lengths of the words in the list."
   ]
  },
  {
   "cell_type": "code",
   "execution_count": null,
   "metadata": {},
   "outputs": [],
   "source": [
    "def myfunc(n):\n",
    "    return len(n)\n",
    "\n",
    "x = map(myfunc, ('apple', 'banana', 'cherry'))\n"
   ]
  },
  {
   "cell_type": "code",
   "execution_count": 2,
   "metadata": {},
   "outputs": [
    {
     "name": "stdout",
     "output_type": "stream",
     "text": [
      "List of words:['wordOne', 'wordTwo', 'wordThree', 'wordFour', 'wordFive']\n",
      "List of wordlength:[7, 7, 9, 8, 8]\n"
     ]
    }
   ],
   "source": [
    "listOfWords = ['wordOne','wordTwo','wordThree','wordFour','wordFive']\n",
    "\n",
    "listOfInts = []\n",
    "\n",
    "for i in range(len(listOfWords)):\n",
    "    listOfInts.append(len(listOfWords[i]))\n",
    "\n",
    "print (\"List of words:\"+str(listOfWords))    \n",
    "print (\"List of wordlength:\"+str(listOfInts))"
   ]
  },
  {
   "cell_type": "markdown",
   "metadata": {},
   "source": [
    "2.2 Write a Python function which takes a character (i.e. a string of length 1) and returns True if it is a vowel, False otherwise"
   ]
  },
  {
   "cell_type": "code",
   "execution_count": 3,
   "metadata": {},
   "outputs": [
    {
     "name": "stdout",
     "output_type": "stream",
     "text": [
      "enter a string of length 1: s\n",
      "False\n"
     ]
    }
   ],
   "source": [
    "def isVowel(char):\n",
    "    if char.lower() in 'aeiou':\n",
    "        return True\n",
    "    else:\n",
    "        return False\n",
    "char=input(\"enter a string of length 1: \")\n",
    "print(isVowel(char))"
   ]
  },
  {
   "cell_type": "markdown",
   "metadata": {},
   "source": [
    "# Exception"
   ]
  },
  {
   "cell_type": "code",
   "execution_count": null,
   "metadata": {},
   "outputs": [],
   "source": [
    "firstNumber = int(input(\"Enter the first number: \"))\n",
    "secondNumber = int(input(\"Enter the second number: \"))\n",
    "\n",
    "try:\n",
    "    print(firstNumber / secondNumber)\n",
    "except:\n",
    "    print(\"This operation cannot be done.\")\n",
    "\n",
    "print(\"THE END.\")"
   ]
  },
  {
   "cell_type": "code",
   "execution_count": null,
   "metadata": {},
   "outputs": [],
   "source": [
    "try:\n",
    "    print(\"1\")\n",
    "    x = 1 / 0\n",
    "    print(\"2\")\n",
    "except:\n",
    "    print(\"Oh dear, something went wrong...\")\n",
    "\n",
    "print(\"3\")"
   ]
  },
  {
   "cell_type": "raw",
   "metadata": {},
   "source": [
    "Note: the print(\"2\") instruction was lost in the process."
   ]
  },
  {
   "cell_type": "code",
   "execution_count": null,
   "metadata": {},
   "outputs": [],
   "source": [
    "try:\n",
    "    x = int(input(\"Enter a number: \"))\n",
    "    y = 1 / x\n",
    "    print(y)\n",
    "except ZeroDivisionError:\n",
    "    print(\"You cannot divide by zero, sorry.\")\n",
    "except ValueError:\n",
    "    print(\"You must enter an integer value.\")\n",
    "except:\n",
    "    print(\"Oh dear, something went wrong...\")\n",
    "\n",
    "print(\"THE END.\")"
   ]
  },
  {
   "cell_type": "code",
   "execution_count": null,
   "metadata": {},
   "outputs": [],
   "source": [
    "try:\n",
    "    x = int(input(\"Enter a number: \"))\n",
    "    y = 1 / x\n",
    "    print(y)\n",
    "except ValueError:\n",
    "    print(\"You must enter an integer value.\")\n",
    "except:\n",
    "    print(\"Oh dear, something went wrong...\")\n",
    "\n",
    "print(\"THE END.\")"
   ]
  },
  {
   "cell_type": "code",
   "execution_count": null,
   "metadata": {},
   "outputs": [],
   "source": [
    "try:\n",
    "    x = int(input(\"Enter a number: \"))\n",
    "    y = 1 / x\n",
    "    print(y)\n",
    "except ValueError:\n",
    "    print(\"You must enter an integer value.\")\n",
    "\n",
    "print(\"THE END.\")"
   ]
  },
  {
   "cell_type": "markdown",
   "metadata": {},
   "source": [
    "Python 3 defines 63 built-in exceptions, and all of them form a tree-shaped hierarchy, although the tree is a bit weird as its root is located on top."
   ]
  },
  {
   "cell_type": "raw",
   "metadata": {},
   "source": [
    "BaseException\n",
    "↑\n",
    "Exception\n",
    "↑\n",
    "ArithmeticError\n",
    "↑\n",
    "ZeroDivisionError"
   ]
  },
  {
   "cell_type": "code",
   "execution_count": null,
   "metadata": {},
   "outputs": [],
   "source": [
    "try:\n",
    "    y = 1 / 0\n",
    "except ZeroDivisionError:\n",
    "    print(\"Zero Division!\")\n",
    "except ArithmeticError:\n",
    "    print(\"Arithmetic problem!\")\n",
    "\n",
    "print(\"THE END.\")"
   ]
  },
  {
   "cell_type": "code",
   "execution_count": null,
   "metadata": {},
   "outputs": [],
   "source": [
    "try:\n",
    "    y = 1 / 0\n",
    "except ArithmeticError:\n",
    "    print(\"Arithmetic problem!\")\n",
    "except ZeroDivisionError:\n",
    "    print(\"Zero Division!\")\n",
    "\n",
    "print(\"THE END.\")"
   ]
  },
  {
   "cell_type": "code",
   "execution_count": null,
   "metadata": {},
   "outputs": [],
   "source": [
    "def badFun(n):\n",
    "    raise ZeroDivisionError\n",
    "\n",
    "try:\n",
    "    badFun(0)\n",
    "except ArithmeticError:\n",
    "    print(\"What happened? An error?\")\n",
    "\n",
    "print(\"THE END.\")"
   ]
  },
  {
   "cell_type": "code",
   "execution_count": null,
   "metadata": {},
   "outputs": [],
   "source": [
    "# this code cannot be terminated\n",
    "# by pressing Ctrl-C\n",
    "\n",
    "from time import sleep\n",
    "seconds = 0\n",
    "while True:\n",
    "    try:\n",
    "        print(seconds)\n",
    "        seconds += 1\n",
    "        sleep(1)\n",
    "    except KeyboardInterrupt:=\n",
    "        print(\"Don't do that!\")"
   ]
  },
  {
   "cell_type": "code",
   "execution_count": 1,
   "metadata": {},
   "outputs": [
    {
     "name": "stdout",
     "output_type": "stream",
     "text": [
      "2\n",
      "4\n",
      "8\n",
      "16\n",
      "32\n",
      "64\n",
      "128\n",
      "256\n",
      "512\n",
      "1024\n",
      "2048\n",
      "4096\n",
      "8192\n",
      "16384\n",
      "32768\n",
      "65536\n",
      "131072\n",
      "262144\n",
      "524288\n",
      "1048576\n",
      "2097152\n",
      "4194304\n",
      "8388608\n",
      "16777216\n",
      "33554432\n",
      "67108864\n",
      "134217728\n",
      "268435456\n",
      "536870912\n",
      "1073741824\n",
      "2147483648\n",
      "4294967296\n",
      "This is not funny!\n"
     ]
    }
   ],
   "source": [
    "# this code causes the MemoryError exception\n",
    "# warning: executing this code may be crucial\n",
    "# for your OS\n",
    "# don't run it in production environments!\n",
    "\n",
    "string = 'x'\n",
    "try:\n",
    "    while True:\n",
    "        string = string + string\n",
    "        print(len(string))\n",
    "except MemoryError:\n",
    "    print('This is not funny!')"
   ]
  },
  {
   "cell_type": "code",
   "execution_count": 4,
   "metadata": {},
   "outputs": [
    {
     "name": "stdout",
     "output_type": "stream",
     "text": [
      "One of your imports has failed.\n"
     ]
    }
   ],
   "source": [
    "# one of this imports will fail - which one?\n",
    "\n",
    "try:\n",
    "    import math\n",
    "    import time\n",
    "    import abracadabra\n",
    "\n",
    "except:\n",
    "    print('One of your imports has failed.')\n"
   ]
  },
  {
   "cell_type": "code",
   "execution_count": 1,
   "metadata": {},
   "outputs": [
    {
     "name": "stdout",
     "output_type": "stream",
     "text": [
      "Abcd\n"
     ]
    }
   ],
   "source": [
    "# Demonstrating the capitalize() method\n",
    "print('aBcD'.capitalize())"
   ]
  },
  {
   "cell_type": "code",
   "execution_count": 2,
   "metadata": {},
   "outputs": [
    {
     "name": "stdout",
     "output_type": "stream",
     "text": [
      "Alpha\n",
      "Alpha\n",
      " alpha\n",
      "123\n",
      "Αβγδ\n"
     ]
    }
   ],
   "source": [
    "print(\"Alpha\".capitalize())\n",
    "print('ALPHA'.capitalize())\n",
    "print(' Alpha'.capitalize())\n",
    "print('123'.capitalize())\n",
    "print(\"αβγδ\".capitalize())"
   ]
  },
  {
   "cell_type": "code",
   "execution_count": 5,
   "metadata": {},
   "outputs": [
    {
     "name": "stdout",
     "output_type": "stream",
     "text": [
      "[Beta]\n",
      "[Beta]\n",
      "[ Beta ]\n",
      "[*******gamma********]\n",
      "[  alpha   ]\n"
     ]
    }
   ],
   "source": [
    "print('[' + 'Beta'.center(2) + ']')\n",
    "print('[' + 'Beta'.center(4) + ']')\n",
    "print('[' + 'Beta'.center(6) + ']')\n",
    "print('[' + 'gamma'.center(20, '*') + ']')\n",
    "print('[' + 'alpha'.center(10) + ']')"
   ]
  },
  {
   "cell_type": "code",
   "execution_count": 6,
   "metadata": {},
   "outputs": [
    {
     "name": "stdout",
     "output_type": "stream",
     "text": [
      "yes\n"
     ]
    }
   ],
   "source": [
    "# Demonstrating the endswith() method\n",
    "if \"epsilon\".endswith(\"on\"):\n",
    "    print(\"yes\")\n",
    "else:\n",
    "    print(\"no\")"
   ]
  },
  {
   "cell_type": "code",
   "execution_count": 7,
   "metadata": {},
   "outputs": [
    {
     "name": "stdout",
     "output_type": "stream",
     "text": [
      "True\n",
      "False\n",
      "False\n",
      "True\n"
     ]
    }
   ],
   "source": [
    "t = \"zeta\"\n",
    "print(t.endswith(\"a\"))\n",
    "print(t.endswith(\"A\"))\n",
    "print(t.endswith(\"et\"))\n",
    "print(t.endswith(\"eta\"))"
   ]
  },
  {
   "cell_type": "code",
   "execution_count": 8,
   "metadata": {},
   "outputs": [
    {
     "name": "stdout",
     "output_type": "stream",
     "text": [
      "2\n",
      "2\n",
      "0\n",
      "-1\n"
     ]
    }
   ],
   "source": [
    "t = 'theta'\n",
    "print(t.find('eta'))\n",
    "print(t.find('et'))\n",
    "print(t.find('the'))\n",
    "print(t.find('ha'))"
   ]
  },
  {
   "cell_type": "markdown",
   "metadata": {},
   "source": [
    "It's safer - it doesn't generate an error for an argument containing a non-existent substring (it returns -1 then)"
   ]
  },
  {
   "cell_type": "code",
   "execution_count": 9,
   "metadata": {},
   "outputs": [
    {
     "name": "stdout",
     "output_type": "stream",
     "text": [
      "False\n",
      "True\n",
      "True\n"
     ]
    }
   ],
   "source": [
    "t = 'Six lambdas'\n",
    "print(t.isalnum())\n",
    "\n",
    "t = 'ΑβΓδ'\n",
    "print(t.isalnum())\n",
    "\n",
    "t = '20E1'\n",
    "print(t.isalnum())"
   ]
  },
  {
   "cell_type": "code",
   "execution_count": 10,
   "metadata": {},
   "outputs": [
    {
     "name": "stdout",
     "output_type": "stream",
     "text": [
      "False\n",
      "True\n",
      "True\n",
      "True\n",
      "False\n",
      "False\n",
      "False\n",
      "True\n"
     ]
    }
   ],
   "source": [
    "# Example 1: Demonstrating the islower() method\n",
    "print(\"Moooo\".islower())\n",
    "print('moooo'.islower())\n",
    "\n",
    "# Example 2: Demonstrating the isspace() method- identifies whitespaces only\n",
    "print(' \\n '.isspace())\n",
    "print(\" \".isspace())\n",
    "print(\"mooo mooo mooo\".isspace())\n",
    "\n",
    "# Example 3: Demonstrating the isupper() method\n",
    "print(\"Moooo\".isupper())\n",
    "print('moooo'.isupper())\n",
    "print('MOOOO'.isupper())"
   ]
  },
  {
   "cell_type": "code",
   "execution_count": 11,
   "metadata": {},
   "outputs": [
    {
     "name": "stdout",
     "output_type": "stream",
     "text": [
      "omicron,pi,rho\n"
     ]
    }
   ],
   "source": [
    "# Demonstrating the join() method\n",
    "print(\",\".join([\"omicron\", \"pi\", \"rho\"]))"
   ]
  },
  {
   "cell_type": "code",
   "execution_count": 12,
   "metadata": {},
   "outputs": [
    {
     "name": "stdout",
     "output_type": "stream",
     "text": [
      "cisco.com\n",
      "[tau ]\n",
      "pythoninstitute.org\n"
     ]
    }
   ],
   "source": [
    "#one-parameter lstrip() method does the same as its parameterless version,\n",
    "#but removes all characters enlisted in its argument (a string), not just whitespaces:\n",
    "print(\"www.cisco.com\".lstrip(\"w.\"))\n",
    "# Demonstrating the lstrip() method\n",
    "print(\"[\" + \" tau \".lstrip() + \"]\")\n",
    "print(\"pythoninstitute.org\".lstrip(\".org\"))"
   ]
  },
  {
   "cell_type": "code",
   "execution_count": 13,
   "metadata": {},
   "outputs": [
    {
     "name": "stdout",
     "output_type": "stream",
     "text": [
      "[ upsilon]\n",
      "cis\n"
     ]
    }
   ],
   "source": [
    "# Demonstrating the rstrip() method\n",
    "print(\"[\" + \" upsilon \".rstrip() + \"]\")\n",
    "print(\"cisco.com\".rstrip(\".com\"))"
   ]
  },
  {
   "cell_type": "code",
   "execution_count": 14,
   "metadata": {},
   "outputs": [
    {
     "name": "stdout",
     "output_type": "stream",
     "text": [
      "i KNOW THAT i KNOW NOTHING.\n",
      "\n",
      "I Know That I Know Nothing. Part 1.\n",
      "\n",
      "I KNOW THAT I KNOW NOTHING. PART 2.\n"
     ]
    }
   ],
   "source": [
    "# Demonstrating the swapcase() method\n",
    "print(\"I know that I know nothing.\".swapcase())\n",
    "\n",
    "print()\n",
    "\n",
    "# Demonstrating the title() method\n",
    "print(\"I know that I know nothing. Part 1.\".title())\n",
    "\n",
    "print()\n",
    "\n",
    "# Demonstrating the upper() method\n",
    "print(\"I know that I know nothing. Part 2.\".upper())"
   ]
  },
  {
   "cell_type": "code",
   "execution_count": 15,
   "metadata": {},
   "outputs": [
    {
     "name": "stdout",
     "output_type": "stream",
     "text": [
      "['To', 'be', 'or', 'not', 'to', 'be,', 'that', 'is', 'the', 'question']\n",
      "['To', 'be', 'or', 'not', 'to', 'be,that', 'is', 'the', 'question']\n",
      "[]\n",
      "['abc']\n",
      "[]\n"
     ]
    }
   ],
   "source": [
    "lst=[]\n",
    "def mysplit(strng):\n",
    "    lst=strng.split()\n",
    "    return lst\n",
    "#\n",
    "# put your code here\n",
    "#\n",
    "\n",
    "print(mysplit(\"To be or not to be, that is the question\"))\n",
    "print(mysplit(\"To be or not to be,that is the question\"))\n",
    "print(mysplit(\"   \"))\n",
    "print(mysplit(\" abc \"))\n",
    "print(mysplit(\"\"))"
   ]
  },
  {
   "cell_type": "code",
   "execution_count": 16,
   "metadata": {},
   "outputs": [
    {
     "name": "stdout",
     "output_type": "stream",
     "text": [
      "Enter your message: sanjana\n",
      "TBOKBOB\n"
     ]
    }
   ],
   "source": [
    "# Caesar cipher\n",
    "text = input(\"Enter your message: \")\n",
    "cipher = ''\n",
    "for char in text:\n",
    "    if not char.isalpha():\n",
    "        continue\n",
    "    char = char.upper()\n",
    "    code = ord(char) + 1\n",
    "    if code > ord('Z'):\n",
    "        code = ord('A')\n",
    "    cipher += chr(code)\n",
    "\n",
    "print(cipher)"
   ]
  },
  {
   "cell_type": "raw",
   "metadata": {},
   "source": [
    "Let's trace the code:\n",
    "\n",
    "line 02: ask the user to enter the open (unencrypted), one-line message;\n",
    "line 03: prepare a string for an encrypted message (empty for now)\n",
    "line 04: start the iteration through the message;\n",
    "line 05: if the current character is not alphabetic...\n",
    "line 06: ...ignore it;\n",
    "line 07: convert the letter to upper-case (it's preferable to do it blindly, rather than check whether it's needed or not)\n",
    "line 08: get the code of the letter and increment it by one;\n",
    "line 09: if the resulting code has \"left\" the Latin alphabet (if it's greater than the Z code)...\n",
    "line 10: ...change it to the A code;\n",
    "line 11: append the received character to the end of the encrypted message;\n",
    "line 13: print the cipher."
   ]
  },
  {
   "cell_type": "code",
   "execution_count": 20,
   "metadata": {},
   "outputs": [
    {
     "name": "stdout",
     "output_type": "stream",
     "text": [
      "99\n"
     ]
    }
   ],
   "source": [
    "print(ord('c'))"
   ]
  },
  {
   "cell_type": "code",
   "execution_count": 21,
   "metadata": {},
   "outputs": [
    {
     "name": "stdout",
     "output_type": "stream",
     "text": [
      "False\n"
     ]
    }
   ],
   "source": [
    "print('Mike'>'Mikey')"
   ]
  },
  {
   "cell_type": "code",
   "execution_count": 22,
   "metadata": {},
   "outputs": [
    {
     "name": "stdout",
     "output_type": "stream",
     "text": [
      "1\n"
     ]
    }
   ],
   "source": [
    "x='\\''\n",
    "print(len(x))"
   ]
  },
  {
   "cell_type": "code",
   "execution_count": 23,
   "metadata": {},
   "outputs": [
    {
     "name": "stdout",
     "output_type": "stream",
     "text": [
      "1\n",
      "2\n",
      "3\n"
     ]
    }
   ],
   "source": [
    "#stack concept\n",
    "stack = []\n",
    "\n",
    "def push(val):\n",
    "    stack.append(val)\n",
    "\n",
    "\n",
    "def pop():\n",
    "    val = stack[-1]\n",
    "    del stack[-1]\n",
    "    return val\n",
    "\n",
    "push(3)\n",
    "push(2)\n",
    "push(1)\n",
    "\n",
    "print(pop())\n",
    "print(pop())\n",
    "print(pop())"
   ]
  },
  {
   "cell_type": "code",
   "execution_count": 24,
   "metadata": {},
   "outputs": [
    {
     "data": {
      "text/plain": [
       "[1,\n",
       " 3,\n",
       " 5,\n",
       " 7,\n",
       " 9,\n",
       " 11,\n",
       " 13,\n",
       " 15,\n",
       " 17,\n",
       " 19,\n",
       " 21,\n",
       " 23,\n",
       " 25,\n",
       " 27,\n",
       " 29,\n",
       " 31,\n",
       " 33,\n",
       " 35,\n",
       " 37,\n",
       " 39,\n",
       " 41,\n",
       " 43,\n",
       " 45,\n",
       " 47,\n",
       " 49]"
      ]
     },
     "execution_count": 24,
     "metadata": {},
     "output_type": "execute_result"
    }
   ],
   "source": [
    "list(range(1,50,2))"
   ]
  },
  {
   "cell_type": "code",
   "execution_count": 27,
   "metadata": {},
   "outputs": [
    {
     "data": {
      "text/plain": [
       "2450"
      ]
     },
     "execution_count": 27,
     "metadata": {},
     "output_type": "execute_result"
    }
   ],
   "source": [
    "sum(range(0,100,2))"
   ]
  },
  {
   "cell_type": "code",
   "execution_count": 28,
   "metadata": {},
   "outputs": [
    {
     "data": {
      "text/plain": [
       "2500"
      ]
     },
     "execution_count": 28,
     "metadata": {},
     "output_type": "execute_result"
    }
   ],
   "source": [
    "sum(range(1,100,2))"
   ]
  },
  {
   "cell_type": "markdown",
   "metadata": {},
   "source": [
    "# oops"
   ]
  },
  {
   "cell_type": "code",
   "execution_count": 29,
   "metadata": {},
   "outputs": [
    {
     "name": "stdout",
     "output_type": "stream",
     "text": [
      "Hi!\n"
     ]
    }
   ],
   "source": [
    "class Stack:    # defining the Stack class\n",
    "    def __init__(self):    # defining the constructor function\n",
    "        print(\"Hi!\")\n",
    "\n",
    "stackObject = Stack()    # instantiating the object"
   ]
  },
  {
   "cell_type": "code",
   "execution_count": 30,
   "metadata": {},
   "outputs": [
    {
     "name": "stdout",
     "output_type": "stream",
     "text": [
      "0\n"
     ]
    }
   ],
   "source": [
    "class Stack:\n",
    "    def __init__(self):\n",
    "        self.stackList = []\n",
    "\n",
    "stackObject = Stack()\n",
    "print(len(stackObject.stackList))"
   ]
  },
  {
   "cell_type": "code",
   "execution_count": 31,
   "metadata": {},
   "outputs": [
    {
     "ename": "AttributeError",
     "evalue": "'Stack' object has no attribute '__stackList'",
     "output_type": "error",
     "traceback": [
      "\u001b[1;31m---------------------------------------------------------------------------\u001b[0m",
      "\u001b[1;31mAttributeError\u001b[0m                            Traceback (most recent call last)",
      "\u001b[1;32m<ipython-input-31-9e3b7dedea00>\u001b[0m in \u001b[0;36m<module>\u001b[1;34m\u001b[0m\n\u001b[0;32m      4\u001b[0m \u001b[1;33m\u001b[0m\u001b[0m\n\u001b[0;32m      5\u001b[0m \u001b[0mstackObject\u001b[0m \u001b[1;33m=\u001b[0m \u001b[0mStack\u001b[0m\u001b[1;33m(\u001b[0m\u001b[1;33m)\u001b[0m\u001b[1;33m\u001b[0m\u001b[1;33m\u001b[0m\u001b[0m\n\u001b[1;32m----> 6\u001b[1;33m \u001b[0mprint\u001b[0m\u001b[1;33m(\u001b[0m\u001b[0mlen\u001b[0m\u001b[1;33m(\u001b[0m\u001b[0mstackObject\u001b[0m\u001b[1;33m.\u001b[0m\u001b[0m__stackList\u001b[0m\u001b[1;33m)\u001b[0m\u001b[1;33m)\u001b[0m\u001b[1;33m\u001b[0m\u001b[1;33m\u001b[0m\u001b[0m\n\u001b[0m",
      "\u001b[1;31mAttributeError\u001b[0m: 'Stack' object has no attribute '__stackList'"
     ]
    }
   ],
   "source": [
    "class Stack:\n",
    "    def __init__(self):\n",
    "        self.__stackList = []\n",
    "\n",
    "stackObject = Stack()\n",
    "print(len(stackObject.__stackList))"
   ]
  },
  {
   "cell_type": "raw",
   "metadata": {},
   "source": [
    "When any class component has a name starting with two underscores (__), it becomes private - this means that it can be accessed only from within the class.\n",
    "\n",
    "You cannot see it from the outside world. This is how Python implements the encapsulation concept.\n",
    "\n",
    "Run the program to test our assumptions - an AttributeError exception should be raised."
   ]
  },
  {
   "cell_type": "code",
   "execution_count": 34,
   "metadata": {},
   "outputs": [
    {
     "name": "stdout",
     "output_type": "stream",
     "text": [
      "1\n",
      "2\n",
      "3\n"
     ]
    }
   ],
   "source": [
    "class Stack:\n",
    "    def __init__(self):\n",
    "        self.__stackList = []\n",
    "\n",
    "    def push(self, val):\n",
    "        self.__stackList.append(val)\n",
    "\n",
    "    def pop(self):\n",
    "        val = self.__stackList[-1]\n",
    "        del self.__stackList[-1]\n",
    "        return val\n",
    "\n",
    "\n",
    "stackObject = Stack()\n",
    "\n",
    "stackObject.push(3)\n",
    "stackObject.push(2)\n",
    "stackObject.push(1)\n",
    "\n",
    "print(stackObject.pop())\n",
    "print(stackObject.pop())\n",
    "print(stackObject.pop())\n",
    "\n",
    "#print(len(stackObject.__stackList)) -- gives u error"
   ]
  },
  {
   "cell_type": "code",
   "execution_count": 35,
   "metadata": {},
   "outputs": [
    {
     "name": "stdout",
     "output_type": "stream",
     "text": [
      "3\n"
     ]
    }
   ],
   "source": [
    "class Stack:\n",
    "    def __init__(self):\n",
    "        self.__stackList = []\n",
    "\n",
    "    def push(self, val):\n",
    "        self.__stackList.append(val)\n",
    "\n",
    "    def pop(self):\n",
    "        val = self.__stackList[-1]\n",
    "        del self.__stackList[-1]\n",
    "        return val\n",
    "\n",
    "\n",
    "stackObject1 = Stack()\n",
    "stackObject2 = Stack()\n",
    "\n",
    "stackObject1.push(3)\n",
    "stackObject2.push(stackObject1.pop())\n",
    "\n",
    "print(stackObject2.pop())"
   ]
  },
  {
   "cell_type": "code",
   "execution_count": 38,
   "metadata": {},
   "outputs": [
    {
     "name": "stdout",
     "output_type": "stream",
     "text": [
      "0\n"
     ]
    }
   ],
   "source": [
    "class Stack:\n",
    "    def __init__(self):\n",
    "        self.__stackList = []\n",
    "\n",
    "    def push(self, val):\n",
    "        self.__stackList.append(val)\n",
    "\n",
    "    def pop(self):\n",
    "        val = self.__stackList[-1]\n",
    "        del self.__stackList[-1]\n",
    "        return val\n",
    "\n",
    "# enter code here\n",
    "littleStack = Stack()\n",
    "anotherStack = Stack()\n",
    "funnyStack = Stack()\n",
    "\n",
    "littleStack.push(1)\n",
    "anotherStack.push(littleStack.pop() + 1)\n",
    "funnyStack.push(anotherStack.pop() - 2)\n",
    "print(funnyStack.pop())\n"
   ]
  },
  {
   "cell_type": "code",
   "execution_count": 39,
   "metadata": {},
   "outputs": [],
   "source": [
    "class Stack:\n",
    "    def __init__(self):\n",
    "        self.__stackList = []\n",
    "\n",
    "    def push(self, val):\n",
    "        self.__stackList.append(val)\n",
    "\n",
    "    def pop(self):\n",
    "        val = self.__stackList[-1]\n",
    "        del self.__stackList[-1]\n",
    "        return val\n",
    "\n",
    "class AddingStack(Stack):\n",
    "    def __init__(self):\n",
    "        Stack.__init__(self)\n",
    "        self.__sum = 0\n",
    "\n",
    "# enter code here\n",
    "    def push(self, val):\n",
    "        self.__sum += val\n",
    "        Stack.push(self, val)"
   ]
  },
  {
   "cell_type": "raw",
   "metadata": {},
   "source": [
    "Secondly, let's add two methods. But let us ask you: is it really adding? We have these methods in the superclass already. Can we do something like that?\n",
    "\n",
    "Yes, we can. It means that we're going to change the functionality of the methods, not their names. We can say more precisely that the interface (the way in which the objects are handled) of the class remains the same when changing the implementation at the same time.\n",
    "\n",
    "Let's start with the implementation of the push function. This is what we expect from it:\n",
    "\n",
    "to add the value to the __sum variable;\n",
    "to push the value onto the stack.\n",
    "Note: the second activity has already been implemented inside the superclass - so we can use that. Furthermore, we have to use it, as there's no other way to access the __stackList variable.\n",
    "\n",
    "This is how the push method looks in the subclass:\n",
    "\n",
    "def push(self, val):\n",
    "    self.__sum += val\n",
    "    Stack.push(self, val)\n",
    "\n",
    "Note the way we've invoked the previous implementation of the push method (the one available in the superclass):\n",
    "\n",
    "we have to specify the superclass's name; this is necessary in order to clearly indicate the class containing the method, to avoid confusing it with any other function of the same name;\n",
    "we have to specify the target object and to pass it as the first argument (it's not implicitly added to the invocation in this context.)\n",
    "We say that the push method has been overridden - the same name as in the superclass now represents a different functionality."
   ]
  },
  {
   "cell_type": "code",
   "execution_count": 41,
   "metadata": {},
   "outputs": [
    {
     "name": "stdout",
     "output_type": "stream",
     "text": [
      "10\n",
      "4\n",
      "3\n",
      "2\n",
      "1\n",
      "0\n",
      "0\n"
     ]
    }
   ],
   "source": [
    "class Stack:\n",
    "    def __init__(self):\n",
    "        self.__stackList = []\n",
    "\n",
    "    def push(self, val):\n",
    "        self.__stackList.append(val)\n",
    "\n",
    "    def pop(self):\n",
    "        val = self.__stackList[-1]\n",
    "        del self.__stackList[-1]\n",
    "        return val\n",
    "\n",
    "\n",
    "class AddingStack(Stack):\n",
    "    def __init__(self):\n",
    "        Stack.__init__(self)\n",
    "        self.__sum = 0\n",
    "\n",
    "    def getSum(self):\n",
    "        return self.__sum\n",
    "\n",
    "    def push(self, val):\n",
    "        self.__sum += val\n",
    "        Stack.push(self, val)\n",
    "\n",
    "    def pop(self):\n",
    "        val = Stack.pop(self)\n",
    "        self.__sum -= val\n",
    "        return val\n",
    "\n",
    "\n",
    "stackObject = AddingStack()\n",
    "\n",
    "for i in range(5):\n",
    "    stackObject.push(i)\n",
    "print(stackObject.getSum())\n",
    "\n",
    "for i in range(5):\n",
    "    print(stackObject.pop())\n",
    "print(stackObject.getSum())"
   ]
  },
  {
   "cell_type": "code",
   "execution_count": 44,
   "metadata": {},
   "outputs": [
    {
     "name": "stdout",
     "output_type": "stream",
     "text": [
      "{'_ExampleClass__first': 1}\n",
      "{'_ExampleClass__first': 2, '_ExampleClass__second': 3}\n",
      "{'_ExampleClass__first': 4, '__third': 5}\n",
      "1\n"
     ]
    }
   ],
   "source": [
    "class ExampleClass:\n",
    "    def __init__(self, val = 1):\n",
    "        self.__first = val\n",
    "\n",
    "    def setSecond(self, val = 2):\n",
    "        self.__second = val\n",
    "\n",
    "\n",
    "exampleObject1 = ExampleClass()\n",
    "exampleObject2 = ExampleClass(2)\n",
    "\n",
    "exampleObject2.setSecond(3)\n",
    "\n",
    "exampleObject3 = ExampleClass(4)\n",
    "exampleObject3.__third = 5\n",
    "\n",
    "\n",
    "print(exampleObject1.__dict__)\n",
    "print(exampleObject2.__dict__)\n",
    "print(exampleObject3.__dict__)\n",
    "print(exampleObject1._ExampleClass__first)"
   ]
  },
  {
   "cell_type": "code",
   "execution_count": 45,
   "metadata": {},
   "outputs": [
    {
     "name": "stdout",
     "output_type": "stream",
     "text": [
      "{'_ExampleClass__first': 1} 3\n",
      "{'_ExampleClass__first': 2} 3\n",
      "{'_ExampleClass__first': 4} 3\n"
     ]
    }
   ],
   "source": [
    "class ExampleClass:\n",
    "    __counter = 0\n",
    "    def __init__(self, val = 1):\n",
    "        self.__first = val\n",
    "        ExampleClass.__counter += 1\n",
    "\n",
    "exampleObject1 = ExampleClass()\n",
    "exampleObject2 = ExampleClass(2)\n",
    "exampleObject3 = ExampleClass(4)\n",
    "\n",
    "print(exampleObject1.__dict__, exampleObject1._ExampleClass__counter)\n",
    "print(exampleObject2.__dict__, exampleObject2._ExampleClass__counter)\n",
    "print(exampleObject3.__dict__, exampleObject3._ExampleClass__counter)"
   ]
  },
  {
   "cell_type": "code",
   "execution_count": 46,
   "metadata": {},
   "outputs": [
    {
     "name": "stdout",
     "output_type": "stream",
     "text": [
      "{'__module__': '__main__', 'varia': 1, '__init__': <function ExampleClass.__init__ at 0x000002725EDEB400>, '__dict__': <attribute '__dict__' of 'ExampleClass' objects>, '__weakref__': <attribute '__weakref__' of 'ExampleClass' objects>, '__doc__': None}\n",
      "{'__module__': '__main__', 'varia': 2, '__init__': <function ExampleClass.__init__ at 0x000002725EDEB400>, '__dict__': <attribute '__dict__' of 'ExampleClass' objects>, '__weakref__': <attribute '__weakref__' of 'ExampleClass' objects>, '__doc__': None}\n",
      "{}\n"
     ]
    }
   ],
   "source": [
    "class ExampleClass:\n",
    "    varia = 1\n",
    "    def __init__(self, val):\n",
    "        #self.varia = val\n",
    "        ExampleClass.varia = val\n",
    "\n",
    "print(ExampleClass.__dict__)\n",
    "exampleObject = ExampleClass(2)\n",
    "\n",
    "print(ExampleClass.__dict__)\n",
    "print(exampleObject.__dict__)"
   ]
  },
  {
   "cell_type": "code",
   "execution_count": null,
   "metadata": {},
   "outputs": [],
   "source": []
  },
  {
   "cell_type": "code",
   "execution_count": 48,
   "metadata": {},
   "outputs": [
    {
     "name": "stdout",
     "output_type": "stream",
     "text": [
      "1\n"
     ]
    },
    {
     "ename": "AttributeError",
     "evalue": "'ExampleClass' object has no attribute 'b'",
     "output_type": "error",
     "traceback": [
      "\u001b[1;31m---------------------------------------------------------------------------\u001b[0m",
      "\u001b[1;31mAttributeError\u001b[0m                            Traceback (most recent call last)",
      "\u001b[1;32m<ipython-input-48-133e5552d0f6>\u001b[0m in \u001b[0;36m<module>\u001b[1;34m\u001b[0m\n\u001b[0;32m      9\u001b[0m \u001b[1;33m\u001b[0m\u001b[0m\n\u001b[0;32m     10\u001b[0m \u001b[0mprint\u001b[0m\u001b[1;33m(\u001b[0m\u001b[0mexampleObject\u001b[0m\u001b[1;33m.\u001b[0m\u001b[0ma\u001b[0m\u001b[1;33m)\u001b[0m\u001b[1;33m\u001b[0m\u001b[1;33m\u001b[0m\u001b[0m\n\u001b[1;32m---> 11\u001b[1;33m \u001b[0mprint\u001b[0m\u001b[1;33m(\u001b[0m\u001b[0mexampleObject\u001b[0m\u001b[1;33m.\u001b[0m\u001b[0mb\u001b[0m\u001b[1;33m)\u001b[0m\u001b[1;33m\u001b[0m\u001b[1;33m\u001b[0m\u001b[0m\n\u001b[0m",
      "\u001b[1;31mAttributeError\u001b[0m: 'ExampleClass' object has no attribute 'b'"
     ]
    }
   ],
   "source": [
    "class ExampleClass:\n",
    "    def __init__(self, val):\n",
    "        if val % 2 != 0:\n",
    "            self.a = 1\n",
    "        else:\n",
    "            self.b = 1\n",
    "\n",
    "exampleObject = ExampleClass(1)\n",
    "\n",
    "print(exampleObject.a)\n",
    "print(exampleObject.b)"
   ]
  },
  {
   "cell_type": "code",
   "execution_count": 47,
   "metadata": {},
   "outputs": [
    {
     "name": "stdout",
     "output_type": "stream",
     "text": [
      "1\n"
     ]
    }
   ],
   "source": [
    "class ExampleClass:\n",
    "    def __init__(self, val):\n",
    "        if val % 2 != 0:\n",
    "            self.a = 1\n",
    "        else:\n",
    "            self.b = 1\n",
    "\n",
    "exampleObject = ExampleClass(1)\n",
    "print(exampleObject.a)\n",
    "\n",
    "try:\n",
    "    print(exampleObject.b)\n",
    "except AttributeError:\n",
    "    pass"
   ]
  },
  {
   "cell_type": "raw",
   "metadata": {},
   "source": [
    "Python provides a function which is able to safely check if any object/class contains a specified property. The function is named hasattr, and expects two arguments to be passed to it:\n",
    "\n",
    "the class or the object being checked;\n",
    "the name of the property whose existence has to be reported (note: it has to be a string containing the attribute name, not the name alone)\n",
    "The function returns True or False.\n",
    "\n",
    "This is how you can utilize it:"
   ]
  },
  {
   "cell_type": "code",
   "execution_count": 49,
   "metadata": {},
   "outputs": [
    {
     "name": "stdout",
     "output_type": "stream",
     "text": [
      "1\n"
     ]
    }
   ],
   "source": [
    "class ExampleClass:\n",
    "    def __init__(self, val):\n",
    "        if val % 2 != 0:\n",
    "            self.a = 1\n",
    "        else:\n",
    "            self.b = 1\n",
    "\n",
    "exampleObject = ExampleClass(1)\n",
    "print(exampleObject.a)\n",
    "\n",
    "if hasattr(exampleObject, 'b'):\n",
    "    print(exampleObject.b)"
   ]
  },
  {
   "cell_type": "code",
   "execution_count": 50,
   "metadata": {},
   "outputs": [
    {
     "name": "stdout",
     "output_type": "stream",
     "text": [
      "True\n",
      "False\n"
     ]
    }
   ],
   "source": [
    "class ExampleClass:\n",
    "    attr = 1\n",
    "\n",
    "print(hasattr(ExampleClass, 'attr'))\n",
    "print(hasattr(ExampleClass, 'prop'))"
   ]
  },
  {
   "cell_type": "code",
   "execution_count": 51,
   "metadata": {},
   "outputs": [
    {
     "name": "stdout",
     "output_type": "stream",
     "text": [
      "True\n",
      "True\n",
      "False\n",
      "True\n"
     ]
    }
   ],
   "source": [
    "class ExampleClass:\n",
    "    a = 1\n",
    "    def __init__(self):\n",
    "        self.b = 2\n",
    "\n",
    "exampleObject = ExampleClass()\n",
    "\n",
    "print(hasattr(exampleObject, 'b'))\n",
    "print(hasattr(exampleObject, 'a'))\n",
    "print(hasattr(ExampleClass, 'b'))\n",
    "print(hasattr(ExampleClass, 'a'))\n"
   ]
  },
  {
   "cell_type": "code",
   "execution_count": 57,
   "metadata": {},
   "outputs": [
    {
     "name": "stdout",
     "output_type": "stream",
     "text": [
      "method\n"
     ]
    }
   ],
   "source": [
    "class Classy:\n",
    "    def method(self):\n",
    "        print(\"method\")\n",
    "\n",
    "obj = Classy()\n",
    "obj.method()"
   ]
  },
  {
   "cell_type": "code",
   "execution_count": 55,
   "metadata": {},
   "outputs": [
    {
     "name": "stdout",
     "output_type": "stream",
     "text": [
      "method: 1\n",
      "method: 2\n",
      "method: 3\n"
     ]
    }
   ],
   "source": [
    "class Classy:\n",
    "    def method(self, par):\n",
    "        print(\"method:\", par)\n",
    "\n",
    "obj = Classy()\n",
    "obj.method(1)\n",
    "obj.method(2)\n",
    "obj.method(3)"
   ]
  },
  {
   "cell_type": "code",
   "execution_count": 58,
   "metadata": {},
   "outputs": [
    {
     "name": "stdout",
     "output_type": "stream",
     "text": [
      "2 3\n"
     ]
    }
   ],
   "source": [
    "class Classy:\n",
    "    varia = 2\n",
    "    def method(self):\n",
    "        print(self.varia, self.var)\n",
    "\n",
    "obj = Classy()\n",
    "obj.var = 3\n",
    "obj.method()"
   ]
  },
  {
   "cell_type": "code",
   "execution_count": 59,
   "metadata": {},
   "outputs": [
    {
     "name": "stdout",
     "output_type": "stream",
     "text": [
      "method\n",
      "other\n"
     ]
    }
   ],
   "source": [
    "class Classy:\n",
    "    def other(self):\n",
    "        print(\"other\")\n",
    "\n",
    "    def method(self):\n",
    "        print(\"method\")\n",
    "        self.other()\n",
    "\n",
    "obj = Classy()\n",
    "obj.method()"
   ]
  },
  {
   "cell_type": "code",
   "execution_count": 60,
   "metadata": {},
   "outputs": [
    {
     "name": "stdout",
     "output_type": "stream",
     "text": [
      "object\n"
     ]
    }
   ],
   "source": [
    "class Classy:\n",
    "    def __init__(self, value):\n",
    "        self.var = value\n",
    "\n",
    "obj1 = Classy(\"object\")\n",
    "\n",
    "print(obj1.var)"
   ]
  },
  {
   "cell_type": "code",
   "execution_count": 61,
   "metadata": {},
   "outputs": [
    {
     "name": "stdout",
     "output_type": "stream",
     "text": [
      "object\n",
      "None\n"
     ]
    }
   ],
   "source": [
    "class Classy:\n",
    "    def __init__(self, value = None):\n",
    "        self.var = value\n",
    "\n",
    "obj1 = Classy(\"object\")\n",
    "obj2 = Classy()\n",
    "\n",
    "print(obj1.var)\n",
    "print(obj2.var)"
   ]
  },
  {
   "cell_type": "code",
   "execution_count": 62,
   "metadata": {},
   "outputs": [
    {
     "name": "stdout",
     "output_type": "stream",
     "text": [
      "visible\n",
      "failed\n",
      "hidden\n"
     ]
    }
   ],
   "source": [
    "class Classy:\n",
    "    def visible(self):\n",
    "        print(\"visible\")\n",
    "    \n",
    "    def __hidden(self):\n",
    "        print(\"hidden\")\n",
    "\n",
    "obj = Classy()\n",
    "obj.visible()\n",
    "\n",
    "try:\n",
    "    obj.__hidden()\n",
    "except:\n",
    "    print(\"failed\")\n",
    "\n",
    "obj._Classy__hidden()"
   ]
  },
  {
   "cell_type": "code",
   "execution_count": 63,
   "metadata": {},
   "outputs": [
    {
     "name": "stdout",
     "output_type": "stream",
     "text": [
      "{'var': 2}\n",
      "{'__module__': '__main__', 'varia': 1, '__init__': <function Classy.__init__ at 0x000002725EDEB620>, 'method': <function Classy.method at 0x000002725EDEB950>, '_Classy__hidden': <function Classy.__hidden at 0x000002725EDEB8C8>, '__dict__': <attribute '__dict__' of 'Classy' objects>, '__weakref__': <attribute '__weakref__' of 'Classy' objects>, '__doc__': None}\n"
     ]
    }
   ],
   "source": [
    "class Classy:\n",
    "    varia = 1\n",
    "    def __init__(self):\n",
    "        self.var = 2\n",
    "\n",
    "    def method(self):\n",
    "        pass\n",
    "\n",
    "    def __hidden(self):\n",
    "        pass\n",
    "\n",
    "obj = Classy()\n",
    "\n",
    "print(obj.__dict__)\n",
    "print(Classy.__dict__)"
   ]
  },
  {
   "cell_type": "code",
   "execution_count": 64,
   "metadata": {},
   "outputs": [
    {
     "name": "stdout",
     "output_type": "stream",
     "text": [
      "Classy\n",
      "Classy\n"
     ]
    }
   ],
   "source": [
    "#Note: a statement like this one:print(obj.__name__) will cause an error.\n",
    "class Classy:\n",
    "    pass\n",
    "\n",
    "print(Classy.__name__)\n",
    "obj = Classy()\n",
    "print(type(obj).__name__)"
   ]
  },
  {
   "cell_type": "code",
   "execution_count": 65,
   "metadata": {},
   "outputs": [
    {
     "name": "stdout",
     "output_type": "stream",
     "text": [
      "__main__\n",
      "__main__\n"
     ]
    }
   ],
   "source": [
    "class Classy:\n",
    "    pass\n",
    "\n",
    "print(Classy.__module__)\n",
    "obj = Classy()\n",
    "print(obj.__module__)\n",
    "#As you know, any module named __main__ is actually not a module, but the file currently being run."
   ]
  },
  {
   "cell_type": "code",
   "execution_count": 66,
   "metadata": {},
   "outputs": [
    {
     "name": "stdout",
     "output_type": "stream",
     "text": [
      "( object )\n",
      "( object )\n",
      "( SuperOne SuperTwo )\n"
     ]
    }
   ],
   "source": [
    "class SuperOne:\n",
    "    pass\n",
    "\n",
    "class SuperTwo:\n",
    "    pass\n",
    "\n",
    "class Sub(SuperOne, SuperTwo):\n",
    "    pass\n",
    "\n",
    "\n",
    "def printBases(cls):\n",
    "    print('( ', end='')\n",
    "\n",
    "    for x in cls.__bases__:\n",
    "        print(x.__name__, end=' ')\n",
    "    print(')')\n",
    "\n",
    "\n",
    "printBases(SuperOne)\n",
    "printBases(SuperTwo)\n",
    "printBases(Sub)\n",
    "#__bases__ is a tuple. The tuple contains classes (not class names) which are direct superclasses for the class.\n",
    "#Note: a class without explicit superclasses points to object (a predefined Python class) as its direct ancestor."
   ]
  },
  {
   "cell_type": "raw",
   "metadata": {},
   "source": [
    "introspection, which is the ability of a program to examine the type or properties of an object at runtime;\n",
    "reflection, which goes a step further, and is the ability of a program to manipulate the values, properties and/or functions of an object at runtime."
   ]
  },
  {
   "cell_type": "code",
   "execution_count": 67,
   "metadata": {},
   "outputs": [
    {
     "name": "stdout",
     "output_type": "stream",
     "text": [
      "<__main__.Star object at 0x000002725ED01710>\n"
     ]
    }
   ],
   "source": [
    "class Star:\n",
    "    def __init__(self, name, galaxy):\n",
    "        self.name = name\n",
    "        self.galaxy = galaxy\n",
    "\n",
    "sun = Star(\"Sun\", \"Milky Way\")\n",
    "print(sun)"
   ]
  },
  {
   "cell_type": "code",
   "execution_count": 68,
   "metadata": {},
   "outputs": [
    {
     "name": "stdout",
     "output_type": "stream",
     "text": [
      "Sun in Milky Way\n"
     ]
    }
   ],
   "source": [
    "class Star:\n",
    "    def __init__(self, name, galaxy):\n",
    "        self.name = name\n",
    "        self.galaxy = galaxy\n",
    "\n",
    "    def __str__(self):\n",
    "        return self.name + ' in ' + self.galaxy\n",
    "\n",
    "sun = Star(\"Sun\", \"Milky Way\")\n",
    "print(sun)"
   ]
  },
  {
   "cell_type": "code",
   "execution_count": 69,
   "metadata": {},
   "outputs": [
    {
     "name": "stdout",
     "output_type": "stream",
     "text": [
      "True\tFalse\tFalse\t\n",
      "True\tTrue\tFalse\t\n",
      "True\tTrue\tTrue\t\n"
     ]
    }
   ],
   "source": [
    "#Python offers a function which is able to identify a relationship between two classes,\n",
    "#and although its diagnosis isn't complex, it can check if a particular class is a subclass of any other class.\n",
    "class Vehicle:\n",
    "    pass\n",
    "\n",
    "class LandVehicle(Vehicle):\n",
    "    pass\n",
    "\n",
    "class TrackedVehicle(LandVehicle):\n",
    "    pass\n",
    "\n",
    "\n",
    "for cls1 in [Vehicle, LandVehicle, TrackedVehicle]:\n",
    "    for cls2 in [Vehicle, LandVehicle, TrackedVehicle]:\n",
    "        print(issubclass(cls1, cls2), end=\"\\t\")\n",
    "    print()"
   ]
  },
  {
   "cell_type": "code",
   "execution_count": 70,
   "metadata": {},
   "outputs": [
    {
     "name": "stdout",
     "output_type": "stream",
     "text": [
      "True\tFalse\tFalse\t\n",
      "True\tTrue\tFalse\t\n",
      "True\tTrue\tTrue\t\n"
     ]
    }
   ],
   "source": [
    "class Vehicle:\n",
    "    pass\n",
    "\n",
    "class LandVehicle(Vehicle):\n",
    "    pass\n",
    "\n",
    "class TrackedVehicle(LandVehicle):\n",
    "    pass\n",
    "\n",
    "\n",
    "myVehicle = Vehicle()\n",
    "myLandVehicle = LandVehicle()\n",
    "myTrackedVehicle = TrackedVehicle()\n",
    "\n",
    "for obj in [myVehicle, myLandVehicle, myTrackedVehicle]:\n",
    "    for cls in [Vehicle, LandVehicle, TrackedVehicle]:\n",
    "        print(isinstance(obj, cls), end=\"\\t\")\n",
    "    print()"
   ]
  },
  {
   "cell_type": "code",
   "execution_count": 75,
   "metadata": {},
   "outputs": [
    {
     "name": "stdout",
     "output_type": "stream",
     "text": [
      "False\n",
      "False\n",
      "True\n",
      "1 2 1\n",
      "True False\n"
     ]
    }
   ],
   "source": [
    "class SampleClass:\n",
    "    def __init__(self, val):\n",
    "        self.val = val\n",
    "\n",
    "ob1 = SampleClass(0)\n",
    "ob2 = SampleClass(2)\n",
    "ob3 = ob1\n",
    "ob3.val += 1\n",
    "\n",
    "print(ob1 is ob2)\n",
    "print(ob2 is ob3)\n",
    "print(ob3 is ob1)\n",
    "print(ob1.val, ob2.val, ob3.val)\n",
    "\n",
    "\n",
    "str1 = \"Mary had a little \"\n",
    "str2 = \"Mary had a little lamb\"\n",
    "str1 += \"lamb\"\n",
    "\n",
    "print(str1 == str2, str1 is str2)"
   ]
  },
  {
   "cell_type": "code",
   "execution_count": 85,
   "metadata": {},
   "outputs": [
    {
     "name": "stdout",
     "output_type": "stream",
     "text": [
      "My name is Andy.\n"
     ]
    }
   ],
   "source": [
    "class Super:\n",
    "    def __init__(self, name):\n",
    "        self.name = name\n",
    "\n",
    "    def __str__(self):\n",
    "        return \"My name is \" + self.name + \".\"\n",
    "\n",
    "class Sub(Super):\n",
    "    def __init__(self, name):\n",
    "        Super.__init__(self, name)\n",
    "\n",
    "\n",
    "obj = Sub(\"Andy\")\n",
    "\n",
    "print(obj)"
   ]
  },
  {
   "cell_type": "raw",
   "metadata": {},
   "source": [
    "there is a class named Super, which defines its own constructor used to assign the object's property, named name.\n",
    "the class defines the __str__() method, too, which makes the class able to present its identity in clear text form.\n",
    "the class is next used as a base to create a subclass named Sub. The Sub class defines its own constructor, which invokes the one from the superclass. Note how we've done it: Super.__init__(self, name).\n",
    "we've explicitly named the superclass, and pointed to the method to invoke __init__(), providing all needed arguments.\n",
    "we've instantiated one object of class Sub and printed it.\n",
    "Note: As there is no __str__() method within the Sub class, the printed string is to be produced within the Super class. This means that the __str__() method has been inherited by the Sub class."
   ]
  },
  {
   "cell_type": "code",
   "execution_count": 86,
   "metadata": {},
   "outputs": [
    {
     "name": "stdout",
     "output_type": "stream",
     "text": [
      "My name is Andy.\n"
     ]
    }
   ],
   "source": [
    "class Super:\n",
    "    def __init__(self, name):\n",
    "        self.name = name\n",
    "\n",
    "    def __str__(self):\n",
    "        return \"My name is \" + self.name + \".\"\n",
    "\n",
    "class Sub(Super):\n",
    "    def __init__(self, name):\n",
    "        super().__init__(name)\n",
    "\n",
    "\n",
    "obj = Sub(\"Andy\")\n",
    "\n",
    "print(obj)"
   ]
  },
  {
   "cell_type": "code",
   "execution_count": null,
   "metadata": {},
   "outputs": [],
   "source": []
  },
  {
   "cell_type": "code",
   "execution_count": 76,
   "metadata": {},
   "outputs": [
    {
     "name": "stdout",
     "output_type": "stream",
     "text": [
      "[  5.           4.66666667   5.66666667   6.66666667   9.66666667\n",
      "  28.66666667  49.33333333  72.66666667  84.          93.33333333\n",
      " 116.33333333]\n"
     ]
    }
   ],
   "source": [
    "\n",
    "import numpy as np\n",
    "def moving_average(a, n=3) :\n",
    "    ret = np.cumsum(a, dtype=float)\n",
    "    ret[n:] = ret[n:] - ret[:-n]\n",
    "    return ret[n - 1:] / n\n",
    "a = [3, 5, 7, 2, 8, 10, 11, 65, 72, 81, 99, 100, 150]\n",
    "print(moving_average(a, n=3))"
   ]
  },
  {
   "cell_type": "markdown",
   "metadata": {},
   "source": [
    "find its coordinates in  an array python"
   ]
  },
  {
   "cell_type": "code",
   "execution_count": 79,
   "metadata": {},
   "outputs": [
    {
     "name": "stdout",
     "output_type": "stream",
     "text": [
      "[[1 2 3]\n",
      " [4 5 6]\n",
      " [1 2 3]]\n"
     ]
    }
   ],
   "source": [
    "import numpy as np\n",
    "\n",
    "arr = np.array([[1, 2, 3], [4, 5, 6], [1, 2, 3]])\n",
    "\n",
    "print(arr)"
   ]
  },
  {
   "cell_type": "code",
   "execution_count": 84,
   "metadata": {},
   "outputs": [
    {
     "name": "stdout",
     "output_type": "stream",
     "text": [
      "[[1 2]]\n"
     ]
    }
   ],
   "source": [
    "print (np.argwhere(arr == 6))"
   ]
  },
  {
   "cell_type": "code",
   "execution_count": 87,
   "metadata": {},
   "outputs": [
    {
     "name": "stdout",
     "output_type": "stream",
     "text": [
      "2\n",
      "1\n"
     ]
    }
   ],
   "source": [
    "# Testing properties: class variables\n",
    "class Super:\n",
    "    supVar = 1\n",
    "\n",
    "class Sub(Super):\n",
    "    subVar = 2\n",
    "\n",
    "obj = Sub()\n",
    "\n",
    "print(obj.subVar)\n",
    "print(obj.supVar)"
   ]
  },
  {
   "cell_type": "code",
   "execution_count": 88,
   "metadata": {},
   "outputs": [
    {
     "name": "stdout",
     "output_type": "stream",
     "text": [
      "12\n",
      "11\n"
     ]
    }
   ],
   "source": [
    "# Testing properties: instance variables\n",
    "class Super:\n",
    "    def __init__(self):\n",
    "        self.supVar = 11\n",
    "\n",
    "class Sub(Super):\n",
    "    def __init__(self):\n",
    "        super().__init__()\n",
    "        self.subVar = 12\n",
    "\n",
    "obj = Sub()\n",
    "\n",
    "print(obj.subVar)\n",
    "print(obj.supVar)"
   ]
  },
  {
   "cell_type": "code",
   "execution_count": 90,
   "metadata": {},
   "outputs": [
    {
     "name": "stdout",
     "output_type": "stream",
     "text": [
      "100 101 102\n",
      "200 201 202\n",
      "300 301 302\n"
     ]
    }
   ],
   "source": [
    "class Level1:\n",
    "    varia1 = 100\n",
    "    def __init__(self):\n",
    "        self.var1 = 101\n",
    "\n",
    "    def fun1(self):\n",
    "        return 102\n",
    "\n",
    "\n",
    "class Level2(Level1):\n",
    "    varia2 = 200\n",
    "    def __init__(self):\n",
    "        super().__init__()\n",
    "        self.var2 = 201\n",
    "    \n",
    "    def fun2(self):\n",
    "        return 202\n",
    "\n",
    "\n",
    "class Level3(Level2):\n",
    "    varia3 = 300\n",
    "    def __init__(self):\n",
    "        super().__init__()\n",
    "        self.var3 = 301\n",
    "\n",
    "    def fun3(self):\n",
    "        return 302\n",
    "\n",
    "\n",
    "obj = Level3()\n",
    "\n",
    "print(obj.varia1, obj.var1, obj.fun1())\n",
    "print(obj.varia2, obj.var2, obj.fun2())\n",
    "print(obj.varia3, obj.var3, obj.fun3())"
   ]
  },
  {
   "cell_type": "code",
   "execution_count": 91,
   "metadata": {},
   "outputs": [
    {
     "name": "stdout",
     "output_type": "stream",
     "text": [
      "10 11\n",
      "20 21\n"
     ]
    }
   ],
   "source": [
    "class SuperA:\n",
    "    varA = 10\n",
    "    def funA(self):\n",
    "        return 11\n",
    "\n",
    "class SuperB:\n",
    "    varB = 20\n",
    "    def funB(self):\n",
    "        return 21\n",
    "\n",
    "class Sub(SuperA, SuperB):\n",
    "    pass\n",
    "\n",
    "obj = Sub()\n",
    "\n",
    "print(obj.varA, obj.funA())\n",
    "print(obj.varB, obj.funB())"
   ]
  },
  {
   "cell_type": "code",
   "execution_count": 92,
   "metadata": {},
   "outputs": [
    {
     "name": "stdout",
     "output_type": "stream",
     "text": [
      "200 201\n"
     ]
    }
   ],
   "source": [
    "#The entity defined later (in the inheritance sense) overrides the same entity defined earlier.\n",
    "#This is why the code produces the following output:\n",
    "\n",
    "class Level1:\n",
    "    var = 100\n",
    "    def fun(self):\n",
    "        return 101\n",
    "\n",
    "class Level2(Level1):\n",
    "    var = 200\n",
    "    def fun(self):\n",
    "        return 201\n",
    "\n",
    "class Level3(Level2):\n",
    "    pass\n",
    "\n",
    "obj = Level3()\n",
    "\n",
    "print(obj.var, obj.fun())"
   ]
  },
  {
   "cell_type": "code",
   "execution_count": 93,
   "metadata": {},
   "outputs": [
    {
     "name": "stdout",
     "output_type": "stream",
     "text": [
      "L LL RR Left\n"
     ]
    }
   ],
   "source": [
    "#We can say that Python looks for object components in the following order:\n",
    "\n",
    "#inside the object itself;\n",
    "#in its superclasses, from bottom to top;\n",
    "#if there is more than one class on a particular inheritance path, Python scans them from left to right.\n",
    "#replace: class Sub(Left, Right): with: class Sub(Right, Left):, then run\n",
    "\n",
    "class Left:\n",
    "    var = \"L\"\n",
    "    varLeft = \"LL\"\n",
    "    def fun(self):\n",
    "        return \"Left\"\n",
    "\n",
    "\n",
    "class Right:\n",
    "    var = \"R\"\n",
    "    varRight = \"RR\"\n",
    "    def fun(self):\n",
    "        return \"Right\"\n",
    "\n",
    "class Sub(Left, Right):\n",
    "    pass\n",
    "\n",
    "\n",
    "obj = Sub()\n",
    "\n",
    "print(obj.var, obj.varLeft, obj.varRight, obj.fun())"
   ]
  },
  {
   "cell_type": "code",
   "execution_count": 94,
   "metadata": {},
   "outputs": [
    {
     "name": "stdout",
     "output_type": "stream",
     "text": [
      "doit from One\n",
      "doit from Two\n"
     ]
    }
   ],
   "source": [
    "#Note: the situation in which the subclass is able to modify its superclass behavior (just like in the example) is called polymorphism.\n",
    "#The word comes from Greek (polys: \"many, much\" and morphe, \"form, shape\"), which means that one and the same class can take various forms depending \n",
    "#on the redefinitions done by any of its subclasses.\n",
    "\n",
    "\n",
    "\n",
    "\n",
    "class One:\n",
    "    def doit(self):\n",
    "        print(\"doit from One\")\n",
    "\n",
    "    def doanything(self):\n",
    "        self.doit()\n",
    "\n",
    "class Two(One):\n",
    "    def doit(self):\n",
    "        print(\"doit from Two\")\n",
    "\n",
    "one = One()\n",
    "two = Two()\n",
    "\n",
    "one.doanything()\n",
    "two.doanything()"
   ]
  },
  {
   "cell_type": "code",
   "execution_count": 95,
   "metadata": {},
   "outputs": [],
   "source": [
    "import time\n",
    "\n",
    "class Vehicle:\n",
    "    def changedirection(left, on):\n",
    "        pass\n",
    "\n",
    "    def turn(left):\n",
    "        changedirection(left, True)\n",
    "        time.sleep(0.25)\n",
    "        changedirection(left, False)\n",
    "\n",
    "class TrackedVehicle(Vehicle):\n",
    "    def controltrack(left, stop):\n",
    "        pass\n",
    "\n",
    "    def changedirection(left, on):\n",
    "        controltrack(left, on)\n",
    "\n",
    "class WheeledVehicle(Vehicle):\n",
    "    def turnfrontwheels(left, on):\n",
    "        pass\n",
    "\n",
    "    def changedirection(left, on):\n",
    "        turnfrontwheels(left, on)"
   ]
  },
  {
   "cell_type": "raw",
   "metadata": {},
   "source": [
    "Given a sequence of n values x1, x2, ..., xn and a window size k>0, the k-th moving average of\n",
    "the given sequence is defined as follows:\n",
    "The moving average sequence has n-k+1 elements as shown below.\n",
    "The moving averages with k=4 of a ten-value sequence (n=10) is shown below\n",
    "i 1 2 3 4 5 6 7 8 9 10\n",
    "===== == == == == == == == == == ==\n",
    "Input 10 20 30 40 50 60 70 80 90 100\n",
    "y1 25 = (10+20+30+40)/4\n",
    "y2 35 = (20+30+40+50)/4\n",
    "y3 45 = (30+40+50+60)/4\n",
    "y4 55 = (40+50+60+70)/4\n",
    "y5 65 = (50+60+70+80)/4\n",
    "y6 75 = (60+70+80+90)/4\n",
    "y7 85 = (70+80+90+100)/4\n",
    "Thus, the moving average sequence has n-k+1=10-4+1=7 values.\n",
    "\n",
    "Question: Write a function to find moving average in an array over a window:\n",
    "Test it over [3, 5, 7, 2, 8, 10, 11, 65, 72, 81, 99, 100, 150] and window of 3."
   ]
  },
  {
   "cell_type": "code",
   "execution_count": 96,
   "metadata": {},
   "outputs": [
    {
     "name": "stdout",
     "output_type": "stream",
     "text": [
      "[  5.           4.66666667   5.66666667   6.66666667   9.66666667\n",
      "  28.66666667  49.33333333  72.66666667  84.          93.33333333\n",
      " 116.33333333]\n"
     ]
    }
   ],
   "source": [
    "import numpy as np\n",
    "def moving_average(a, n=3) :\n",
    "    ret = np.cumsum(a, dtype=float)\n",
    "    #print(ret)\n",
    "    #print(ret[n:])\n",
    "    #print(ret[:-n])\n",
    "    ret[n:] = ret[n:] - ret[:-n]\n",
    "    return ret[n - 1:] / n\n",
    "a = [3, 5, 7, 2, 8, 10, 11, 65, 72, 81, 99, 100, 150]\n",
    "print(moving_average(a, n=3))"
   ]
  },
  {
   "cell_type": "code",
   "execution_count": 97,
   "metadata": {},
   "outputs": [
    {
     "data": {
      "text/plain": [
       "array([[1, 2, 3],\n",
       "       [4, 5, 6]])"
      ]
     },
     "execution_count": 97,
     "metadata": {},
     "output_type": "execute_result"
    }
   ],
   "source": [
    "import numpy as np\n",
    "a = np.array([[1,2,3], [4,5,6]])\n",
    "a"
   ]
  },
  {
   "cell_type": "code",
   "execution_count": 98,
   "metadata": {},
   "outputs": [
    {
     "data": {
      "text/plain": [
       "array([ 1,  3,  6, 10, 15, 21], dtype=int32)"
      ]
     },
     "execution_count": 98,
     "metadata": {},
     "output_type": "execute_result"
    }
   ],
   "source": [
    "np.cumsum(a)"
   ]
  },
  {
   "cell_type": "code",
   "execution_count": 3,
   "metadata": {},
   "outputs": [
    {
     "name": "stdout",
     "output_type": "stream",
     "text": [
      "3 2\n",
      "p h\n",
      "y o\n",
      "t n\n",
      "python\n"
     ]
    }
   ],
   "source": [
    "import string\n",
    "k2=string.ascii_letters\n",
    "a,b=map(int,input().split())\n",
    "c=[]\n",
    "d=\"\"\n",
    "for i in range(a):\n",
    "    c.append(list(map(str,input().split())))\n",
    "for i in range(b):\n",
    "    for j in range(a):\n",
    "        if c[j][i] in k2 or (ord(c[j][i]) in range(48,58)):\n",
    "            d+=c[j][i]\n",
    "print(d,end=\"\")"
   ]
  },
  {
   "cell_type": "code",
   "execution_count": 4,
   "metadata": {},
   "outputs": [
    {
     "name": "stdout",
     "output_type": "stream",
     "text": [
      "[['p', 'h'], ['y', 'o'], ['t', 'n']]\n"
     ]
    }
   ],
   "source": [
    "print(c)"
   ]
  },
  {
   "cell_type": "code",
   "execution_count": 7,
   "metadata": {},
   "outputs": [
    {
     "name": "stdout",
     "output_type": "stream",
     "text": [
      "3 2\n",
      "p h\n",
      "y o\n",
      "t n\n",
      "python"
     ]
    }
   ],
   "source": [
    "p= [int(i) for i in input().split()]\n",
    "row=p[0]\n",
    "col=p[1]\n",
    "l=[]\n",
    "s=\"\"\n",
    "for i in range(row):\n",
    "    l.append(list(map(str,input().split())))\n",
    "for i in range(col):\n",
    "    for k in range(row):\n",
    "        if (ord(l[k][i]) in range(48,58)) or (ord(l[k][i]) in range(65,91)) or (ord(l[k][i]) in range(97,123)):\n",
    "            s+=l[k][i]\n",
    "print(s,end=\"\")"
   ]
  },
  {
   "cell_type": "raw",
   "metadata": {},
   "source": [
    "Question:\n",
    "Write a program which accepts a sequence of comma-separated numbers from console and generate a list and a tuple which contains every number.\n",
    "Suppose the following input is supplied to the program:\n",
    "34,67,55,33,12,98\n",
    "Then, the output should be:\n",
    "['34', '67', '55', '33', '12', '98']\n",
    "('34', '67', '55', '33', '12', '98')"
   ]
  },
  {
   "cell_type": "code",
   "execution_count": 1,
   "metadata": {},
   "outputs": [
    {
     "name": "stdout",
     "output_type": "stream",
     "text": [
      "34,64,55,33,12,98\n",
      "List :  ['34', '64', '55', '33', '12', '98']\n",
      "Tuple :  ('34', '64', '55', '33', '12', '98')\n"
     ]
    }
   ],
   "source": [
    "values = input()\n",
    "list = values.split(\",\")\n",
    "tuple = tuple(list)\n",
    "print('List : ',list)\n",
    "print('Tuple : ',tuple)"
   ]
  },
  {
   "cell_type": "raw",
   "metadata": {},
   "source": [
    "Write a program which takes 2 digits, X,Y as input and generates a 2-dimensional array. The element value in the i-th row and j-th column of the array should be i*j.\n",
    "Note: i=0,1.., X-1; j=0,1,¡­Y-1.\n",
    "Example\n",
    "Suppose the following inputs are given to the program:\n",
    "3,5\n",
    "Then, the output of the program should be:\n",
    "[[0, 0, 0, 0, 0], [0, 1, 2, 3, 4], [0, 2, 4, 6, 8]] "
   ]
  },
  {
   "cell_type": "code",
   "execution_count": 6,
   "metadata": {},
   "outputs": [
    {
     "name": "stdout",
     "output_type": "stream",
     "text": [
      "ENTER THE ROWS : 3\n",
      "ENTER THE COLUMNS : 5\n",
      "1  2  3  4  5  \n",
      "\n",
      "2  4  6  8  10  \n",
      "\n",
      "3  6  9  12  15  \n",
      "\n"
     ]
    }
   ],
   "source": []
  },
  {
   "cell_type": "code",
   "execution_count": 7,
   "metadata": {},
   "outputs": [
    {
     "name": "stdout",
     "output_type": "stream",
     "text": [
      "Input number of rows: 3\n",
      "Input number of columns: 5\n",
      "[[0, 0, 0, 0, 0], [0, 1, 2, 3, 4], [0, 2, 4, 6, 8]]\n"
     ]
    }
   ],
   "source": [
    "row_num = int(input(\"Input number of rows: \"))\n",
    "col_num = int(input(\"Input number of columns: \"))\n",
    "multi_list = [[0 for col in range(col_num)] for row in range(row_num)]\n",
    "\n",
    "for row in range(row_num):\n",
    "    for col in range(col_num):\n",
    "        multi_list[row][col]= row*col\n",
    "\n",
    "print(multi_list)"
   ]
  },
  {
   "cell_type": "code",
   "execution_count": 18,
   "metadata": {},
   "outputs": [
    {
     "name": "stdout",
     "output_type": "stream",
     "text": [
      "3\n",
      "5\n",
      "[[0, 0, 0, 0, 0], [0, 1, 2, 3, 4], [0, 2, 4, 6, 8]]\n"
     ]
    }
   ],
   "source": [
    "x = int(input())\n",
    "y = int(input())\n",
    "\n",
    "l=[]\n",
    "for i in range(x):\n",
    "    #print(i)\n",
    "    inner_list = []\n",
    "    for j in range(y):\n",
    "        inner_list.append((i*j))\n",
    "        #print(inner_list)\n",
    "    l.append(inner_list)\n",
    "print (l)"
   ]
  },
  {
   "cell_type": "markdown",
   "metadata": {},
   "source": [
    "# Fibonacci series"
   ]
  },
  {
   "cell_type": "code",
   "execution_count": 29,
   "metadata": {},
   "outputs": [
    {
     "name": "stdout",
     "output_type": "stream",
     "text": [
      "Enter the number of terms in the sequence: 10\n",
      "0 1 1 2 3 5 8 13 21 34 55 89 "
     ]
    }
   ],
   "source": [
    "a = 0\n",
    "b = 1\n",
    "n=int(input(\"Enter the number of terms in the sequence: \"))\n",
    "print(a,b,end=\" \")\n",
    "while(n!=0):\n",
    "    c=a+b\n",
    "    a,b = b,c\n",
    "    print(c,end=\" \")\n",
    "    n=n-1"
   ]
  },
  {
   "cell_type": "markdown",
   "metadata": {},
   "source": [
    "<b>Write a Python program to reverse the digits of a given number and add it to the original, If the sum is not a palindrome repeat this procedure.</b>"
   ]
  },
  {
   "cell_type": "code",
   "execution_count": 1,
   "metadata": {},
   "outputs": [
    {
     "name": "stdout",
     "output_type": "stream",
     "text": [
      "5555\n",
      "9339\n"
     ]
    }
   ],
   "source": [
    "def rev_number(n):\n",
    "    s = 0\n",
    "    while True:\n",
    "        k = str(n)\n",
    "        if k == k[::-1]:\n",
    "            break\n",
    "        else:\n",
    "            m = int(k[::-1])\n",
    "            n += m\n",
    "            s += 1\n",
    "    return n \n",
    "\n",
    "print(rev_number(1234))\n",
    "print(rev_number(1473))"
   ]
  },
  {
   "cell_type": "raw",
   "metadata": {},
   "source": [
    "The program will receive 3 English words inputs from STDIN\n",
    "\n",
    "These three words will be read one at a time, in three separate line\n",
    "The first word should be changed like all vowels should be replaced by %\n",
    "The second word should be changed like all consonants should be replaced by #\n",
    "The third word should be changed like all char should be converted to upper case\n",
    "Then concatenate the three words and print them\n",
    "Other than these concatenated word, no other characters/string should or message should be written to STDOUT\n",
    "\n",
    "For example if you print how are you then output should be h%wa#eYOU."
   ]
  },
  {
   "cell_type": "code",
   "execution_count": 10,
   "metadata": {},
   "outputs": [
    {
     "name": "stdout",
     "output_type": "stream",
     "text": [
      "Enter the three words: how are you\n",
      "output: h%wa#eYOU\n"
     ]
    }
   ],
   "source": [
    "words=input(\"Enter the three words: \").split()\n",
    "for i in range(len(words[0])):\n",
    "    if words[0][i] in('a', 'e', 'i', 'o', 'u'):\n",
    "        x=words[0].replace(words[0][i],\"%\")\n",
    "for j in range (len(words[1])):\n",
    "    if words[1][j] not in  ('a', 'e', 'i', 'o', 'u'):\n",
    "        y=words[1].replace(words[1][j],\"#\")\n",
    "        \n",
    "z=words[2].upper()\n",
    "print(f\"output: {x+y+z}\")"
   ]
  },
  {
   "cell_type": "raw",
   "metadata": {},
   "source": [
    "A list rotation consists of taking the first element and moving it to the end. For instance, if we rotate the list [1,2,3,4,5], we get [2,3,4,5,1]. If we rotate it again, we get [3,4,5,1,2].\n",
    "\n",
    "Write a Python function rotatelist(l,k) that takes a list l and a positive integer k and returns the list l after k rotations. If k is not positive, your function should return l unchanged. Note that your function should not change l itself, and should return the rotated list."
   ]
  },
  {
   "cell_type": "code",
   "execution_count": 29,
   "metadata": {},
   "outputs": [],
   "source": [
    "def rotatelist(l,k):\n",
    "    retlist = l[:]\n",
    "    \n",
    "    if k <= 0:\n",
    "        return(retlist)\n",
    "    for i in range(1,k+1):\n",
    "        retlist = retlist[1:] + [retlist[0]]\n",
    "    return(retlist)"
   ]
  },
  {
   "cell_type": "code",
   "execution_count": 30,
   "metadata": {},
   "outputs": [
    {
     "data": {
      "text/plain": [
       "[4, 5, 1, 2, 3]"
      ]
     },
     "execution_count": 30,
     "metadata": {},
     "output_type": "execute_result"
    }
   ],
   "source": [
    "rotatelist([1,2,3,4,5],3)"
   ]
  },
  {
   "cell_type": "code",
   "execution_count": 31,
   "metadata": {},
   "outputs": [],
   "source": [
    "l=[1,2,3,4,5]"
   ]
  },
  {
   "cell_type": "code",
   "execution_count": 32,
   "metadata": {},
   "outputs": [
    {
     "data": {
      "text/plain": [
       "[2, 3, 4, 5, 1]"
      ]
     },
     "execution_count": 32,
     "metadata": {},
     "output_type": "execute_result"
    }
   ],
   "source": [
    "l[1:] +[l[0]]"
   ]
  },
  {
   "cell_type": "raw",
   "metadata": {},
   "source": [
    "Write a function matched(s) that takes as input a string s and checks if the brackets \"(\" and \")\" in s are matched: that is, every \"(\" has a matching \")\" after it and every \")\" has a matching \"(\" before it. Your function should ignore all other symbols that appear in s. Your function should return True if s has matched brackets and False if it does not."
   ]
  },
  {
   "cell_type": "code",
   "execution_count": 33,
   "metadata": {},
   "outputs": [],
   "source": [
    "def matched(s):\n",
    "    count = 0\n",
    "    for i in s:\n",
    "        if i == \"(\":\n",
    "            count= count + 1\n",
    "        elif i == \")\":\n",
    "            count= count - 1\n",
    "        if count < 0:\n",
    "            return False\n",
    "    return (count == 0)"
   ]
  },
  {
   "cell_type": "code",
   "execution_count": 38,
   "metadata": {},
   "outputs": [
    {
     "data": {
      "text/plain": [
       "False"
      ]
     },
     "execution_count": 38,
     "metadata": {},
     "output_type": "execute_result"
    }
   ],
   "source": [
    "matched(\"a)*(?\")"
   ]
  },
  {
   "cell_type": "code",
   "execution_count": 35,
   "metadata": {},
   "outputs": [
    {
     "data": {
      "text/plain": [
       "False"
      ]
     },
     "execution_count": 35,
     "metadata": {},
     "output_type": "execute_result"
    }
   ],
   "source": [
    "matched(\"(7)(a\")"
   ]
  },
  {
   "cell_type": "code",
   "execution_count": 39,
   "metadata": {},
   "outputs": [],
   "source": [
    "x = [589,'big',397,'bash']\n",
    "y = x[2:]\n",
    "u = x\n",
    "w = y\n",
    "w = w[0:]\n",
    "w[0] = 357\n",
    "x[2:3] = [487]"
   ]
  },
  {
   "cell_type": "code",
   "execution_count": 40,
   "metadata": {},
   "outputs": [
    {
     "data": {
      "text/plain": [
       "[589, 'big', 487, 'bash']"
      ]
     },
     "execution_count": 40,
     "metadata": {},
     "output_type": "execute_result"
    }
   ],
   "source": [
    "x"
   ]
  },
  {
   "cell_type": "code",
   "execution_count": 41,
   "metadata": {},
   "outputs": [
    {
     "data": {
      "text/plain": [
       "[397, 'bash']"
      ]
     },
     "execution_count": 41,
     "metadata": {},
     "output_type": "execute_result"
    }
   ],
   "source": [
    "y"
   ]
  },
  {
   "cell_type": "code",
   "execution_count": 42,
   "metadata": {},
   "outputs": [
    {
     "data": {
      "text/plain": [
       "[357, 'bash']"
      ]
     },
     "execution_count": 42,
     "metadata": {},
     "output_type": "execute_result"
    }
   ],
   "source": [
    "w"
   ]
  },
  {
   "cell_type": "code",
   "execution_count": 43,
   "metadata": {},
   "outputs": [
    {
     "data": {
      "text/plain": [
       "[589, 'big', 487, 'bash']"
      ]
     },
     "execution_count": 43,
     "metadata": {},
     "output_type": "execute_result"
    }
   ],
   "source": [
    "u"
   ]
  },
  {
   "cell_type": "raw",
   "metadata": {},
   "source": [
    "Define a Python function remdup(l) that takes a nonempty list of integers l and removes all duplicates in l, keeping only the last occurrence of each number. For instance:\n",
    "\n",
    ">>> remdup([3,1,3,5])\n",
    "[1, 3, 5]\n",
    "\n",
    ">>> remdup([7,3,-1,-5])\n",
    "[7, 3, -1, -5]\n",
    "\n",
    ">>> remdup([3,5,7,5,3,7,10])\n",
    "[5, 3, 7, 10]"
   ]
  },
  {
   "cell_type": "code",
   "execution_count": 1,
   "metadata": {},
   "outputs": [],
   "source": [
    "def remdup(l):\n",
    "    a=[]\n",
    "    for i in l:\n",
    "        if i not in a:\n",
    "            a.append(i)\n",
    "            \n",
    "    return a\n",
    "            "
   ]
  },
  {
   "cell_type": "code",
   "execution_count": 2,
   "metadata": {},
   "outputs": [
    {
     "data": {
      "text/plain": [
       "[3, 1, 5]"
      ]
     },
     "execution_count": 2,
     "metadata": {},
     "output_type": "execute_result"
    }
   ],
   "source": [
    "remdup([3,1,3,5])"
   ]
  },
  {
   "cell_type": "code",
   "execution_count": 3,
   "metadata": {},
   "outputs": [
    {
     "data": {
      "text/plain": [
       "[7, 3, -1, -5]"
      ]
     },
     "execution_count": 3,
     "metadata": {},
     "output_type": "execute_result"
    }
   ],
   "source": [
    "remdup([7,3,-1,-5])"
   ]
  },
  {
   "cell_type": "code",
   "execution_count": 4,
   "metadata": {},
   "outputs": [
    {
     "data": {
      "text/plain": [
       "[3, 5, 7, 10]"
      ]
     },
     "execution_count": 4,
     "metadata": {},
     "output_type": "execute_result"
    }
   ],
   "source": [
    "remdup([3,5,7,5,3,7,10])"
   ]
  },
  {
   "cell_type": "code",
   "execution_count": 5,
   "metadata": {},
   "outputs": [],
   "source": [
    "def remdup(l):\n",
    "    a=set(l)\n",
    "    b=list(a)\n",
    "    return b"
   ]
  },
  {
   "cell_type": "code",
   "execution_count": 6,
   "metadata": {},
   "outputs": [
    {
     "data": {
      "text/plain": [
       "[1, 3, 5]"
      ]
     },
     "execution_count": 6,
     "metadata": {},
     "output_type": "execute_result"
    }
   ],
   "source": [
    "remdup([3,1,3,5])"
   ]
  },
  {
   "cell_type": "code",
   "execution_count": 7,
   "metadata": {},
   "outputs": [
    {
     "data": {
      "text/plain": [
       "[1, 5]"
      ]
     },
     "execution_count": 7,
     "metadata": {},
     "output_type": "execute_result"
    }
   ],
   "source": [
    "remdup([5,5,5,5,1,1,5,5,5])"
   ]
  },
  {
   "cell_type": "code",
   "execution_count": 8,
   "metadata": {},
   "outputs": [
    {
     "data": {
      "text/plain": [
       "[]"
      ]
     },
     "execution_count": 8,
     "metadata": {},
     "output_type": "execute_result"
    }
   ],
   "source": [
    "remdup([])"
   ]
  },
  {
   "cell_type": "raw",
   "metadata": {},
   "source": [
    "Write a Python function splitsum(l) that takes a nonempty list of integers and returns a list [pos,neg], where pos is the sum of squares all the positive numbers in l and neg is the sum of cubes of all the negative numbers in l.\n",
    "\n",
    "Here are some examples to show how your function should work.\n",
    "\n",
    ">>> splitsum([1,3,-5])\n",
    "[10, -125]\n",
    "\n",
    ">>> splitsum([2,4,6])\n",
    "[56, 0]\n",
    "\n",
    ">>> splitsum([-19,-7,-6,0])\n",
    "[0, -7418]\n",
    "\n",
    ">>> splitsum([-1,2,3,-7])\n",
    "[13, -344]"
   ]
  },
  {
   "cell_type": "code",
   "execution_count": 13,
   "metadata": {},
   "outputs": [],
   "source": [
    "def splitsum(l):\n",
    "    pos=0\n",
    "    neg=0\n",
    "    for i in l:\n",
    "        if i>0:\n",
    "            pos=pos+i**2\n",
    "        if i<0:\n",
    "            neg=neg+ i**3\n",
    "    return([pos,neg])\n",
    "            "
   ]
  },
  {
   "cell_type": "code",
   "execution_count": 14,
   "metadata": {},
   "outputs": [
    {
     "data": {
      "text/plain": [
       "[10, -125]"
      ]
     },
     "execution_count": 14,
     "metadata": {},
     "output_type": "execute_result"
    }
   ],
   "source": [
    "splitsum([1,3,-5])"
   ]
  },
  {
   "cell_type": "raw",
   "metadata": {},
   "source": [
    "A two dimensional matrix can be represented in Python row-wise, as a list of lists: each inner list represents one row of the matrix. For instance, the matrix\n",
    "\n",
    "1  2  3\n",
    "4  5  6 \n",
    "7  8  9\n",
    "would be represented as [[1, 2, 3], [4, 5, 6], [7, 8, 9]].\n",
    "\n",
    "A horizonatal flip reflects each row. For instance, if we flip the previous matrix horizontally, we get\n",
    "\n",
    "3  2  1\n",
    "6  5  4 \n",
    "9  8  7\n",
    "which would be represented as [[3, 2, 1], [6, 5, 4], [9, 8, 7]].\n",
    "\n",
    "A vertical flip reflects each column. For instance, if we flip the previous matrix that has already been flipped horizontally, we get\n",
    "\n",
    "9  8  7\n",
    "6  5  4 \n",
    "3  2  1\n",
    "which would be represented as [[9, 8, 7], [6, 5, 4], [3, 2, 1]]."
   ]
  },
  {
   "cell_type": "raw",
   "metadata": {},
   "source": [
    "Write a Python function matrixflip(m,d) that takes as input a two dimensional matrix m and a direction d, where d is either 'h' or 'v'. If d == 'h', the function should return the matrix flipped horizontally. If d == 'v', the function should retun the matrix flipped vertically. For any other value of d, the function should return m unchanged. In all cases, the argument m should remain undisturbed by the function."
   ]
  },
  {
   "cell_type": "code",
   "execution_count": 20,
   "metadata": {},
   "outputs": [],
   "source": [
    "def matrixflip(l,d):\n",
    "    outl = []\n",
    "    for row in l:\n",
    "        outl.append(row[:])\n",
    "        #print(out1)\n",
    "    if d == 'h':\n",
    "        for row in outl:\n",
    "            row.reverse()\n",
    "    elif d == 'v':\n",
    "        outl.reverse()\n",
    "    return(outl)"
   ]
  },
  {
   "cell_type": "code",
   "execution_count": 21,
   "metadata": {},
   "outputs": [
    {
     "data": {
      "text/plain": [
       "[[2, 1], [4, 3]]"
      ]
     },
     "execution_count": 21,
     "metadata": {},
     "output_type": "execute_result"
    }
   ],
   "source": [
    "matrixflip([[1, 2], [3, 4]],'h')"
   ]
  },
  {
   "cell_type": "code",
   "execution_count": 17,
   "metadata": {},
   "outputs": [
    {
     "data": {
      "text/plain": [
       "[[3, 4], [1, 2]]"
      ]
     },
     "execution_count": 17,
     "metadata": {},
     "output_type": "execute_result"
    }
   ],
   "source": [
    "matrixflip([[1, 2], [3, 4]],'v')"
   ]
  },
  {
   "cell_type": "raw",
   "metadata": {},
   "source": [
    "0, 0, 2, 1, 4, 2, 6, 3, 8, 4, 10, 5, 12, 6, 14, 7, 16, 8 This series is a mixture of 2 series all the odd terms in this series form even numbers in ascending order and every even terms is derived from the previous  term using the formula (x/2)\n",
    "Consider the below series :\n",
    "\n",
    "0,0,2,1,4,2,6,3,8,4,10,5,12,6,14,7,16,8\n",
    "This series is a mixture of 2 series all the odd terms in this series form even numbers in ascending order\n",
    "Every even terms is derived from the previous  term using the formula (x/2)"
   ]
  },
  {
   "cell_type": "code",
   "execution_count": 26,
   "metadata": {},
   "outputs": [
    {
     "name": "stdout",
     "output_type": "stream",
     "text": [
      "enter the number:9\n",
      "10\n",
      "8\n",
      "[0, 0, 2, 1, 4, 2, 6, 3, 8, 4, 10]\n"
     ]
    }
   ],
   "source": [
    "n = int(input('enter the number:'))\n",
    "\n",
    "a=0\n",
    "b=0\n",
    "c=[a,b]\n",
    "for i in range(1,n+1):\n",
    "    if(i%2!=0):\n",
    "        a= a+2\n",
    "        c.append(a)\n",
    "    else:\n",
    "        b= b+1\n",
    "        c.append(b)\n",
    "\n",
    "if(n%2!=0):\n",
    "    print(a)\n",
    "    print('{}'.format(a-2))\n",
    "else:\n",
    "    print(b)\n",
    "    print('{}'.format(b-1))\n",
    "    \n",
    "print(c)"
   ]
  },
  {
   "cell_type": "raw",
   "metadata": {},
   "source": [
    "Given a maximum of four digit to the base 17 (10 – A, 11 – B, 12 – C, 13 – D … 16 – G} as input, output its decimal value.\n",
    "\n",
    "Test Cases\n",
    "Case 1\n",
    "Input – 1A\n",
    "Expected Output – 27\n",
    "Case 2\n",
    "Input – 23GF\n",
    "Expected Output – 10980"
   ]
  },
  {
   "cell_type": "code",
   "execution_count": 27,
   "metadata": {},
   "outputs": [
    {
     "name": "stdout",
     "output_type": "stream",
     "text": [
      "1A\n",
      "27\n"
     ]
    }
   ],
   "source": [
    "num = str(input())\n",
    "print(int(num,17))"
   ]
  },
  {
   "cell_type": "raw",
   "metadata": {},
   "source": [
    "Given a maximum of 100 digit numbers as input, find the difference between the sum of odd and even position digits\n",
    "\n",
    "Test Cases\n",
    "Case 1\n",
    "Input: 4567\n",
    "Expected Output: 2\n",
    "Explanation : Odd positions are 4 and 6 as they are pos: 1 and pos: 3, both have sum 10. Similarly, 5 and 7 are at even positions pos: 2 and pos: 4 with sum 12. Thus, difference is 12 – 10 = 2"
   ]
  },
  {
   "cell_type": "code",
   "execution_count": 28,
   "metadata": {},
   "outputs": [
    {
     "name": "stdout",
     "output_type": "stream",
     "text": [
      "4567\n"
     ]
    }
   ],
   "source": [
    "n=int(input())\n",
    "st=list(str(n))"
   ]
  },
  {
   "cell_type": "code",
   "execution_count": 29,
   "metadata": {},
   "outputs": [
    {
     "data": {
      "text/plain": [
       "['4', '5', '6', '7']"
      ]
     },
     "execution_count": 29,
     "metadata": {},
     "output_type": "execute_result"
    }
   ],
   "source": [
    "st"
   ]
  },
  {
   "cell_type": "code",
   "execution_count": 44,
   "metadata": {},
   "outputs": [
    {
     "name": "stdout",
     "output_type": "stream",
     "text": [
      "5476\n",
      "12\n",
      "10\n",
      "2\n"
     ]
    }
   ],
   "source": [
    "#num = [int(d) for d in str(input(\"Enter the number:\"))]\n",
    "num=input()\n",
    "even=0\n",
    "odd=0\n",
    "for i in range(len(num)):\n",
    "    if (i % 2 ==0):\n",
    "        even = even + int(num[i])\n",
    "    else:\n",
    "        odd = odd + int(num[i])\n",
    "\n",
    "print(even)\n",
    "print(odd)\n",
    "print(abs(even-odd))\n"
   ]
  },
  {
   "cell_type": "raw",
   "metadata": {},
   "source": [
    "Write a code to check whether no is prime or not. Condition use function check() to find whether entered no is positive or negative ,if negative then enter the no, And if yes pas no as a parameter to prime() and check whether no is prime or not?"
   ]
  },
  {
   "cell_type": "code",
   "execution_count": 6,
   "metadata": {},
   "outputs": [
    {
     "name": "stdout",
     "output_type": "stream",
     "text": [
      "enter a number: 19\n",
      "19 is a prime number\n"
     ]
    }
   ],
   "source": [
    "def prime(n):\n",
    "    if n > 1:\n",
    "        for i in range(2, n):\n",
    "            if (n % i) == 0:\n",
    "                print(n, \"is not a prime number\")\n",
    "                break\n",
    "            else:\n",
    "                print(n, \"is a prime number\")\n",
    "                break\n",
    "\n",
    "num = int(input(\"enter a number: \"))\n",
    "\n",
    "\n",
    "\n",
    "\n",
    "if (num > 0):\n",
    "    prime(num)\n",
    "else:\n",
    "    print(\"please enter a positive number\")"
   ]
  },
  {
   "cell_type": "raw",
   "metadata": {},
   "source": [
    "Prog 3. Find the 15th term of the series?\n",
    "0 , 0 , 7 , 6 , 14 , 12 , 21 , 18 , 28\n",
    "Explanation :\n",
    "\n",
    "In this series the odd term is an increment of 7 {0, 7, 14, 21, 28, 35 – – – – – }.\n",
    " And the even term is an increment of 6 {0, 6, 12, 18, 24, 30 – – – – – – }."
   ]
  },
  {
   "cell_type": "code",
   "execution_count": 7,
   "metadata": {},
   "outputs": [
    {
     "name": "stdout",
     "output_type": "stream",
     "text": [
      "enter the number:15\n",
      "56\n",
      "49\n",
      "[0, 0, 7, 6, 14, 12, 21, 18, 28, 24, 35, 30, 42, 36, 49, 42, 56]\n"
     ]
    }
   ],
   "source": [
    "n = int(input('enter the number:'))\n",
    "\n",
    "a=0\n",
    "b=0\n",
    "c=[a,b]\n",
    "for i in range(1,n+1):\n",
    "    if(i%2!=0):\n",
    "        a= a+7\n",
    "        c.append(a)\n",
    "    else:\n",
    "        b= b+6\n",
    "        c.append(b)\n",
    "\n",
    "if(n%2!=0):\n",
    "    print(a)\n",
    "    print('{}'.format(a-7))\n",
    "else:\n",
    "    print(b)\n",
    "    print('{}'.format(b-6))\n",
    "    \n",
    "print(c)"
   ]
  },
  {
   "cell_type": "raw",
   "metadata": {},
   "source": [
    "Find the nth term of the series.\n",
    "1 , 1 , 2 , 3 , 4 , 9 , 8 , 27 , 16 , 81 , 32 , 243 ,_ _ _ _ _ _ _\n",
    "Explanation:\n",
    "\n",
    "In this series, the odd term is a multiple of 2 starting from 1 {1, 2, 4, 8, 16, 32, 64- – – – -}.\n",
    "And even term is a multiple of  3 starting from 1 {1, 3, 9, 27, 81, 243- – – – – }."
   ]
  },
  {
   "cell_type": "code",
   "execution_count": 9,
   "metadata": {},
   "outputs": [
    {
     "name": "stdout",
     "output_type": "stream",
     "text": [
      "enter the number:16\n",
      "6561\n",
      "16\n",
      "[1, 1, 2, 3, 4, 9, 8, 27, 16, 81, 32, 243, 64, 729, 128, 2187, 256, 6561]\n"
     ]
    }
   ],
   "source": [
    "n = int(input('enter the number:'))\n",
    "\n",
    "a=1\n",
    "b=1\n",
    "c=[a,b]\n",
    "for i in range(1,n+1):\n",
    "    if(i%2!=0):\n",
    "        a= a*2\n",
    "        c.append(a)\n",
    "    else:\n",
    "        b= b*3\n",
    "        c.append(b)\n",
    "\n",
    "if(n%2!=0):\n",
    "    print(a)\n",
    "    print('{}'.format(n,a/2))\n",
    "else:\n",
    "    print(b)\n",
    "    print('{}'.format(n,b/2))\n",
    "    \n",
    "print(c)"
   ]
  },
  {
   "cell_type": "code",
   "execution_count": 10,
   "metadata": {},
   "outputs": [
    {
     "name": "stdout",
     "output_type": "stream",
     "text": [
      "16\n",
      "2187\n"
     ]
    }
   ],
   "source": [
    "num = int(input())\n",
    "if(num%2==0):\n",
    "    num = num // 2\n",
    "    print(3**(num-1))\n",
    "else:\n",
    "    num = num // 2 + 1\n",
    "    print(2**(num-1))"
   ]
  },
  {
   "cell_type": "raw",
   "metadata": {},
   "source": [
    "Sample Input\n",
    "\n",
    "STDIN                       Function\n",
    "-----                       --------\n",
    "9                           n = 9\n",
    "10 20 20 10 10 30 50 10 20  ar = [10, 20, 20, 10, 10, 30, 50, 10, 20]\n",
    "Sample Output\n",
    "\n",
    "3"
   ]
  },
  {
   "cell_type": "code",
   "execution_count": 11,
   "metadata": {},
   "outputs": [],
   "source": [
    "def sockMerchant(n, ar):\n",
    "    num = 0\n",
    "    for i in range(0,n):\n",
    "        gum = 1\n",
    "        for j in range(i+1,n):\n",
    "            if ar[i] == None:\n",
    "                continue\n",
    "            if ar[i] == ar[j] and gum ==1:\n",
    "                num = num + 1\n",
    "                gum = gum + 1\n",
    "                ar[j] = None\n",
    "            \n",
    "    return num"
   ]
  },
  {
   "cell_type": "code",
   "execution_count": 12,
   "metadata": {},
   "outputs": [
    {
     "data": {
      "text/plain": [
       "2"
      ]
     },
     "execution_count": 12,
     "metadata": {},
     "output_type": "execute_result"
    }
   ],
   "source": [
    "sockMerchant(6,[10,20,20,10,30,40])"
   ]
  },
  {
   "cell_type": "code",
   "execution_count": 13,
   "metadata": {},
   "outputs": [],
   "source": [
    "socks=[10,20,20,10,30,40]"
   ]
  },
  {
   "cell_type": "code",
   "execution_count": 18,
   "metadata": {},
   "outputs": [
    {
     "name": "stdout",
     "output_type": "stream",
     "text": [
      "2\n"
     ]
    }
   ],
   "source": [
    "A = set(socks)\n",
    "pairs=0\n",
    "for element in A:\n",
    "    pairs += socks.count(element) // 2\n",
    "print(pairs)"
   ]
  },
  {
   "cell_type": "code",
   "execution_count": 16,
   "metadata": {},
   "outputs": [
    {
     "data": {
      "text/plain": [
       "{10, 20, 30, 40}"
      ]
     },
     "execution_count": 16,
     "metadata": {},
     "output_type": "execute_result"
    }
   ],
   "source": [
    "A"
   ]
  },
  {
   "cell_type": "code",
   "execution_count": null,
   "metadata": {},
   "outputs": [],
   "source": [
    "def countingValleys(n, s):\n",
    "    a,b = 0,0\n",
    "    d = {\"U\":1, \"D\":-1}\n",
    "    for i in s:\n",
    "        if not a+d[i] and a<0:\n",
    "            b+=1\n",
    "        a+=d[i]\n",
    "    return b\n",
    "n,s = input(),input()\n",
    "print(countingValleys(n, s))"
   ]
  },
  {
   "cell_type": "code",
   "execution_count": 1,
   "metadata": {},
   "outputs": [],
   "source": [
    "def countingValleys(n, steps):\n",
    "    seaLevel = valley = 0\n",
    "\n",
    "    for step in steps:\n",
    "        if step == 'U':\n",
    "            seaLevel += 1\n",
    "        else:\n",
    "            seaLevel -= 1\n",
    "        \n",
    "        if step == 'U' and seaLevel == 0:\n",
    "            valley += 1\n",
    "    \n",
    "    return valley"
   ]
  },
  {
   "cell_type": "code",
   "execution_count": 3,
   "metadata": {},
   "outputs": [
    {
     "ename": "NameError",
     "evalue": "name 'UDDDUDUU' is not defined",
     "output_type": "error",
     "traceback": [
      "\u001b[1;31m---------------------------------------------------------------------------\u001b[0m",
      "\u001b[1;31mNameError\u001b[0m                                 Traceback (most recent call last)",
      "\u001b[1;32m<ipython-input-3-34ea804b1aea>\u001b[0m in \u001b[0;36m<module>\u001b[1;34m\u001b[0m\n\u001b[1;32m----> 1\u001b[1;33m \u001b[0mcountingValleys\u001b[0m\u001b[1;33m(\u001b[0m\u001b[1;36m8\u001b[0m\u001b[1;33m,\u001b[0m\u001b[1;33m[\u001b[0m\u001b[0mUDDDUDUU\u001b[0m\u001b[1;33m]\u001b[0m\u001b[1;33m)\u001b[0m\u001b[1;33m\u001b[0m\u001b[1;33m\u001b[0m\u001b[0m\n\u001b[0m",
      "\u001b[1;31mNameError\u001b[0m: name 'UDDDUDUU' is not defined"
     ]
    }
   ],
   "source": [
    "countingValleys(8,[UDDDUDUU])"
   ]
  },
  {
   "cell_type": "code",
   "execution_count": 7,
   "metadata": {},
   "outputs": [],
   "source": [
    "triples = [ (x,y,z) for x in range(1,4) for y in range(2,5) for z in range(5,8) if x+y > z ]"
   ]
  },
  {
   "cell_type": "code",
   "execution_count": 8,
   "metadata": {},
   "outputs": [
    {
     "data": {
      "text/plain": [
       "[(2, 4, 5), (3, 3, 5), (3, 4, 5), (3, 4, 6)]"
      ]
     },
     "execution_count": 8,
     "metadata": {},
     "output_type": "execute_result"
    }
   ],
   "source": [
    "triples"
   ]
  },
  {
   "cell_type": "code",
   "execution_count": 17,
   "metadata": {},
   "outputs": [
    {
     "name": "stdout",
     "output_type": "stream",
     "text": [
      "2 4 5\n",
      "3 3 5\n",
      "3 4 5\n",
      "3 4 6\n"
     ]
    }
   ],
   "source": [
    "triples = []\n",
    "for x in range(1,4):\n",
    "    # x = 1,2,3\n",
    "    \n",
    "    for y in range(2,5):\n",
    "            # y = 2,3,4\n",
    "            \n",
    "            for z in range(5,8):\n",
    "                # z = 5,6,7\n",
    "                \n",
    "                if x+y > z:\n",
    "                    print(x,y,z)\n",
    "                    triples.append((x,y,z))"
   ]
  },
  {
   "cell_type": "code",
   "execution_count": 10,
   "metadata": {},
   "outputs": [
    {
     "data": {
      "text/plain": [
       "[(2, 4, 5), (3, 3, 5), (3, 4, 5), (3, 4, 6)]"
      ]
     },
     "execution_count": 10,
     "metadata": {},
     "output_type": "execute_result"
    }
   ],
   "source": [
    "triples"
   ]
  },
  {
   "cell_type": "code",
   "execution_count": 18,
   "metadata": {},
   "outputs": [],
   "source": [
    "def mystery(l):\n",
    "    if (l == []):\n",
    "        return(l)\n",
    "    else:\n",
    "        mid = len(l)//2\n",
    "        if (len(l)%2 == 0):\n",
    "            return l[mid-1:mid+1] + mystery(l[:mid-1]+l[mid+1:])\n",
    "        else:\n",
    "            return l[mid:mid+1] + mystery(l[:mid]+l[mid+1:])"
   ]
  },
  {
   "cell_type": "code",
   "execution_count": 19,
   "metadata": {},
   "outputs": [
    {
     "data": {
      "text/plain": [
       "[19, 65, 14, 82, 22, 55]"
      ]
     },
     "execution_count": 19,
     "metadata": {},
     "output_type": "execute_result"
    }
   ],
   "source": [
    "mystery([22,14,19,65,82,55])"
   ]
  },
  {
   "cell_type": "code",
   "execution_count": 22,
   "metadata": {},
   "outputs": [],
   "source": [
    "l=[22,14,19,65,82,55]"
   ]
  },
  {
   "cell_type": "code",
   "execution_count": 23,
   "metadata": {},
   "outputs": [],
   "source": [
    "mid=len(l)//2"
   ]
  },
  {
   "cell_type": "code",
   "execution_count": 24,
   "metadata": {},
   "outputs": [
    {
     "data": {
      "text/plain": [
       "3"
      ]
     },
     "execution_count": 24,
     "metadata": {},
     "output_type": "execute_result"
    }
   ],
   "source": [
    "mid"
   ]
  },
  {
   "cell_type": "code",
   "execution_count": 25,
   "metadata": {},
   "outputs": [
    {
     "data": {
      "text/plain": [
       "[19, 65]"
      ]
     },
     "execution_count": 25,
     "metadata": {},
     "output_type": "execute_result"
    }
   ],
   "source": [
    "l[mid-1:mid+1] #[2:4]"
   ]
  },
  {
   "cell_type": "code",
   "execution_count": 26,
   "metadata": {},
   "outputs": [
    {
     "data": {
      "text/plain": [
       "[22, 14, 82, 55]"
      ]
     },
     "execution_count": 26,
     "metadata": {},
     "output_type": "execute_result"
    }
   ],
   "source": [
    "l[:mid-1]+l[mid+1:]"
   ]
  },
  {
   "cell_type": "code",
   "execution_count": null,
   "metadata": {},
   "outputs": [],
   "source": []
  }
 ],
 "metadata": {
  "kernelspec": {
   "display_name": "Python 3",
   "language": "python",
   "name": "python3"
  },
  "language_info": {
   "codemirror_mode": {
    "name": "ipython",
    "version": 3
   },
   "file_extension": ".py",
   "mimetype": "text/x-python",
   "name": "python",
   "nbconvert_exporter": "python",
   "pygments_lexer": "ipython3",
   "version": "3.7.3"
  }
 },
 "nbformat": 4,
 "nbformat_minor": 2
}
